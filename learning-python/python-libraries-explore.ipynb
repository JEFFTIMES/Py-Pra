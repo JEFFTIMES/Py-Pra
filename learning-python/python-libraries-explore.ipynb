{
 "cells": [
  {
   "cell_type": "markdown",
   "id": "4d12d12a",
   "metadata": {},
   "source": [
    "# python library explore"
   ]
  },
  {
   "cell_type": "markdown",
   "id": "51ea6ea6",
   "metadata": {},
   "source": [
    "## sys"
   ]
  },
  {
   "cell_type": "code",
   "execution_count": 1,
   "id": "7a9ed2f5",
   "metadata": {},
   "outputs": [],
   "source": [
    "import sys, pprint"
   ]
  },
  {
   "cell_type": "code",
   "execution_count": 3,
   "id": "2808d3a1",
   "metadata": {},
   "outputs": [
    {
     "name": "stdout",
     "output_type": "stream",
     "text": [
      "No Python documentation found for 'darwin'.\n",
      "Use help() to get the interactive help utility.\n",
      "Use help(str) for help on the str class.\n",
      "\n"
     ]
    }
   ],
   "source": [
    "help(sys.platform)"
   ]
  },
  {
   "cell_type": "code",
   "execution_count": 5,
   "id": "c4819391",
   "metadata": {},
   "outputs": [
    {
     "data": {
      "text/plain": [
       "'darwin'"
      ]
     },
     "execution_count": 5,
     "metadata": {},
     "output_type": "execute_result"
    }
   ],
   "source": [
    "sys.platform"
   ]
  },
  {
   "cell_type": "code",
   "execution_count": 6,
   "id": "a06d91b4",
   "metadata": {},
   "outputs": [
    {
     "data": {
      "text/plain": [
       "['/Users/jeffsong/Dev/python-prac',\n",
       " '/Users/jeffsong/opt/anaconda3/lib/python38.zip',\n",
       " '/Users/jeffsong/opt/anaconda3/lib/python3.8',\n",
       " '/Users/jeffsong/opt/anaconda3/lib/python3.8/lib-dynload',\n",
       " '',\n",
       " '/Users/jeffsong/opt/anaconda3/lib/python3.8/site-packages',\n",
       " '/Users/jeffsong/opt/anaconda3/lib/python3.8/site-packages/aeosa',\n",
       " '/Users/jeffsong/opt/anaconda3/lib/python3.8/site-packages/locket-0.2.1-py3.8.egg',\n",
       " '/Users/jeffsong/opt/anaconda3/lib/python3.8/site-packages/IPython/extensions',\n",
       " '/Users/jeffsong/.ipython']"
      ]
     },
     "execution_count": 6,
     "metadata": {},
     "output_type": "execute_result"
    }
   ],
   "source": [
    "sys.path"
   ]
  },
  {
   "cell_type": "code",
   "execution_count": 7,
   "id": "a0afc274",
   "metadata": {},
   "outputs": [
    {
     "data": {
      "text/plain": [
       "'/Users/jeffsong/opt/anaconda3/lib/python3.8/copy.py'"
      ]
     },
     "execution_count": 7,
     "metadata": {},
     "output_type": "execute_result"
    }
   ],
   "source": [
    "import copy\n",
    "copy.__file__"
   ]
  },
  {
   "cell_type": "code",
   "execution_count": 8,
   "id": "272db1e8",
   "metadata": {},
   "outputs": [
    {
     "data": {
      "text/plain": [
       "<_io.TextIOWrapper name='<stdin>' mode='r' encoding='utf-8'>"
      ]
     },
     "execution_count": 8,
     "metadata": {},
     "output_type": "execute_result"
    }
   ],
   "source": [
    "sys.stdin"
   ]
  },
  {
   "cell_type": "code",
   "execution_count": 13,
   "id": "84e4db61",
   "metadata": {},
   "outputs": [
    {
     "name": "stdout",
     "output_type": "stream",
     "text": [
      "{'IPython': <module 'IPython' from '/Users/jeffsong/opt/anaconda3/lib/python3.8/site-packages/IPython/__init__.py'>,\n",
      " 'IPython.core': <module 'IPython.core' from '/Users/jeffsong/opt/anaconda3/lib/python3.8/site-packages/IPython/core/__init__.py'>,\n",
      " 'IPython.core.alias': <module 'IPython.core.alias' from '/Users/jeffsong/opt/anaconda3/lib/python3.8/site-packages/IPython/core/alias.py'>,\n",
      " 'IPython.core.application': <module 'IPython.core.application' from '/Users/jeffsong/opt/anaconda3/lib/python3.8/site-packages/IPython/core/application.py'>,\n",
      " 'IPython.core.async_helpers': <module 'IPython.core.async_helpers' from '/Users/jeffsong/opt/anaconda3/lib/python3.8/site-packages/IPython/core/async_helpers.py'>,\n",
      " 'IPython.core.autocall': <module 'IPython.core.autocall' from '/Users/jeffsong/opt/anaconda3/lib/python3.8/site-packages/IPython/core/autocall.py'>,\n",
      " 'IPython.core.builtin_trap': <module 'IPython.core.builtin_trap' from '/Users/jeffsong/opt/anaconda3/lib/python3.8/site-packages/IPython/core/builtin_trap.py'>,\n",
      " 'IPython.core.compilerop': <module 'IPython.core.compilerop' from '/Users/jeffsong/opt/anaconda3/lib/python3.8/site-packages/IPython/core/compilerop.py'>,\n",
      " 'IPython.core.completer': <module 'IPython.core.completer' from '/Users/jeffsong/opt/anaconda3/lib/python3.8/site-packages/IPython/core/completer.py'>,\n",
      " 'IPython.core.completerlib': <module 'IPython.core.completerlib' from '/Users/jeffsong/opt/anaconda3/lib/python3.8/site-packages/IPython/core/completerlib.py'>,\n",
      " 'IPython.core.crashhandler': <module 'IPython.core.crashhandler' from '/Users/jeffsong/opt/anaconda3/lib/python3.8/site-packages/IPython/core/crashhandler.py'>,\n",
      " 'IPython.core.debugger': <module 'IPython.core.debugger' from '/Users/jeffsong/opt/anaconda3/lib/python3.8/site-packages/IPython/core/debugger.py'>,\n",
      " 'IPython.core.display': <module 'IPython.core.display' from '/Users/jeffsong/opt/anaconda3/lib/python3.8/site-packages/IPython/core/display.py'>,\n",
      " 'IPython.core.display_trap': <module 'IPython.core.display_trap' from '/Users/jeffsong/opt/anaconda3/lib/python3.8/site-packages/IPython/core/display_trap.py'>,\n",
      " 'IPython.core.displayhook': <module 'IPython.core.displayhook' from '/Users/jeffsong/opt/anaconda3/lib/python3.8/site-packages/IPython/core/displayhook.py'>,\n",
      " 'IPython.core.displaypub': <module 'IPython.core.displaypub' from '/Users/jeffsong/opt/anaconda3/lib/python3.8/site-packages/IPython/core/displaypub.py'>,\n",
      " 'IPython.core.error': <module 'IPython.core.error' from '/Users/jeffsong/opt/anaconda3/lib/python3.8/site-packages/IPython/core/error.py'>,\n",
      " 'IPython.core.events': <module 'IPython.core.events' from '/Users/jeffsong/opt/anaconda3/lib/python3.8/site-packages/IPython/core/events.py'>,\n",
      " 'IPython.core.excolors': <module 'IPython.core.excolors' from '/Users/jeffsong/opt/anaconda3/lib/python3.8/site-packages/IPython/core/excolors.py'>,\n",
      " 'IPython.core.extensions': <module 'IPython.core.extensions' from '/Users/jeffsong/opt/anaconda3/lib/python3.8/site-packages/IPython/core/extensions.py'>,\n",
      " 'IPython.core.formatters': <module 'IPython.core.formatters' from '/Users/jeffsong/opt/anaconda3/lib/python3.8/site-packages/IPython/core/formatters.py'>,\n",
      " 'IPython.core.getipython': <module 'IPython.core.getipython' from '/Users/jeffsong/opt/anaconda3/lib/python3.8/site-packages/IPython/core/getipython.py'>,\n",
      " 'IPython.core.history': <module 'IPython.core.history' from '/Users/jeffsong/opt/anaconda3/lib/python3.8/site-packages/IPython/core/history.py'>,\n",
      " 'IPython.core.hooks': <module 'IPython.core.hooks' from '/Users/jeffsong/opt/anaconda3/lib/python3.8/site-packages/IPython/core/hooks.py'>,\n",
      " 'IPython.core.inputtransformer2': <module 'IPython.core.inputtransformer2' from '/Users/jeffsong/opt/anaconda3/lib/python3.8/site-packages/IPython/core/inputtransformer2.py'>,\n",
      " 'IPython.core.interactiveshell': <module 'IPython.core.interactiveshell' from '/Users/jeffsong/opt/anaconda3/lib/python3.8/site-packages/IPython/core/interactiveshell.py'>,\n",
      " 'IPython.core.latex_symbols': <module 'IPython.core.latex_symbols' from '/Users/jeffsong/opt/anaconda3/lib/python3.8/site-packages/IPython/core/latex_symbols.py'>,\n",
      " 'IPython.core.logger': <module 'IPython.core.logger' from '/Users/jeffsong/opt/anaconda3/lib/python3.8/site-packages/IPython/core/logger.py'>,\n",
      " 'IPython.core.macro': <module 'IPython.core.macro' from '/Users/jeffsong/opt/anaconda3/lib/python3.8/site-packages/IPython/core/macro.py'>,\n",
      " 'IPython.core.magic': <module 'IPython.core.magic' from '/Users/jeffsong/opt/anaconda3/lib/python3.8/site-packages/IPython/core/magic.py'>,\n",
      " 'IPython.core.magic_arguments': <module 'IPython.core.magic_arguments' from '/Users/jeffsong/opt/anaconda3/lib/python3.8/site-packages/IPython/core/magic_arguments.py'>,\n",
      " 'IPython.core.magics': <module 'IPython.core.magics' from '/Users/jeffsong/opt/anaconda3/lib/python3.8/site-packages/IPython/core/magics/__init__.py'>,\n",
      " 'IPython.core.magics.auto': <module 'IPython.core.magics.auto' from '/Users/jeffsong/opt/anaconda3/lib/python3.8/site-packages/IPython/core/magics/auto.py'>,\n",
      " 'IPython.core.magics.basic': <module 'IPython.core.magics.basic' from '/Users/jeffsong/opt/anaconda3/lib/python3.8/site-packages/IPython/core/magics/basic.py'>,\n",
      " 'IPython.core.magics.code': <module 'IPython.core.magics.code' from '/Users/jeffsong/opt/anaconda3/lib/python3.8/site-packages/IPython/core/magics/code.py'>,\n",
      " 'IPython.core.magics.config': <module 'IPython.core.magics.config' from '/Users/jeffsong/opt/anaconda3/lib/python3.8/site-packages/IPython/core/magics/config.py'>,\n",
      " 'IPython.core.magics.display': <module 'IPython.core.magics.display' from '/Users/jeffsong/opt/anaconda3/lib/python3.8/site-packages/IPython/core/magics/display.py'>,\n",
      " 'IPython.core.magics.execution': <module 'IPython.core.magics.execution' from '/Users/jeffsong/opt/anaconda3/lib/python3.8/site-packages/IPython/core/magics/execution.py'>,\n",
      " 'IPython.core.magics.extension': <module 'IPython.core.magics.extension' from '/Users/jeffsong/opt/anaconda3/lib/python3.8/site-packages/IPython/core/magics/extension.py'>,\n",
      " 'IPython.core.magics.history': <module 'IPython.core.magics.history' from '/Users/jeffsong/opt/anaconda3/lib/python3.8/site-packages/IPython/core/magics/history.py'>,\n",
      " 'IPython.core.magics.logging': <module 'IPython.core.magics.logging' from '/Users/jeffsong/opt/anaconda3/lib/python3.8/site-packages/IPython/core/magics/logging.py'>,\n",
      " 'IPython.core.magics.namespace': <module 'IPython.core.magics.namespace' from '/Users/jeffsong/opt/anaconda3/lib/python3.8/site-packages/IPython/core/magics/namespace.py'>,\n",
      " 'IPython.core.magics.osm': <module 'IPython.core.magics.osm' from '/Users/jeffsong/opt/anaconda3/lib/python3.8/site-packages/IPython/core/magics/osm.py'>,\n",
      " 'IPython.core.magics.packaging': <module 'IPython.core.magics.packaging' from '/Users/jeffsong/opt/anaconda3/lib/python3.8/site-packages/IPython/core/magics/packaging.py'>,\n",
      " 'IPython.core.magics.pylab': <module 'IPython.core.magics.pylab' from '/Users/jeffsong/opt/anaconda3/lib/python3.8/site-packages/IPython/core/magics/pylab.py'>,\n",
      " 'IPython.core.magics.script': <module 'IPython.core.magics.script' from '/Users/jeffsong/opt/anaconda3/lib/python3.8/site-packages/IPython/core/magics/script.py'>,\n",
      " 'IPython.core.oinspect': <module 'IPython.core.oinspect' from '/Users/jeffsong/opt/anaconda3/lib/python3.8/site-packages/IPython/core/oinspect.py'>,\n",
      " 'IPython.core.page': <module 'IPython.core.page' from '/Users/jeffsong/opt/anaconda3/lib/python3.8/site-packages/IPython/core/page.py'>,\n",
      " 'IPython.core.payload': <module 'IPython.core.payload' from '/Users/jeffsong/opt/anaconda3/lib/python3.8/site-packages/IPython/core/payload.py'>,\n",
      " 'IPython.core.payloadpage': <module 'IPython.core.payloadpage' from '/Users/jeffsong/opt/anaconda3/lib/python3.8/site-packages/IPython/core/payloadpage.py'>,\n",
      " 'IPython.core.prefilter': <module 'IPython.core.prefilter' from '/Users/jeffsong/opt/anaconda3/lib/python3.8/site-packages/IPython/core/prefilter.py'>,\n",
      " 'IPython.core.profiledir': <module 'IPython.core.profiledir' from '/Users/jeffsong/opt/anaconda3/lib/python3.8/site-packages/IPython/core/profiledir.py'>,\n",
      " 'IPython.core.pylabtools': <module 'IPython.core.pylabtools' from '/Users/jeffsong/opt/anaconda3/lib/python3.8/site-packages/IPython/core/pylabtools.py'>,\n",
      " 'IPython.core.release': <module 'IPython.core.release' from '/Users/jeffsong/opt/anaconda3/lib/python3.8/site-packages/IPython/core/release.py'>,\n",
      " 'IPython.core.shellapp': <module 'IPython.core.shellapp' from '/Users/jeffsong/opt/anaconda3/lib/python3.8/site-packages/IPython/core/shellapp.py'>,\n",
      " 'IPython.core.splitinput': <module 'IPython.core.splitinput' from '/Users/jeffsong/opt/anaconda3/lib/python3.8/site-packages/IPython/core/splitinput.py'>,\n",
      " 'IPython.core.ultratb': <module 'IPython.core.ultratb' from '/Users/jeffsong/opt/anaconda3/lib/python3.8/site-packages/IPython/core/ultratb.py'>,\n",
      " 'IPython.core.usage': <module 'IPython.core.usage' from '/Users/jeffsong/opt/anaconda3/lib/python3.8/site-packages/IPython/core/usage.py'>,\n",
      " 'IPython.display': <module 'IPython.display' from '/Users/jeffsong/opt/anaconda3/lib/python3.8/site-packages/IPython/display.py'>,\n",
      " 'IPython.extensions': <module 'IPython.extensions' from '/Users/jeffsong/opt/anaconda3/lib/python3.8/site-packages/IPython/extensions/__init__.py'>,\n",
      " 'IPython.extensions.storemagic': <module 'IPython.extensions.storemagic' from '/Users/jeffsong/opt/anaconda3/lib/python3.8/site-packages/IPython/extensions/storemagic.py'>,\n",
      " 'IPython.lib': <module 'IPython.lib' from '/Users/jeffsong/opt/anaconda3/lib/python3.8/site-packages/IPython/lib/__init__.py'>,\n",
      " 'IPython.lib.backgroundjobs': <module 'IPython.lib.backgroundjobs' from '/Users/jeffsong/opt/anaconda3/lib/python3.8/site-packages/IPython/lib/backgroundjobs.py'>,\n",
      " 'IPython.lib.clipboard': <module 'IPython.lib.clipboard' from '/Users/jeffsong/opt/anaconda3/lib/python3.8/site-packages/IPython/lib/clipboard.py'>,\n",
      " 'IPython.lib.display': <module 'IPython.lib.display' from '/Users/jeffsong/opt/anaconda3/lib/python3.8/site-packages/IPython/lib/display.py'>,\n",
      " 'IPython.lib.pretty': <module 'IPython.lib.pretty' from '/Users/jeffsong/opt/anaconda3/lib/python3.8/site-packages/IPython/lib/pretty.py'>,\n",
      " 'IPython.lib.security': <module 'IPython.lib.security' from '/Users/jeffsong/opt/anaconda3/lib/python3.8/site-packages/IPython/lib/security.py'>,\n",
      " 'IPython.paths': <module 'IPython.paths' from '/Users/jeffsong/opt/anaconda3/lib/python3.8/site-packages/IPython/paths.py'>,\n",
      " 'IPython.terminal': <module 'IPython.terminal' from '/Users/jeffsong/opt/anaconda3/lib/python3.8/site-packages/IPython/terminal/__init__.py'>,\n",
      " 'IPython.terminal.debugger': <module 'IPython.terminal.debugger' from '/Users/jeffsong/opt/anaconda3/lib/python3.8/site-packages/IPython/terminal/debugger.py'>,\n",
      " 'IPython.terminal.embed': <module 'IPython.terminal.embed' from '/Users/jeffsong/opt/anaconda3/lib/python3.8/site-packages/IPython/terminal/embed.py'>,\n",
      " 'IPython.terminal.interactiveshell': <module 'IPython.terminal.interactiveshell' from '/Users/jeffsong/opt/anaconda3/lib/python3.8/site-packages/IPython/terminal/interactiveshell.py'>,\n",
      " 'IPython.terminal.ipapp': <module 'IPython.terminal.ipapp' from '/Users/jeffsong/opt/anaconda3/lib/python3.8/site-packages/IPython/terminal/ipapp.py'>,\n",
      " 'IPython.terminal.magics': <module 'IPython.terminal.magics' from '/Users/jeffsong/opt/anaconda3/lib/python3.8/site-packages/IPython/terminal/magics.py'>,\n",
      " 'IPython.terminal.prompts': <module 'IPython.terminal.prompts' from '/Users/jeffsong/opt/anaconda3/lib/python3.8/site-packages/IPython/terminal/prompts.py'>,\n",
      " 'IPython.terminal.pt_inputhooks': <module 'IPython.terminal.pt_inputhooks' from '/Users/jeffsong/opt/anaconda3/lib/python3.8/site-packages/IPython/terminal/pt_inputhooks/__init__.py'>,\n",
      " 'IPython.terminal.ptutils': <module 'IPython.terminal.ptutils' from '/Users/jeffsong/opt/anaconda3/lib/python3.8/site-packages/IPython/terminal/ptutils.py'>,\n",
      " 'IPython.terminal.shortcuts': <module 'IPython.terminal.shortcuts' from '/Users/jeffsong/opt/anaconda3/lib/python3.8/site-packages/IPython/terminal/shortcuts.py'>,\n",
      " 'IPython.testing': <module 'IPython.testing' from '/Users/jeffsong/opt/anaconda3/lib/python3.8/site-packages/IPython/testing/__init__.py'>,\n",
      " 'IPython.testing.skipdoctest': <module 'IPython.testing.skipdoctest' from '/Users/jeffsong/opt/anaconda3/lib/python3.8/site-packages/IPython/testing/skipdoctest.py'>,\n",
      " 'IPython.utils': <module 'IPython.utils' from '/Users/jeffsong/opt/anaconda3/lib/python3.8/site-packages/IPython/utils/__init__.py'>,\n",
      " 'IPython.utils.PyColorize': <module 'IPython.utils.PyColorize' from '/Users/jeffsong/opt/anaconda3/lib/python3.8/site-packages/IPython/utils/PyColorize.py'>,\n",
      " 'IPython.utils._process_common': <module 'IPython.utils._process_common' from '/Users/jeffsong/opt/anaconda3/lib/python3.8/site-packages/IPython/utils/_process_common.py'>,\n",
      " 'IPython.utils._process_posix': <module 'IPython.utils._process_posix' from '/Users/jeffsong/opt/anaconda3/lib/python3.8/site-packages/IPython/utils/_process_posix.py'>,\n",
      " 'IPython.utils._sysinfo': <module 'IPython.utils._sysinfo' from '/Users/jeffsong/opt/anaconda3/lib/python3.8/site-packages/IPython/utils/_sysinfo.py'>,\n",
      " 'IPython.utils.capture': <module 'IPython.utils.capture' from '/Users/jeffsong/opt/anaconda3/lib/python3.8/site-packages/IPython/utils/capture.py'>,\n",
      " 'IPython.utils.colorable': <module 'IPython.utils.colorable' from '/Users/jeffsong/opt/anaconda3/lib/python3.8/site-packages/IPython/utils/colorable.py'>,\n",
      " 'IPython.utils.coloransi': <module 'IPython.utils.coloransi' from '/Users/jeffsong/opt/anaconda3/lib/python3.8/site-packages/IPython/utils/coloransi.py'>,\n",
      " 'IPython.utils.contexts': <module 'IPython.utils.contexts' from '/Users/jeffsong/opt/anaconda3/lib/python3.8/site-packages/IPython/utils/contexts.py'>,\n",
      " 'IPython.utils.data': <module 'IPython.utils.data' from '/Users/jeffsong/opt/anaconda3/lib/python3.8/site-packages/IPython/utils/data.py'>,\n",
      " 'IPython.utils.decorators': <module 'IPython.utils.decorators' from '/Users/jeffsong/opt/anaconda3/lib/python3.8/site-packages/IPython/utils/decorators.py'>,\n",
      " 'IPython.utils.dir2': <module 'IPython.utils.dir2' from '/Users/jeffsong/opt/anaconda3/lib/python3.8/site-packages/IPython/utils/dir2.py'>,\n",
      " 'IPython.utils.encoding': <module 'IPython.utils.encoding' from '/Users/jeffsong/opt/anaconda3/lib/python3.8/site-packages/IPython/utils/encoding.py'>,\n",
      " 'IPython.utils.frame': <module 'IPython.utils.frame' from '/Users/jeffsong/opt/anaconda3/lib/python3.8/site-packages/IPython/utils/frame.py'>,\n",
      " 'IPython.utils.generics': <module 'IPython.utils.generics' from '/Users/jeffsong/opt/anaconda3/lib/python3.8/site-packages/IPython/utils/generics.py'>,\n",
      " 'IPython.utils.importstring': <module 'IPython.utils.importstring' from '/Users/jeffsong/opt/anaconda3/lib/python3.8/site-packages/IPython/utils/importstring.py'>,\n",
      " 'IPython.utils.io': <module 'IPython.utils.io' from '/Users/jeffsong/opt/anaconda3/lib/python3.8/site-packages/IPython/utils/io.py'>,\n",
      " 'IPython.utils.ipstruct': <module 'IPython.utils.ipstruct' from '/Users/jeffsong/opt/anaconda3/lib/python3.8/site-packages/IPython/utils/ipstruct.py'>,\n",
      " 'IPython.utils.module_paths': <module 'IPython.utils.module_paths' from '/Users/jeffsong/opt/anaconda3/lib/python3.8/site-packages/IPython/utils/module_paths.py'>,\n",
      " 'IPython.utils.openpy': <module 'IPython.utils.openpy' from '/Users/jeffsong/opt/anaconda3/lib/python3.8/site-packages/IPython/utils/openpy.py'>,\n",
      " 'IPython.utils.path': <module 'IPython.utils.path' from '/Users/jeffsong/opt/anaconda3/lib/python3.8/site-packages/IPython/utils/path.py'>,\n",
      " 'IPython.utils.process': <module 'IPython.utils.process' from '/Users/jeffsong/opt/anaconda3/lib/python3.8/site-packages/IPython/utils/process.py'>,\n",
      " 'IPython.utils.py3compat': <module 'IPython.utils.py3compat' from '/Users/jeffsong/opt/anaconda3/lib/python3.8/site-packages/IPython/utils/py3compat.py'>,\n",
      " 'IPython.utils.sentinel': <module 'IPython.utils.sentinel' from '/Users/jeffsong/opt/anaconda3/lib/python3.8/site-packages/IPython/utils/sentinel.py'>,\n",
      " 'IPython.utils.strdispatch': <module 'IPython.utils.strdispatch' from '/Users/jeffsong/opt/anaconda3/lib/python3.8/site-packages/IPython/utils/strdispatch.py'>,\n",
      " 'IPython.utils.sysinfo': <module 'IPython.utils.sysinfo' from '/Users/jeffsong/opt/anaconda3/lib/python3.8/site-packages/IPython/utils/sysinfo.py'>,\n",
      " 'IPython.utils.syspathcontext': <module 'IPython.utils.syspathcontext' from '/Users/jeffsong/opt/anaconda3/lib/python3.8/site-packages/IPython/utils/syspathcontext.py'>,\n",
      " 'IPython.utils.tempdir': <module 'IPython.utils.tempdir' from '/Users/jeffsong/opt/anaconda3/lib/python3.8/site-packages/IPython/utils/tempdir.py'>,\n",
      " 'IPython.utils.terminal': <module 'IPython.utils.terminal' from '/Users/jeffsong/opt/anaconda3/lib/python3.8/site-packages/IPython/utils/terminal.py'>,\n",
      " 'IPython.utils.text': <module 'IPython.utils.text' from '/Users/jeffsong/opt/anaconda3/lib/python3.8/site-packages/IPython/utils/text.py'>,\n",
      " 'IPython.utils.timing': <module 'IPython.utils.timing' from '/Users/jeffsong/opt/anaconda3/lib/python3.8/site-packages/IPython/utils/timing.py'>,\n",
      " 'IPython.utils.tokenutil': <module 'IPython.utils.tokenutil' from '/Users/jeffsong/opt/anaconda3/lib/python3.8/site-packages/IPython/utils/tokenutil.py'>,\n",
      " 'IPython.utils.wildcard': <module 'IPython.utils.wildcard' from '/Users/jeffsong/opt/anaconda3/lib/python3.8/site-packages/IPython/utils/wildcard.py'>,\n",
      " '__future__': <module '__future__' from '/Users/jeffsong/opt/anaconda3/lib/python3.8/__future__.py'>,\n",
      " '__main__': <module '__main__'>,\n",
      " '_abc': <module '_abc' (built-in)>,\n",
      " '_ast': <module '_ast' (built-in)>,\n",
      " '_asyncio': <module '_asyncio' from '/Users/jeffsong/opt/anaconda3/lib/python3.8/lib-dynload/_asyncio.cpython-38-darwin.so'>,\n",
      " '_bisect': <module '_bisect' from '/Users/jeffsong/opt/anaconda3/lib/python3.8/lib-dynload/_bisect.cpython-38-darwin.so'>,\n",
      " '_blake2': <module '_blake2' from '/Users/jeffsong/opt/anaconda3/lib/python3.8/lib-dynload/_blake2.cpython-38-darwin.so'>,\n",
      " '_bootlocale': <module '_bootlocale' from '/Users/jeffsong/opt/anaconda3/lib/python3.8/_bootlocale.py'>,\n",
      " '_bz2': <module '_bz2' from '/Users/jeffsong/opt/anaconda3/lib/python3.8/lib-dynload/_bz2.cpython-38-darwin.so'>,\n",
      " '_codecs': <module '_codecs' (built-in)>,\n",
      " '_collections': <module '_collections' (built-in)>,\n",
      " '_collections_abc': <module '_collections_abc' from '/Users/jeffsong/opt/anaconda3/lib/python3.8/_collections_abc.py'>,\n",
      " '_compat_pickle': <module '_compat_pickle' from '/Users/jeffsong/opt/anaconda3/lib/python3.8/_compat_pickle.py'>,\n",
      " '_compression': <module '_compression' from '/Users/jeffsong/opt/anaconda3/lib/python3.8/_compression.py'>,\n",
      " '_contextvars': <module '_contextvars' from '/Users/jeffsong/opt/anaconda3/lib/python3.8/lib-dynload/_contextvars.cpython-38-darwin.so'>,\n",
      " '_ctypes': <module '_ctypes' from '/Users/jeffsong/opt/anaconda3/lib/python3.8/lib-dynload/_ctypes.cpython-38-darwin.so'>,\n",
      " '_curses': <module '_curses' from '/Users/jeffsong/opt/anaconda3/lib/python3.8/lib-dynload/_curses.cpython-38-darwin.so'>,\n",
      " '_cython_0_29_24': <module '_cython_0_29_24'>,\n",
      " '_datetime': <module '_datetime' from '/Users/jeffsong/opt/anaconda3/lib/python3.8/lib-dynload/_datetime.cpython-38-darwin.so'>,\n",
      " '_decimal': <module '_decimal' from '/Users/jeffsong/opt/anaconda3/lib/python3.8/lib-dynload/_decimal.cpython-38-darwin.so'>,\n",
      " '_frozen_importlib': <module 'importlib._bootstrap' (frozen)>,\n",
      " '_frozen_importlib_external': <module 'importlib._bootstrap_external' (frozen)>,\n",
      " '_functools': <module '_functools' (built-in)>,\n",
      " '_hashlib': <module '_hashlib' from '/Users/jeffsong/opt/anaconda3/lib/python3.8/lib-dynload/_hashlib.cpython-38-darwin.so'>,\n",
      " '_heapq': <module '_heapq' from '/Users/jeffsong/opt/anaconda3/lib/python3.8/lib-dynload/_heapq.cpython-38-darwin.so'>,\n",
      " '_imp': <module '_imp' (built-in)>,\n",
      " '_io': <module 'io' (built-in)>,\n",
      " '_json': <module '_json' from '/Users/jeffsong/opt/anaconda3/lib/python3.8/lib-dynload/_json.cpython-38-darwin.so'>,\n",
      " '_locale': <module '_locale' (built-in)>,\n",
      " '_lsprof': <module '_lsprof' from '/Users/jeffsong/opt/anaconda3/lib/python3.8/lib-dynload/_lsprof.cpython-38-darwin.so'>,\n",
      " '_lzma': <module '_lzma' from '/Users/jeffsong/opt/anaconda3/lib/python3.8/lib-dynload/_lzma.cpython-38-darwin.so'>,\n",
      " '_opcode': <module '_opcode' from '/Users/jeffsong/opt/anaconda3/lib/python3.8/lib-dynload/_opcode.cpython-38-darwin.so'>,\n",
      " '_operator': <module '_operator' (built-in)>,\n",
      " '_osx_support': <module '_osx_support' from '/Users/jeffsong/opt/anaconda3/lib/python3.8/_osx_support.py'>,\n",
      " '_pickle': <module '_pickle' from '/Users/jeffsong/opt/anaconda3/lib/python3.8/lib-dynload/_pickle.cpython-38-darwin.so'>,\n",
      " '_posixsubprocess': <module '_posixsubprocess' from '/Users/jeffsong/opt/anaconda3/lib/python3.8/lib-dynload/_posixsubprocess.cpython-38-darwin.so'>,\n",
      " '_pydev_bundle': <module '_pydev_bundle' from '/Users/jeffsong/opt/anaconda3/lib/python3.8/site-packages/debugpy/_vendored/pydevd/_pydev_bundle/__init__.py'>,\n",
      " '_pydev_bundle._pydev_calltip_util': <module '_pydev_bundle._pydev_calltip_util' from '/Users/jeffsong/opt/anaconda3/lib/python3.8/site-packages/debugpy/_vendored/pydevd/_pydev_bundle/_pydev_calltip_util.py'>,\n",
      " '_pydev_bundle._pydev_completer': <module '_pydev_bundle._pydev_completer' from '/Users/jeffsong/opt/anaconda3/lib/python3.8/site-packages/debugpy/_vendored/pydevd/_pydev_bundle/_pydev_completer.py'>,\n",
      " '_pydev_bundle._pydev_filesystem_encoding': <module '_pydev_bundle._pydev_filesystem_encoding' from '/Users/jeffsong/opt/anaconda3/lib/python3.8/site-packages/debugpy/_vendored/pydevd/_pydev_bundle/_pydev_filesystem_encoding.py'>,\n",
      " '_pydev_bundle._pydev_imports_tipper': <module '_pydev_bundle._pydev_imports_tipper' from '/Users/jeffsong/opt/anaconda3/lib/python3.8/site-packages/debugpy/_vendored/pydevd/_pydev_bundle/_pydev_imports_tipper.py'>,\n",
      " '_pydev_bundle._pydev_tipper_common': <module '_pydev_bundle._pydev_tipper_common' from '/Users/jeffsong/opt/anaconda3/lib/python3.8/site-packages/debugpy/_vendored/pydevd/_pydev_bundle/_pydev_tipper_common.py'>,\n",
      " '_pydev_bundle.fsnotify': <module '_pydev_bundle.fsnotify' from '/Users/jeffsong/opt/anaconda3/lib/python3.8/site-packages/debugpy/_vendored/pydevd/_pydev_bundle/fsnotify/__init__.py'>,\n",
      " '_pydev_bundle.pydev_console_utils': <module '_pydev_bundle.pydev_console_utils' from '/Users/jeffsong/opt/anaconda3/lib/python3.8/site-packages/debugpy/_vendored/pydevd/_pydev_bundle/pydev_console_utils.py'>,\n",
      " '_pydev_bundle.pydev_imports': <module '_pydev_bundle.pydev_imports' from '/Users/jeffsong/opt/anaconda3/lib/python3.8/site-packages/debugpy/_vendored/pydevd/_pydev_bundle/pydev_imports.py'>,\n",
      " '_pydev_bundle.pydev_is_thread_alive': <module '_pydev_bundle.pydev_is_thread_alive' from '/Users/jeffsong/opt/anaconda3/lib/python3.8/site-packages/debugpy/_vendored/pydevd/_pydev_bundle/pydev_is_thread_alive.py'>,\n",
      " '_pydev_bundle.pydev_log': <module '_pydev_bundle.pydev_log' from '/Users/jeffsong/opt/anaconda3/lib/python3.8/site-packages/debugpy/_vendored/pydevd/_pydev_bundle/pydev_log.py'>,\n",
      " '_pydev_bundle.pydev_monkey': <module '_pydev_bundle.pydev_monkey' from '/Users/jeffsong/opt/anaconda3/lib/python3.8/site-packages/debugpy/_vendored/pydevd/_pydev_bundle/pydev_monkey.py'>,\n",
      " '_pydev_bundle.pydev_override': <module '_pydev_bundle.pydev_override' from '/Users/jeffsong/opt/anaconda3/lib/python3.8/site-packages/debugpy/_vendored/pydevd/_pydev_bundle/pydev_override.py'>,\n",
      " '_pydev_bundle.pydev_umd': <module '_pydev_bundle.pydev_umd' from '/Users/jeffsong/opt/anaconda3/lib/python3.8/site-packages/debugpy/_vendored/pydevd/_pydev_bundle/pydev_umd.py'>,\n",
      " '_pydev_imps': <module '_pydev_imps' from '/Users/jeffsong/opt/anaconda3/lib/python3.8/site-packages/debugpy/_vendored/pydevd/_pydev_imps/__init__.py'>,\n",
      " '_pydev_imps._pydev_execfile': <module '_pydev_imps._pydev_execfile' from '/Users/jeffsong/opt/anaconda3/lib/python3.8/site-packages/debugpy/_vendored/pydevd/_pydev_imps/_pydev_execfile.py'>,\n",
      " '_pydev_imps._pydev_saved_modules': <module '_pydev_imps._pydev_saved_modules' from '/Users/jeffsong/opt/anaconda3/lib/python3.8/site-packages/debugpy/_vendored/pydevd/_pydev_imps/_pydev_saved_modules.py'>,\n",
      " '_pydev_runfiles': <module '_pydev_runfiles' from '/Users/jeffsong/opt/anaconda3/lib/python3.8/site-packages/debugpy/_vendored/pydevd/_pydev_runfiles/__init__.py'>,\n",
      " '_pydevd_bundle': <module '_pydevd_bundle' from '/Users/jeffsong/opt/anaconda3/lib/python3.8/site-packages/debugpy/_vendored/pydevd/_pydevd_bundle/__init__.py'>,\n",
      " '_pydevd_bundle._debug_adapter': <module '_pydevd_bundle._debug_adapter' from '/Users/jeffsong/opt/anaconda3/lib/python3.8/site-packages/debugpy/_vendored/pydevd/_pydevd_bundle/_debug_adapter/__init__.py'>,\n",
      " '_pydevd_bundle._debug_adapter.pydevd_base_schema': <module '_pydevd_bundle._debug_adapter.pydevd_base_schema' from '/Users/jeffsong/opt/anaconda3/lib/python3.8/site-packages/debugpy/_vendored/pydevd/_pydevd_bundle/_debug_adapter/pydevd_base_schema.py'>,\n",
      " '_pydevd_bundle._debug_adapter.pydevd_schema': <module '_pydevd_bundle._debug_adapter.pydevd_schema' from '/Users/jeffsong/opt/anaconda3/lib/python3.8/site-packages/debugpy/_vendored/pydevd/_pydevd_bundle/_debug_adapter/pydevd_schema.py'>,\n",
      " '_pydevd_bundle._debug_adapter.pydevd_schema_log': <module '_pydevd_bundle._debug_adapter.pydevd_schema_log' from '/Users/jeffsong/opt/anaconda3/lib/python3.8/site-packages/debugpy/_vendored/pydevd/_pydevd_bundle/_debug_adapter/pydevd_schema_log.py'>,\n",
      " '_pydevd_bundle.pydevd_additional_thread_info': <module '_pydevd_bundle.pydevd_additional_thread_info' from '/Users/jeffsong/opt/anaconda3/lib/python3.8/site-packages/debugpy/_vendored/pydevd/_pydevd_bundle/pydevd_additional_thread_info.py'>,\n",
      " '_pydevd_bundle.pydevd_additional_thread_info_regular': <module '_pydevd_bundle.pydevd_additional_thread_info_regular' from '/Users/jeffsong/opt/anaconda3/lib/python3.8/site-packages/debugpy/_vendored/pydevd/_pydevd_bundle/pydevd_additional_thread_info_regular.py'>,\n",
      " '_pydevd_bundle.pydevd_api': <module '_pydevd_bundle.pydevd_api' from '/Users/jeffsong/opt/anaconda3/lib/python3.8/site-packages/debugpy/_vendored/pydevd/_pydevd_bundle/pydevd_api.py'>,\n",
      " '_pydevd_bundle.pydevd_breakpoints': <module '_pydevd_bundle.pydevd_breakpoints' from '/Users/jeffsong/opt/anaconda3/lib/python3.8/site-packages/debugpy/_vendored/pydevd/_pydevd_bundle/pydevd_breakpoints.py'>,\n",
      " '_pydevd_bundle.pydevd_bytecode_utils': <module '_pydevd_bundle.pydevd_bytecode_utils' from '/Users/jeffsong/opt/anaconda3/lib/python3.8/site-packages/debugpy/_vendored/pydevd/_pydevd_bundle/pydevd_bytecode_utils.py'>,\n",
      " '_pydevd_bundle.pydevd_collect_bytecode_info': <module '_pydevd_bundle.pydevd_collect_bytecode_info' from '/Users/jeffsong/opt/anaconda3/lib/python3.8/site-packages/debugpy/_vendored/pydevd/_pydevd_bundle/pydevd_collect_bytecode_info.py'>,\n",
      " '_pydevd_bundle.pydevd_comm': <module '_pydevd_bundle.pydevd_comm' from '/Users/jeffsong/opt/anaconda3/lib/python3.8/site-packages/debugpy/_vendored/pydevd/_pydevd_bundle/pydevd_comm.py'>,\n",
      " '_pydevd_bundle.pydevd_comm_constants': <module '_pydevd_bundle.pydevd_comm_constants' from '/Users/jeffsong/opt/anaconda3/lib/python3.8/site-packages/debugpy/_vendored/pydevd/_pydevd_bundle/pydevd_comm_constants.py'>,\n",
      " '_pydevd_bundle.pydevd_console': <module '_pydevd_bundle.pydevd_console' from '/Users/jeffsong/opt/anaconda3/lib/python3.8/site-packages/debugpy/_vendored/pydevd/_pydevd_bundle/pydevd_console.py'>,\n",
      " '_pydevd_bundle.pydevd_constants': <module '_pydevd_bundle.pydevd_constants' from '/Users/jeffsong/opt/anaconda3/lib/python3.8/site-packages/debugpy/_vendored/pydevd/_pydevd_bundle/pydevd_constants.py'>,\n",
      " '_pydevd_bundle.pydevd_custom_frames': <module '_pydevd_bundle.pydevd_custom_frames' from '/Users/jeffsong/opt/anaconda3/lib/python3.8/site-packages/debugpy/_vendored/pydevd/_pydevd_bundle/pydevd_custom_frames.py'>,\n",
      " '_pydevd_bundle.pydevd_cython': <module '_pydevd_bundle.pydevd_cython' from '/Users/jeffsong/opt/anaconda3/lib/python3.8/site-packages/debugpy/_vendored/pydevd/_pydevd_bundle/pydevd_cython.cpython-38-darwin.so'>,\n",
      " '_pydevd_bundle.pydevd_cython_wrapper': <module '_pydevd_bundle.pydevd_cython_wrapper' from '/Users/jeffsong/opt/anaconda3/lib/python3.8/site-packages/debugpy/_vendored/pydevd/_pydevd_bundle/pydevd_cython_wrapper.py'>,\n",
      " '_pydevd_bundle.pydevd_daemon_thread': <module '_pydevd_bundle.pydevd_daemon_thread' from '/Users/jeffsong/opt/anaconda3/lib/python3.8/site-packages/debugpy/_vendored/pydevd/_pydevd_bundle/pydevd_daemon_thread.py'>,\n",
      " '_pydevd_bundle.pydevd_defaults': <module '_pydevd_bundle.pydevd_defaults' from '/Users/jeffsong/opt/anaconda3/lib/python3.8/site-packages/debugpy/_vendored/pydevd/_pydevd_bundle/pydevd_defaults.py'>,\n",
      " '_pydevd_bundle.pydevd_dont_trace': <module '_pydevd_bundle.pydevd_dont_trace' from '/Users/jeffsong/opt/anaconda3/lib/python3.8/site-packages/debugpy/_vendored/pydevd/_pydevd_bundle/pydevd_dont_trace.py'>,\n",
      " '_pydevd_bundle.pydevd_dont_trace_files': <module '_pydevd_bundle.pydevd_dont_trace_files' from '/Users/jeffsong/opt/anaconda3/lib/python3.8/site-packages/debugpy/_vendored/pydevd/_pydevd_bundle/pydevd_dont_trace_files.py'>,\n",
      " '_pydevd_bundle.pydevd_exec2': <module '_pydevd_bundle.pydevd_exec2' from '/Users/jeffsong/opt/anaconda3/lib/python3.8/site-packages/debugpy/_vendored/pydevd/_pydevd_bundle/pydevd_exec2.py'>,\n",
      " '_pydevd_bundle.pydevd_extension_api': <module '_pydevd_bundle.pydevd_extension_api' from '/Users/jeffsong/opt/anaconda3/lib/python3.8/site-packages/debugpy/_vendored/pydevd/_pydevd_bundle/pydevd_extension_api.py'>,\n",
      " '_pydevd_bundle.pydevd_extension_utils': <module '_pydevd_bundle.pydevd_extension_utils' from '/Users/jeffsong/opt/anaconda3/lib/python3.8/site-packages/debugpy/_vendored/pydevd/_pydevd_bundle/pydevd_extension_utils.py'>,\n",
      " '_pydevd_bundle.pydevd_filtering': <module '_pydevd_bundle.pydevd_filtering' from '/Users/jeffsong/opt/anaconda3/lib/python3.8/site-packages/debugpy/_vendored/pydevd/_pydevd_bundle/pydevd_filtering.py'>,\n",
      " '_pydevd_bundle.pydevd_frame': <module '_pydevd_bundle.pydevd_frame' from '/Users/jeffsong/opt/anaconda3/lib/python3.8/site-packages/debugpy/_vendored/pydevd/_pydevd_bundle/pydevd_frame.py'>,\n",
      " '_pydevd_bundle.pydevd_frame_utils': <module '_pydevd_bundle.pydevd_frame_utils' from '/Users/jeffsong/opt/anaconda3/lib/python3.8/site-packages/debugpy/_vendored/pydevd/_pydevd_bundle/pydevd_frame_utils.py'>,\n",
      " '_pydevd_bundle.pydevd_import_class': <module '_pydevd_bundle.pydevd_import_class' from '/Users/jeffsong/opt/anaconda3/lib/python3.8/site-packages/debugpy/_vendored/pydevd/_pydevd_bundle/pydevd_import_class.py'>,\n",
      " '_pydevd_bundle.pydevd_io': <module '_pydevd_bundle.pydevd_io' from '/Users/jeffsong/opt/anaconda3/lib/python3.8/site-packages/debugpy/_vendored/pydevd/_pydevd_bundle/pydevd_io.py'>,\n",
      " '_pydevd_bundle.pydevd_json_debug_options': <module '_pydevd_bundle.pydevd_json_debug_options' from '/Users/jeffsong/opt/anaconda3/lib/python3.8/site-packages/debugpy/_vendored/pydevd/_pydevd_bundle/pydevd_json_debug_options.py'>,\n",
      " '_pydevd_bundle.pydevd_net_command': <module '_pydevd_bundle.pydevd_net_command' from '/Users/jeffsong/opt/anaconda3/lib/python3.8/site-packages/debugpy/_vendored/pydevd/_pydevd_bundle/pydevd_net_command.py'>,\n",
      " '_pydevd_bundle.pydevd_net_command_factory_json': <module '_pydevd_bundle.pydevd_net_command_factory_json' from '/Users/jeffsong/opt/anaconda3/lib/python3.8/site-packages/debugpy/_vendored/pydevd/_pydevd_bundle/pydevd_net_command_factory_json.py'>,\n",
      " '_pydevd_bundle.pydevd_net_command_factory_xml': <module '_pydevd_bundle.pydevd_net_command_factory_xml' from '/Users/jeffsong/opt/anaconda3/lib/python3.8/site-packages/debugpy/_vendored/pydevd/_pydevd_bundle/pydevd_net_command_factory_xml.py'>,\n",
      " '_pydevd_bundle.pydevd_plugin_utils': <module '_pydevd_bundle.pydevd_plugin_utils' from '/Users/jeffsong/opt/anaconda3/lib/python3.8/site-packages/debugpy/_vendored/pydevd/_pydevd_bundle/pydevd_plugin_utils.py'>,\n",
      " '_pydevd_bundle.pydevd_process_net_command': <module '_pydevd_bundle.pydevd_process_net_command' from '/Users/jeffsong/opt/anaconda3/lib/python3.8/site-packages/debugpy/_vendored/pydevd/_pydevd_bundle/pydevd_process_net_command.py'>,\n",
      " '_pydevd_bundle.pydevd_process_net_command_json': <module '_pydevd_bundle.pydevd_process_net_command_json' from '/Users/jeffsong/opt/anaconda3/lib/python3.8/site-packages/debugpy/_vendored/pydevd/_pydevd_bundle/pydevd_process_net_command_json.py'>,\n",
      " '_pydevd_bundle.pydevd_reload': <module '_pydevd_bundle.pydevd_reload' from '/Users/jeffsong/opt/anaconda3/lib/python3.8/site-packages/debugpy/_vendored/pydevd/_pydevd_bundle/pydevd_reload.py'>,\n",
      " '_pydevd_bundle.pydevd_resolver': <module '_pydevd_bundle.pydevd_resolver' from '/Users/jeffsong/opt/anaconda3/lib/python3.8/site-packages/debugpy/_vendored/pydevd/_pydevd_bundle/pydevd_resolver.py'>,\n",
      " '_pydevd_bundle.pydevd_safe_repr': <module '_pydevd_bundle.pydevd_safe_repr' from '/Users/jeffsong/opt/anaconda3/lib/python3.8/site-packages/debugpy/_vendored/pydevd/_pydevd_bundle/pydevd_safe_repr.py'>,\n",
      " '_pydevd_bundle.pydevd_save_locals': <module '_pydevd_bundle.pydevd_save_locals' from '/Users/jeffsong/opt/anaconda3/lib/python3.8/site-packages/debugpy/_vendored/pydevd/_pydevd_bundle/pydevd_save_locals.py'>,\n",
      " '_pydevd_bundle.pydevd_source_mapping': <module '_pydevd_bundle.pydevd_source_mapping' from '/Users/jeffsong/opt/anaconda3/lib/python3.8/site-packages/debugpy/_vendored/pydevd/_pydevd_bundle/pydevd_source_mapping.py'>,\n",
      " '_pydevd_bundle.pydevd_suspended_frames': <module '_pydevd_bundle.pydevd_suspended_frames' from '/Users/jeffsong/opt/anaconda3/lib/python3.8/site-packages/debugpy/_vendored/pydevd/_pydevd_bundle/pydevd_suspended_frames.py'>,\n",
      " '_pydevd_bundle.pydevd_thread_lifecycle': <module '_pydevd_bundle.pydevd_thread_lifecycle' from '/Users/jeffsong/opt/anaconda3/lib/python3.8/site-packages/debugpy/_vendored/pydevd/_pydevd_bundle/pydevd_thread_lifecycle.py'>,\n",
      " '_pydevd_bundle.pydevd_timeout': <module '_pydevd_bundle.pydevd_timeout' from '/Users/jeffsong/opt/anaconda3/lib/python3.8/site-packages/debugpy/_vendored/pydevd/_pydevd_bundle/pydevd_timeout.py'>,\n",
      " '_pydevd_bundle.pydevd_trace_api': <module '_pydevd_bundle.pydevd_trace_api' from '/Users/jeffsong/opt/anaconda3/lib/python3.8/site-packages/debugpy/_vendored/pydevd/_pydevd_bundle/pydevd_trace_api.py'>,\n",
      " '_pydevd_bundle.pydevd_trace_dispatch': <module '_pydevd_bundle.pydevd_trace_dispatch' from '/Users/jeffsong/opt/anaconda3/lib/python3.8/site-packages/debugpy/_vendored/pydevd/_pydevd_bundle/pydevd_trace_dispatch.py'>,\n",
      " '_pydevd_bundle.pydevd_traceproperty': <module '_pydevd_bundle.pydevd_traceproperty' from '/Users/jeffsong/opt/anaconda3/lib/python3.8/site-packages/debugpy/_vendored/pydevd/_pydevd_bundle/pydevd_traceproperty.py'>,\n",
      " '_pydevd_bundle.pydevd_utils': <module '_pydevd_bundle.pydevd_utils' from '/Users/jeffsong/opt/anaconda3/lib/python3.8/site-packages/debugpy/_vendored/pydevd/_pydevd_bundle/pydevd_utils.py'>,\n",
      " '_pydevd_bundle.pydevd_vars': <module '_pydevd_bundle.pydevd_vars' from '/Users/jeffsong/opt/anaconda3/lib/python3.8/site-packages/debugpy/_vendored/pydevd/_pydevd_bundle/pydevd_vars.py'>,\n",
      " '_pydevd_bundle.pydevd_vm_type': <module '_pydevd_bundle.pydevd_vm_type' from '/Users/jeffsong/opt/anaconda3/lib/python3.8/site-packages/debugpy/_vendored/pydevd/_pydevd_bundle/pydevd_vm_type.py'>,\n",
      " '_pydevd_bundle.pydevd_xml': <module '_pydevd_bundle.pydevd_xml' from '/Users/jeffsong/opt/anaconda3/lib/python3.8/site-packages/debugpy/_vendored/pydevd/_pydevd_bundle/pydevd_xml.py'>,\n",
      " '_pydevd_frame_eval': <module '_pydevd_frame_eval' from '/Users/jeffsong/opt/anaconda3/lib/python3.8/site-packages/debugpy/_vendored/pydevd/_pydevd_frame_eval/__init__.py'>,\n",
      " '_pydevd_frame_eval.pydevd_frame_eval_main': <module '_pydevd_frame_eval.pydevd_frame_eval_main' from '/Users/jeffsong/opt/anaconda3/lib/python3.8/site-packages/debugpy/_vendored/pydevd/_pydevd_frame_eval/pydevd_frame_eval_main.py'>,\n",
      " '_pydevd_frame_eval.vendored': <module '_pydevd_frame_eval.vendored' from '/Users/jeffsong/opt/anaconda3/lib/python3.8/site-packages/debugpy/_vendored/pydevd/_pydevd_frame_eval/vendored/__init__.py'>,\n",
      " '_pydevd_frame_eval.vendored.bytecode': <module '_pydevd_frame_eval.vendored.bytecode' from '/Users/jeffsong/opt/anaconda3/lib/python3.8/site-packages/debugpy/_vendored/pydevd/_pydevd_frame_eval/vendored/bytecode/__init__.py'>,\n",
      " '_pydevd_frame_eval.vendored.bytecode.bytecode': <module '_pydevd_frame_eval.vendored.bytecode.bytecode' from '/Users/jeffsong/opt/anaconda3/lib/python3.8/site-packages/debugpy/_vendored/pydevd/_pydevd_frame_eval/vendored/bytecode/bytecode.py'>,\n",
      " '_pydevd_frame_eval.vendored.bytecode.cfg': <module '_pydevd_frame_eval.vendored.bytecode.cfg' from '/Users/jeffsong/opt/anaconda3/lib/python3.8/site-packages/debugpy/_vendored/pydevd/_pydevd_frame_eval/vendored/bytecode/cfg.py'>,\n",
      " '_pydevd_frame_eval.vendored.bytecode.concrete': <module '_pydevd_frame_eval.vendored.bytecode.concrete' from '/Users/jeffsong/opt/anaconda3/lib/python3.8/site-packages/debugpy/_vendored/pydevd/_pydevd_frame_eval/vendored/bytecode/concrete.py'>,\n",
      " '_pydevd_frame_eval.vendored.bytecode.flags': <module '_pydevd_frame_eval.vendored.bytecode.flags' from '/Users/jeffsong/opt/anaconda3/lib/python3.8/site-packages/debugpy/_vendored/pydevd/_pydevd_frame_eval/vendored/bytecode/flags.py'>,\n",
      " '_pydevd_frame_eval.vendored.bytecode.instr': <module '_pydevd_frame_eval.vendored.bytecode.instr' from '/Users/jeffsong/opt/anaconda3/lib/python3.8/site-packages/debugpy/_vendored/pydevd/_pydevd_frame_eval/vendored/bytecode/instr.py'>,\n",
      " '_queue': <module '_queue' from '/Users/jeffsong/opt/anaconda3/lib/python3.8/lib-dynload/_queue.cpython-38-darwin.so'>,\n",
      " '_random': <module '_random' from '/Users/jeffsong/opt/anaconda3/lib/python3.8/lib-dynload/_random.cpython-38-darwin.so'>,\n",
      " '_scproxy': <module '_scproxy' from '/Users/jeffsong/opt/anaconda3/lib/python3.8/lib-dynload/_scproxy.cpython-38-darwin.so'>,\n",
      " '_sha3': <module '_sha3' from '/Users/jeffsong/opt/anaconda3/lib/python3.8/lib-dynload/_sha3.cpython-38-darwin.so'>,\n",
      " '_sha512': <module '_sha512' from '/Users/jeffsong/opt/anaconda3/lib/python3.8/lib-dynload/_sha512.cpython-38-darwin.so'>,\n",
      " '_signal': <module '_signal' (built-in)>,\n",
      " '_sitebuiltins': <module '_sitebuiltins' from '/Users/jeffsong/opt/anaconda3/lib/python3.8/_sitebuiltins.py'>,\n",
      " '_socket': <module '_socket' from '/Users/jeffsong/opt/anaconda3/lib/python3.8/lib-dynload/_socket.cpython-38-darwin.so'>,\n",
      " '_sqlite3': <module '_sqlite3' from '/Users/jeffsong/opt/anaconda3/lib/python3.8/lib-dynload/_sqlite3.cpython-38-darwin.so'>,\n",
      " '_sre': <module '_sre' (built-in)>,\n",
      " '_ssl': <module '_ssl' from '/Users/jeffsong/opt/anaconda3/lib/python3.8/lib-dynload/_ssl.cpython-38-darwin.so'>,\n",
      " '_stat': <module '_stat' (built-in)>,\n",
      " '_string': <module '_string' (built-in)>,\n",
      " '_strptime': <module '_strptime' from '/Users/jeffsong/opt/anaconda3/lib/python3.8/_strptime.py'>,\n",
      " '_struct': <module '_struct' from '/Users/jeffsong/opt/anaconda3/lib/python3.8/lib-dynload/_struct.cpython-38-darwin.so'>,\n",
      " '_sysconfigdata__darwin_darwin': <module '_sysconfigdata__darwin_darwin' from '/Users/jeffsong/opt/anaconda3/lib/python3.8/_sysconfigdata__darwin_darwin.py'>,\n",
      " '_thread': <module '_thread' (built-in)>,\n",
      " '_uuid': <module '_uuid' from '/Users/jeffsong/opt/anaconda3/lib/python3.8/lib-dynload/_uuid.cpython-38-darwin.so'>,\n",
      " '_warnings': <module '_warnings' (built-in)>,\n",
      " '_weakref': <module '_weakref' (built-in)>,\n",
      " '_weakrefset': <module '_weakrefset' from '/Users/jeffsong/opt/anaconda3/lib/python3.8/_weakrefset.py'>,\n",
      " 'abc': <module 'abc' from '/Users/jeffsong/opt/anaconda3/lib/python3.8/abc.py'>,\n",
      " 'appnope': <module 'appnope' from '/Users/jeffsong/opt/anaconda3/lib/python3.8/site-packages/appnope/__init__.py'>,\n",
      " 'appnope._nope': <module 'appnope._nope' from '/Users/jeffsong/opt/anaconda3/lib/python3.8/site-packages/appnope/_nope.py'>,\n",
      " 'argparse': <module 'argparse' from '/Users/jeffsong/opt/anaconda3/lib/python3.8/argparse.py'>,\n",
      " 'array': <module 'array' from '/Users/jeffsong/opt/anaconda3/lib/python3.8/lib-dynload/array.cpython-38-darwin.so'>,\n",
      " 'ast': <module 'ast' from '/Users/jeffsong/opt/anaconda3/lib/python3.8/ast.py'>,\n",
      " 'asyncio': <module 'asyncio' from '/Users/jeffsong/opt/anaconda3/lib/python3.8/asyncio/__init__.py'>,\n",
      " 'asyncio.base_events': <module 'asyncio.base_events' from '/Users/jeffsong/opt/anaconda3/lib/python3.8/asyncio/base_events.py'>,\n",
      " 'asyncio.base_futures': <module 'asyncio.base_futures' from '/Users/jeffsong/opt/anaconda3/lib/python3.8/asyncio/base_futures.py'>,\n",
      " 'asyncio.base_subprocess': <module 'asyncio.base_subprocess' from '/Users/jeffsong/opt/anaconda3/lib/python3.8/asyncio/base_subprocess.py'>,\n",
      " 'asyncio.base_tasks': <module 'asyncio.base_tasks' from '/Users/jeffsong/opt/anaconda3/lib/python3.8/asyncio/base_tasks.py'>,\n",
      " 'asyncio.constants': <module 'asyncio.constants' from '/Users/jeffsong/opt/anaconda3/lib/python3.8/asyncio/constants.py'>,\n",
      " 'asyncio.coroutines': <module 'asyncio.coroutines' from '/Users/jeffsong/opt/anaconda3/lib/python3.8/asyncio/coroutines.py'>,\n",
      " 'asyncio.events': <module 'asyncio.events' from '/Users/jeffsong/opt/anaconda3/lib/python3.8/asyncio/events.py'>,\n",
      " 'asyncio.exceptions': <module 'asyncio.exceptions' from '/Users/jeffsong/opt/anaconda3/lib/python3.8/asyncio/exceptions.py'>,\n",
      " 'asyncio.format_helpers': <module 'asyncio.format_helpers' from '/Users/jeffsong/opt/anaconda3/lib/python3.8/asyncio/format_helpers.py'>,\n",
      " 'asyncio.futures': <module 'asyncio.futures' from '/Users/jeffsong/opt/anaconda3/lib/python3.8/asyncio/futures.py'>,\n",
      " 'asyncio.locks': <module 'asyncio.locks' from '/Users/jeffsong/opt/anaconda3/lib/python3.8/asyncio/locks.py'>,\n",
      " 'asyncio.log': <module 'asyncio.log' from '/Users/jeffsong/opt/anaconda3/lib/python3.8/asyncio/log.py'>,\n",
      " 'asyncio.protocols': <module 'asyncio.protocols' from '/Users/jeffsong/opt/anaconda3/lib/python3.8/asyncio/protocols.py'>,\n",
      " 'asyncio.queues': <module 'asyncio.queues' from '/Users/jeffsong/opt/anaconda3/lib/python3.8/asyncio/queues.py'>,\n",
      " 'asyncio.runners': <module 'asyncio.runners' from '/Users/jeffsong/opt/anaconda3/lib/python3.8/asyncio/runners.py'>,\n",
      " 'asyncio.selector_events': <module 'asyncio.selector_events' from '/Users/jeffsong/opt/anaconda3/lib/python3.8/asyncio/selector_events.py'>,\n",
      " 'asyncio.sslproto': <module 'asyncio.sslproto' from '/Users/jeffsong/opt/anaconda3/lib/python3.8/asyncio/sslproto.py'>,\n",
      " 'asyncio.staggered': <module 'asyncio.staggered' from '/Users/jeffsong/opt/anaconda3/lib/python3.8/asyncio/staggered.py'>,\n",
      " 'asyncio.streams': <module 'asyncio.streams' from '/Users/jeffsong/opt/anaconda3/lib/python3.8/asyncio/streams.py'>,\n",
      " 'asyncio.subprocess': <module 'asyncio.subprocess' from '/Users/jeffsong/opt/anaconda3/lib/python3.8/asyncio/subprocess.py'>,\n",
      " 'asyncio.tasks': <module 'asyncio.tasks' from '/Users/jeffsong/opt/anaconda3/lib/python3.8/asyncio/tasks.py'>,\n",
      " 'asyncio.transports': <module 'asyncio.transports' from '/Users/jeffsong/opt/anaconda3/lib/python3.8/asyncio/transports.py'>,\n",
      " 'asyncio.trsock': <module 'asyncio.trsock' from '/Users/jeffsong/opt/anaconda3/lib/python3.8/asyncio/trsock.py'>,\n",
      " 'asyncio.unix_events': <module 'asyncio.unix_events' from '/Users/jeffsong/opt/anaconda3/lib/python3.8/asyncio/unix_events.py'>,\n",
      " 'atexit': <module 'atexit' (built-in)>,\n",
      " 'backcall': <module 'backcall' from '/Users/jeffsong/opt/anaconda3/lib/python3.8/site-packages/backcall/__init__.py'>,\n",
      " 'backcall.backcall': <module 'backcall.backcall' from '/Users/jeffsong/opt/anaconda3/lib/python3.8/site-packages/backcall/backcall.py'>,\n",
      " 'base64': <module 'base64' from '/Users/jeffsong/opt/anaconda3/lib/python3.8/base64.py'>,\n",
      " 'bdb': <module 'bdb' from '/Users/jeffsong/opt/anaconda3/lib/python3.8/bdb.py'>,\n",
      " 'binascii': <module 'binascii' from '/Users/jeffsong/opt/anaconda3/lib/python3.8/lib-dynload/binascii.cpython-38-darwin.so'>,\n",
      " 'bisect': <module 'bisect' from '/Users/jeffsong/opt/anaconda3/lib/python3.8/bisect.py'>,\n",
      " 'builtins': <module 'builtins' (built-in)>,\n",
      " 'bz2': <module 'bz2' from '/Users/jeffsong/opt/anaconda3/lib/python3.8/bz2.py'>,\n",
      " 'cProfile': <module 'cProfile' from '/Users/jeffsong/opt/anaconda3/lib/python3.8/cProfile.py'>,\n",
      " 'calendar': <module 'calendar' from '/Users/jeffsong/opt/anaconda3/lib/python3.8/calendar.py'>,\n",
      " 'cmd': <module 'cmd' from '/Users/jeffsong/opt/anaconda3/lib/python3.8/cmd.py'>,\n",
      " 'code': <module 'code' from '/Users/jeffsong/opt/anaconda3/lib/python3.8/code.py'>,\n",
      " 'codecs': <module 'codecs' from '/Users/jeffsong/opt/anaconda3/lib/python3.8/codecs.py'>,\n",
      " 'codeop': <module 'codeop' from '/Users/jeffsong/opt/anaconda3/lib/python3.8/codeop.py'>,\n",
      " 'collections': <module 'collections' from '/Users/jeffsong/opt/anaconda3/lib/python3.8/collections/__init__.py'>,\n",
      " 'collections.abc': <module 'collections.abc' from '/Users/jeffsong/opt/anaconda3/lib/python3.8/collections/abc.py'>,\n",
      " 'colorama': <module 'colorama' from '/Users/jeffsong/opt/anaconda3/lib/python3.8/site-packages/colorama/__init__.py'>,\n",
      " 'colorama.ansi': <module 'colorama.ansi' from '/Users/jeffsong/opt/anaconda3/lib/python3.8/site-packages/colorama/ansi.py'>,\n",
      " 'colorama.ansitowin32': <module 'colorama.ansitowin32' from '/Users/jeffsong/opt/anaconda3/lib/python3.8/site-packages/colorama/ansitowin32.py'>,\n",
      " 'colorama.initialise': <module 'colorama.initialise' from '/Users/jeffsong/opt/anaconda3/lib/python3.8/site-packages/colorama/initialise.py'>,\n",
      " 'colorama.win32': <module 'colorama.win32' from '/Users/jeffsong/opt/anaconda3/lib/python3.8/site-packages/colorama/win32.py'>,\n",
      " 'colorama.winterm': <module 'colorama.winterm' from '/Users/jeffsong/opt/anaconda3/lib/python3.8/site-packages/colorama/winterm.py'>,\n",
      " 'colorsys': <module 'colorsys' from '/Users/jeffsong/opt/anaconda3/lib/python3.8/colorsys.py'>,\n",
      " 'concurrent': <module 'concurrent' from '/Users/jeffsong/opt/anaconda3/lib/python3.8/concurrent/__init__.py'>,\n",
      " 'concurrent.futures': <module 'concurrent.futures' from '/Users/jeffsong/opt/anaconda3/lib/python3.8/concurrent/futures/__init__.py'>,\n",
      " 'concurrent.futures._base': <module 'concurrent.futures._base' from '/Users/jeffsong/opt/anaconda3/lib/python3.8/concurrent/futures/_base.py'>,\n",
      " 'contextlib': <module 'contextlib' from '/Users/jeffsong/opt/anaconda3/lib/python3.8/contextlib.py'>,\n",
      " 'contextvars': <module 'contextvars' from '/Users/jeffsong/opt/anaconda3/lib/python3.8/contextvars.py'>,\n",
      " 'copy': <module 'copy' from '/Users/jeffsong/opt/anaconda3/lib/python3.8/copy.py'>,\n",
      " 'copyreg': <module 'copyreg' from '/Users/jeffsong/opt/anaconda3/lib/python3.8/copyreg.py'>,\n",
      " 'ctypes': <module 'ctypes' from '/Users/jeffsong/opt/anaconda3/lib/python3.8/ctypes/__init__.py'>,\n",
      " 'ctypes._endian': <module 'ctypes._endian' from '/Users/jeffsong/opt/anaconda3/lib/python3.8/ctypes/_endian.py'>,\n",
      " 'ctypes.macholib': <module 'ctypes.macholib' from '/Users/jeffsong/opt/anaconda3/lib/python3.8/ctypes/macholib/__init__.py'>,\n",
      " 'ctypes.macholib.dyld': <module 'ctypes.macholib.dyld' from '/Users/jeffsong/opt/anaconda3/lib/python3.8/ctypes/macholib/dyld.py'>,\n",
      " 'ctypes.macholib.dylib': <module 'ctypes.macholib.dylib' from '/Users/jeffsong/opt/anaconda3/lib/python3.8/ctypes/macholib/dylib.py'>,\n",
      " 'ctypes.macholib.framework': <module 'ctypes.macholib.framework' from '/Users/jeffsong/opt/anaconda3/lib/python3.8/ctypes/macholib/framework.py'>,\n",
      " 'ctypes.util': <module 'ctypes.util' from '/Users/jeffsong/opt/anaconda3/lib/python3.8/ctypes/util.py'>,\n",
      " 'curses': <module 'curses' from '/Users/jeffsong/opt/anaconda3/lib/python3.8/curses/__init__.py'>,\n",
      " 'cython_runtime': <module 'cython_runtime'>,\n",
      " 'datetime': <module 'datetime' from '/Users/jeffsong/opt/anaconda3/lib/python3.8/datetime.py'>,\n",
      " 'dateutil': <module 'dateutil' from '/Users/jeffsong/opt/anaconda3/lib/python3.8/site-packages/dateutil/__init__.py'>,\n",
      " 'dateutil._common': <module 'dateutil._common' from '/Users/jeffsong/opt/anaconda3/lib/python3.8/site-packages/dateutil/_common.py'>,\n",
      " 'dateutil._version': <module 'dateutil._version' from '/Users/jeffsong/opt/anaconda3/lib/python3.8/site-packages/dateutil/_version.py'>,\n",
      " 'dateutil.parser': <module 'dateutil.parser' from '/Users/jeffsong/opt/anaconda3/lib/python3.8/site-packages/dateutil/parser/__init__.py'>,\n",
      " 'dateutil.parser._parser': <module 'dateutil.parser._parser' from '/Users/jeffsong/opt/anaconda3/lib/python3.8/site-packages/dateutil/parser/_parser.py'>,\n",
      " 'dateutil.parser.isoparser': <module 'dateutil.parser.isoparser' from '/Users/jeffsong/opt/anaconda3/lib/python3.8/site-packages/dateutil/parser/isoparser.py'>,\n",
      " 'dateutil.relativedelta': <module 'dateutil.relativedelta' from '/Users/jeffsong/opt/anaconda3/lib/python3.8/site-packages/dateutil/relativedelta.py'>,\n",
      " 'dateutil.tz': <module 'dateutil.tz' from '/Users/jeffsong/opt/anaconda3/lib/python3.8/site-packages/dateutil/tz/__init__.py'>,\n",
      " 'dateutil.tz._common': <module 'dateutil.tz._common' from '/Users/jeffsong/opt/anaconda3/lib/python3.8/site-packages/dateutil/tz/_common.py'>,\n",
      " 'dateutil.tz._factories': <module 'dateutil.tz._factories' from '/Users/jeffsong/opt/anaconda3/lib/python3.8/site-packages/dateutil/tz/_factories.py'>,\n",
      " 'dateutil.tz.tz': <module 'dateutil.tz.tz' from '/Users/jeffsong/opt/anaconda3/lib/python3.8/site-packages/dateutil/tz/tz.py'>,\n",
      " 'debugpy': <module 'debugpy' from '/Users/jeffsong/opt/anaconda3/lib/python3.8/site-packages/debugpy/__init__.py'>,\n",
      " 'debugpy._vendored': <module 'debugpy._vendored' from '/Users/jeffsong/opt/anaconda3/lib/python3.8/site-packages/debugpy/_vendored/__init__.py'>,\n",
      " 'debugpy._vendored._util': <module 'debugpy._vendored._util' from '/Users/jeffsong/opt/anaconda3/lib/python3.8/site-packages/debugpy/_vendored/_util.py'>,\n",
      " 'debugpy._vendored.force_pydevd': <module 'debugpy._vendored.force_pydevd' from '/Users/jeffsong/opt/anaconda3/lib/python3.8/site-packages/debugpy/_vendored/force_pydevd.py'>,\n",
      " 'debugpy._version': <module 'debugpy._version' from '/Users/jeffsong/opt/anaconda3/lib/python3.8/site-packages/debugpy/_version.py'>,\n",
      " 'debugpy.adapter': <module 'debugpy.adapter' from '/Users/jeffsong/opt/anaconda3/lib/python3.8/site-packages/debugpy/adapter/__init__.py'>,\n",
      " 'debugpy.common': <module 'debugpy.common' from '/Users/jeffsong/opt/anaconda3/lib/python3.8/site-packages/debugpy/common/__init__.py'>,\n",
      " 'debugpy.common.compat': <module 'debugpy.common.compat' from '/Users/jeffsong/opt/anaconda3/lib/python3.8/site-packages/debugpy/common/compat.py'>,\n",
      " 'debugpy.common.fmt': <module 'debugpy.common.fmt' from '/Users/jeffsong/opt/anaconda3/lib/python3.8/site-packages/debugpy/common/fmt.py'>,\n",
      " 'debugpy.common.json': <module 'debugpy.common.json' from '/Users/jeffsong/opt/anaconda3/lib/python3.8/site-packages/debugpy/common/json.py'>,\n",
      " 'debugpy.common.log': <module 'debugpy.common.log' from '/Users/jeffsong/opt/anaconda3/lib/python3.8/site-packages/debugpy/common/log.py'>,\n",
      " 'debugpy.common.sockets': <module 'debugpy.common.sockets' from '/Users/jeffsong/opt/anaconda3/lib/python3.8/site-packages/debugpy/common/sockets.py'>,\n",
      " 'debugpy.common.timestamp': <module 'debugpy.common.timestamp' from '/Users/jeffsong/opt/anaconda3/lib/python3.8/site-packages/debugpy/common/timestamp.py'>,\n",
      " 'debugpy.common.util': <module 'debugpy.common.util' from '/Users/jeffsong/opt/anaconda3/lib/python3.8/site-packages/debugpy/common/util.py'>,\n",
      " 'debugpy.server': <module 'debugpy.server' from '/Users/jeffsong/opt/anaconda3/lib/python3.8/site-packages/debugpy/server/__init__.py'>,\n",
      " 'debugpy.server.api': <module 'debugpy.server.api' from '/Users/jeffsong/opt/anaconda3/lib/python3.8/site-packages/debugpy/server/api.py'>,\n",
      " 'decimal': <module 'decimal' from '/Users/jeffsong/opt/anaconda3/lib/python3.8/decimal.py'>,\n",
      " 'decorator': <module 'decorator' from '/Users/jeffsong/opt/anaconda3/lib/python3.8/site-packages/decorator.py'>,\n",
      " 'difflib': <module 'difflib' from '/Users/jeffsong/opt/anaconda3/lib/python3.8/difflib.py'>,\n",
      " 'dis': <module 'dis' from '/Users/jeffsong/opt/anaconda3/lib/python3.8/dis.py'>,\n",
      " 'distutils': <module 'distutils' from '/Users/jeffsong/opt/anaconda3/lib/python3.8/distutils/__init__.py'>,\n",
      " 'distutils.version': <module 'distutils.version' from '/Users/jeffsong/opt/anaconda3/lib/python3.8/distutils/version.py'>,\n",
      " 'django': <module 'django' from '/Users/jeffsong/opt/anaconda3/lib/python3.8/site-packages/django/__init__.py'>,\n",
      " 'django.utils': <module 'django.utils' from '/Users/jeffsong/opt/anaconda3/lib/python3.8/site-packages/django/utils/__init__.py'>,\n",
      " 'django.utils.version': <module 'django.utils.version' from '/Users/jeffsong/opt/anaconda3/lib/python3.8/site-packages/django/utils/version.py'>,\n",
      " 'email': <module 'email' from '/Users/jeffsong/opt/anaconda3/lib/python3.8/email/__init__.py'>,\n",
      " 'email._encoded_words': <module 'email._encoded_words' from '/Users/jeffsong/opt/anaconda3/lib/python3.8/email/_encoded_words.py'>,\n",
      " 'email._parseaddr': <module 'email._parseaddr' from '/Users/jeffsong/opt/anaconda3/lib/python3.8/email/_parseaddr.py'>,\n",
      " 'email._policybase': <module 'email._policybase' from '/Users/jeffsong/opt/anaconda3/lib/python3.8/email/_policybase.py'>,\n",
      " 'email.base64mime': <module 'email.base64mime' from '/Users/jeffsong/opt/anaconda3/lib/python3.8/email/base64mime.py'>,\n",
      " 'email.charset': <module 'email.charset' from '/Users/jeffsong/opt/anaconda3/lib/python3.8/email/charset.py'>,\n",
      " 'email.encoders': <module 'email.encoders' from '/Users/jeffsong/opt/anaconda3/lib/python3.8/email/encoders.py'>,\n",
      " 'email.errors': <module 'email.errors' from '/Users/jeffsong/opt/anaconda3/lib/python3.8/email/errors.py'>,\n",
      " 'email.feedparser': <module 'email.feedparser' from '/Users/jeffsong/opt/anaconda3/lib/python3.8/email/feedparser.py'>,\n",
      " 'email.header': <module 'email.header' from '/Users/jeffsong/opt/anaconda3/lib/python3.8/email/header.py'>,\n",
      " 'email.iterators': <module 'email.iterators' from '/Users/jeffsong/opt/anaconda3/lib/python3.8/email/iterators.py'>,\n",
      " 'email.message': <module 'email.message' from '/Users/jeffsong/opt/anaconda3/lib/python3.8/email/message.py'>,\n",
      " 'email.parser': <module 'email.parser' from '/Users/jeffsong/opt/anaconda3/lib/python3.8/email/parser.py'>,\n",
      " 'email.quoprimime': <module 'email.quoprimime' from '/Users/jeffsong/opt/anaconda3/lib/python3.8/email/quoprimime.py'>,\n",
      " 'email.utils': <module 'email.utils' from '/Users/jeffsong/opt/anaconda3/lib/python3.8/email/utils.py'>,\n",
      " 'encodings': <module 'encodings' from '/Users/jeffsong/opt/anaconda3/lib/python3.8/encodings/__init__.py'>,\n",
      " 'encodings.aliases': <module 'encodings.aliases' from '/Users/jeffsong/opt/anaconda3/lib/python3.8/encodings/aliases.py'>,\n",
      " 'encodings.ascii': <module 'encodings.ascii' from '/Users/jeffsong/opt/anaconda3/lib/python3.8/encodings/ascii.py'>,\n",
      " 'encodings.cp437': <module 'encodings.cp437' from '/Users/jeffsong/opt/anaconda3/lib/python3.8/encodings/cp437.py'>,\n",
      " 'encodings.idna': <module 'encodings.idna' from '/Users/jeffsong/opt/anaconda3/lib/python3.8/encodings/idna.py'>,\n",
      " 'encodings.latin_1': <module 'encodings.latin_1' from '/Users/jeffsong/opt/anaconda3/lib/python3.8/encodings/latin_1.py'>,\n",
      " 'encodings.utf_8': <module 'encodings.utf_8' from '/Users/jeffsong/opt/anaconda3/lib/python3.8/encodings/utf_8.py'>,\n",
      " 'enum': <module 'enum' from '/Users/jeffsong/opt/anaconda3/lib/python3.8/enum.py'>,\n",
      " 'errno': <module 'errno' (built-in)>,\n",
      " 'faulthandler': <module 'faulthandler' (built-in)>,\n",
      " 'fcntl': <module 'fcntl' from '/Users/jeffsong/opt/anaconda3/lib/python3.8/lib-dynload/fcntl.cpython-38-darwin.so'>,\n",
      " 'filecmp': <module 'filecmp' from '/Users/jeffsong/opt/anaconda3/lib/python3.8/filecmp.py'>,\n",
      " 'fnmatch': <module 'fnmatch' from '/Users/jeffsong/opt/anaconda3/lib/python3.8/fnmatch.py'>,\n",
      " 'functools': <module 'functools' from '/Users/jeffsong/opt/anaconda3/lib/python3.8/functools.py'>,\n",
      " 'gc': <module 'gc' (built-in)>,\n",
      " 'genericpath': <module 'genericpath' from '/Users/jeffsong/opt/anaconda3/lib/python3.8/genericpath.py'>,\n",
      " 'getopt': <module 'getopt' from '/Users/jeffsong/opt/anaconda3/lib/python3.8/getopt.py'>,\n",
      " 'getpass': <module 'getpass' from '/Users/jeffsong/opt/anaconda3/lib/python3.8/getpass.py'>,\n",
      " 'gettext': <module 'gettext' from '/Users/jeffsong/opt/anaconda3/lib/python3.8/gettext.py'>,\n",
      " 'glob': <module 'glob' from '/Users/jeffsong/opt/anaconda3/lib/python3.8/glob.py'>,\n",
      " 'grp': <module 'grp' from '/Users/jeffsong/opt/anaconda3/lib/python3.8/lib-dynload/grp.cpython-38-darwin.so'>,\n",
      " 'gzip': <module 'gzip' from '/Users/jeffsong/opt/anaconda3/lib/python3.8/gzip.py'>,\n",
      " 'hashlib': <module 'hashlib' from '/Users/jeffsong/opt/anaconda3/lib/python3.8/hashlib.py'>,\n",
      " 'heapq': <module 'heapq' from '/Users/jeffsong/opt/anaconda3/lib/python3.8/heapq.py'>,\n",
      " 'hmac': <module 'hmac' from '/Users/jeffsong/opt/anaconda3/lib/python3.8/hmac.py'>,\n",
      " 'html': <module 'html' from '/Users/jeffsong/opt/anaconda3/lib/python3.8/html/__init__.py'>,\n",
      " 'html.entities': <module 'html.entities' from '/Users/jeffsong/opt/anaconda3/lib/python3.8/html/entities.py'>,\n",
      " 'http': <module 'http' from '/Users/jeffsong/opt/anaconda3/lib/python3.8/http/__init__.py'>,\n",
      " 'http.client': <module 'http.client' from '/Users/jeffsong/opt/anaconda3/lib/python3.8/http/client.py'>,\n",
      " 'http.server': <module 'http.server' from '/Users/jeffsong/opt/anaconda3/lib/python3.8/http/server.py'>,\n",
      " 'imp': <module 'imp' from '/Users/jeffsong/opt/anaconda3/lib/python3.8/imp.py'>,\n",
      " 'importlib': <module 'importlib' from '/Users/jeffsong/opt/anaconda3/lib/python3.8/importlib/__init__.py'>,\n",
      " 'importlib._bootstrap': <module 'importlib._bootstrap' (frozen)>,\n",
      " 'importlib._bootstrap_external': <module 'importlib._bootstrap_external' (frozen)>,\n",
      " 'importlib.abc': <module 'importlib.abc' from '/Users/jeffsong/opt/anaconda3/lib/python3.8/importlib/abc.py'>,\n",
      " 'importlib.machinery': <module 'importlib.machinery' from '/Users/jeffsong/opt/anaconda3/lib/python3.8/importlib/machinery.py'>,\n",
      " 'importlib.util': <module 'importlib.util' from '/Users/jeffsong/opt/anaconda3/lib/python3.8/importlib/util.py'>,\n",
      " 'inspect': <module 'inspect' from '/Users/jeffsong/opt/anaconda3/lib/python3.8/inspect.py'>,\n",
      " 'io': <module 'io' from '/Users/jeffsong/opt/anaconda3/lib/python3.8/io.py'>,\n",
      " 'ipykernel': <module 'ipykernel' from '/Users/jeffsong/opt/anaconda3/lib/python3.8/site-packages/ipykernel/__init__.py'>,\n",
      " 'ipykernel._version': <module 'ipykernel._version' from '/Users/jeffsong/opt/anaconda3/lib/python3.8/site-packages/ipykernel/_version.py'>,\n",
      " 'ipykernel.comm': <module 'ipykernel.comm' from '/Users/jeffsong/opt/anaconda3/lib/python3.8/site-packages/ipykernel/comm/__init__.py'>,\n",
      " 'ipykernel.comm.comm': <module 'ipykernel.comm.comm' from '/Users/jeffsong/opt/anaconda3/lib/python3.8/site-packages/ipykernel/comm/comm.py'>,\n",
      " 'ipykernel.comm.manager': <module 'ipykernel.comm.manager' from '/Users/jeffsong/opt/anaconda3/lib/python3.8/site-packages/ipykernel/comm/manager.py'>,\n",
      " 'ipykernel.compiler': <module 'ipykernel.compiler' from '/Users/jeffsong/opt/anaconda3/lib/python3.8/site-packages/ipykernel/compiler.py'>,\n",
      " 'ipykernel.connect': <module 'ipykernel.connect' from '/Users/jeffsong/opt/anaconda3/lib/python3.8/site-packages/ipykernel/connect.py'>,\n",
      " 'ipykernel.control': <module 'ipykernel.control' from '/Users/jeffsong/opt/anaconda3/lib/python3.8/site-packages/ipykernel/control.py'>,\n",
      " 'ipykernel.debugger': <module 'ipykernel.debugger' from '/Users/jeffsong/opt/anaconda3/lib/python3.8/site-packages/ipykernel/debugger.py'>,\n",
      " 'ipykernel.displayhook': <module 'ipykernel.displayhook' from '/Users/jeffsong/opt/anaconda3/lib/python3.8/site-packages/ipykernel/displayhook.py'>,\n",
      " 'ipykernel.eventloops': <module 'ipykernel.eventloops' from '/Users/jeffsong/opt/anaconda3/lib/python3.8/site-packages/ipykernel/eventloops.py'>,\n",
      " 'ipykernel.heartbeat': <module 'ipykernel.heartbeat' from '/Users/jeffsong/opt/anaconda3/lib/python3.8/site-packages/ipykernel/heartbeat.py'>,\n",
      " 'ipykernel.iostream': <module 'ipykernel.iostream' from '/Users/jeffsong/opt/anaconda3/lib/python3.8/site-packages/ipykernel/iostream.py'>,\n",
      " 'ipykernel.ipkernel': <module 'ipykernel.ipkernel' from '/Users/jeffsong/opt/anaconda3/lib/python3.8/site-packages/ipykernel/ipkernel.py'>,\n",
      " 'ipykernel.jsonutil': <module 'ipykernel.jsonutil' from '/Users/jeffsong/opt/anaconda3/lib/python3.8/site-packages/ipykernel/jsonutil.py'>,\n",
      " 'ipykernel.kernelapp': <module 'ipykernel.kernelapp' from '/Users/jeffsong/opt/anaconda3/lib/python3.8/site-packages/ipykernel/kernelapp.py'>,\n",
      " 'ipykernel.kernelbase': <module 'ipykernel.kernelbase' from '/Users/jeffsong/opt/anaconda3/lib/python3.8/site-packages/ipykernel/kernelbase.py'>,\n",
      " 'ipykernel.parentpoller': <module 'ipykernel.parentpoller' from '/Users/jeffsong/opt/anaconda3/lib/python3.8/site-packages/ipykernel/parentpoller.py'>,\n",
      " 'ipykernel.zmqshell': <module 'ipykernel.zmqshell' from '/Users/jeffsong/opt/anaconda3/lib/python3.8/site-packages/ipykernel/zmqshell.py'>,\n",
      " 'ipython_genutils': <module 'ipython_genutils' from '/Users/jeffsong/opt/anaconda3/lib/python3.8/site-packages/ipython_genutils/__init__.py'>,\n",
      " 'ipython_genutils._version': <module 'ipython_genutils._version' from '/Users/jeffsong/opt/anaconda3/lib/python3.8/site-packages/ipython_genutils/_version.py'>,\n",
      " 'ipython_genutils.encoding': <module 'ipython_genutils.encoding' from '/Users/jeffsong/opt/anaconda3/lib/python3.8/site-packages/ipython_genutils/encoding.py'>,\n",
      " 'ipython_genutils.path': <module 'ipython_genutils.path' from '/Users/jeffsong/opt/anaconda3/lib/python3.8/site-packages/ipython_genutils/path.py'>,\n",
      " 'ipython_genutils.py3compat': <module 'ipython_genutils.py3compat' from '/Users/jeffsong/opt/anaconda3/lib/python3.8/site-packages/ipython_genutils/py3compat.py'>,\n",
      " 'itertools': <module 'itertools' (built-in)>,\n",
      " 'jedi': <module 'jedi' from '/Users/jeffsong/opt/anaconda3/lib/python3.8/site-packages/jedi/__init__.py'>,\n",
      " 'jedi._compatibility': <module 'jedi._compatibility' from '/Users/jeffsong/opt/anaconda3/lib/python3.8/site-packages/jedi/_compatibility.py'>,\n",
      " 'jedi.api': <module 'jedi.api' from '/Users/jeffsong/opt/anaconda3/lib/python3.8/site-packages/jedi/api/__init__.py'>,\n",
      " 'jedi.api.classes': <module 'jedi.api.classes' from '/Users/jeffsong/opt/anaconda3/lib/python3.8/site-packages/jedi/api/classes.py'>,\n",
      " 'jedi.api.completion': <module 'jedi.api.completion' from '/Users/jeffsong/opt/anaconda3/lib/python3.8/site-packages/jedi/api/completion.py'>,\n",
      " 'jedi.api.completion_cache': <module 'jedi.api.completion_cache' from '/Users/jeffsong/opt/anaconda3/lib/python3.8/site-packages/jedi/api/completion_cache.py'>,\n",
      " 'jedi.api.environment': <module 'jedi.api.environment' from '/Users/jeffsong/opt/anaconda3/lib/python3.8/site-packages/jedi/api/environment.py'>,\n",
      " 'jedi.api.errors': <module 'jedi.api.errors' from '/Users/jeffsong/opt/anaconda3/lib/python3.8/site-packages/jedi/api/errors.py'>,\n",
      " 'jedi.api.exceptions': <module 'jedi.api.exceptions' from '/Users/jeffsong/opt/anaconda3/lib/python3.8/site-packages/jedi/api/exceptions.py'>,\n",
      " 'jedi.api.file_name': <module 'jedi.api.file_name' from '/Users/jeffsong/opt/anaconda3/lib/python3.8/site-packages/jedi/api/file_name.py'>,\n",
      " 'jedi.api.helpers': <module 'jedi.api.helpers' from '/Users/jeffsong/opt/anaconda3/lib/python3.8/site-packages/jedi/api/helpers.py'>,\n",
      " 'jedi.api.interpreter': <module 'jedi.api.interpreter' from '/Users/jeffsong/opt/anaconda3/lib/python3.8/site-packages/jedi/api/interpreter.py'>,\n",
      " 'jedi.api.keywords': <module 'jedi.api.keywords' from '/Users/jeffsong/opt/anaconda3/lib/python3.8/site-packages/jedi/api/keywords.py'>,\n",
      " 'jedi.api.project': <module 'jedi.api.project' from '/Users/jeffsong/opt/anaconda3/lib/python3.8/site-packages/jedi/api/project.py'>,\n",
      " 'jedi.api.refactoring': <module 'jedi.api.refactoring' from '/Users/jeffsong/opt/anaconda3/lib/python3.8/site-packages/jedi/api/refactoring/__init__.py'>,\n",
      " 'jedi.api.refactoring.extract': <module 'jedi.api.refactoring.extract' from '/Users/jeffsong/opt/anaconda3/lib/python3.8/site-packages/jedi/api/refactoring/extract.py'>,\n",
      " 'jedi.api.strings': <module 'jedi.api.strings' from '/Users/jeffsong/opt/anaconda3/lib/python3.8/site-packages/jedi/api/strings.py'>,\n",
      " 'jedi.cache': <module 'jedi.cache' from '/Users/jeffsong/opt/anaconda3/lib/python3.8/site-packages/jedi/cache.py'>,\n",
      " 'jedi.common': <module 'jedi.common' from '/Users/jeffsong/opt/anaconda3/lib/python3.8/site-packages/jedi/common.py'>,\n",
      " 'jedi.debug': <module 'jedi.debug' from '/Users/jeffsong/opt/anaconda3/lib/python3.8/site-packages/jedi/debug.py'>,\n",
      " 'jedi.file_io': <module 'jedi.file_io' from '/Users/jeffsong/opt/anaconda3/lib/python3.8/site-packages/jedi/file_io.py'>,\n",
      " 'jedi.inference': <module 'jedi.inference' from '/Users/jeffsong/opt/anaconda3/lib/python3.8/site-packages/jedi/inference/__init__.py'>,\n",
      " 'jedi.inference.analysis': <module 'jedi.inference.analysis' from '/Users/jeffsong/opt/anaconda3/lib/python3.8/site-packages/jedi/inference/analysis.py'>,\n",
      " 'jedi.inference.arguments': <module 'jedi.inference.arguments' from '/Users/jeffsong/opt/anaconda3/lib/python3.8/site-packages/jedi/inference/arguments.py'>,\n",
      " 'jedi.inference.base_value': <module 'jedi.inference.base_value' from '/Users/jeffsong/opt/anaconda3/lib/python3.8/site-packages/jedi/inference/base_value.py'>,\n",
      " 'jedi.inference.cache': <module 'jedi.inference.cache' from '/Users/jeffsong/opt/anaconda3/lib/python3.8/site-packages/jedi/inference/cache.py'>,\n",
      " 'jedi.inference.compiled': <module 'jedi.inference.compiled' from '/Users/jeffsong/opt/anaconda3/lib/python3.8/site-packages/jedi/inference/compiled/__init__.py'>,\n",
      " 'jedi.inference.compiled.access': <module 'jedi.inference.compiled.access' from '/Users/jeffsong/opt/anaconda3/lib/python3.8/site-packages/jedi/inference/compiled/access.py'>,\n",
      " 'jedi.inference.compiled.getattr_static': <module 'jedi.inference.compiled.getattr_static' from '/Users/jeffsong/opt/anaconda3/lib/python3.8/site-packages/jedi/inference/compiled/getattr_static.py'>,\n",
      " 'jedi.inference.compiled.mixed': <module 'jedi.inference.compiled.mixed' from '/Users/jeffsong/opt/anaconda3/lib/python3.8/site-packages/jedi/inference/compiled/mixed.py'>,\n",
      " 'jedi.inference.compiled.subprocess': <module 'jedi.inference.compiled.subprocess' from '/Users/jeffsong/opt/anaconda3/lib/python3.8/site-packages/jedi/inference/compiled/subprocess/__init__.py'>,\n",
      " 'jedi.inference.compiled.subprocess.functions': <module 'jedi.inference.compiled.subprocess.functions' from '/Users/jeffsong/opt/anaconda3/lib/python3.8/site-packages/jedi/inference/compiled/subprocess/functions.py'>,\n",
      " 'jedi.inference.compiled.value': <module 'jedi.inference.compiled.value' from '/Users/jeffsong/opt/anaconda3/lib/python3.8/site-packages/jedi/inference/compiled/value.py'>,\n",
      " 'jedi.inference.context': <module 'jedi.inference.context' from '/Users/jeffsong/opt/anaconda3/lib/python3.8/site-packages/jedi/inference/context.py'>,\n",
      " 'jedi.inference.docstrings': <module 'jedi.inference.docstrings' from '/Users/jeffsong/opt/anaconda3/lib/python3.8/site-packages/jedi/inference/docstrings.py'>,\n",
      " 'jedi.inference.filters': <module 'jedi.inference.filters' from '/Users/jeffsong/opt/anaconda3/lib/python3.8/site-packages/jedi/inference/filters.py'>,\n",
      " 'jedi.inference.flow_analysis': <module 'jedi.inference.flow_analysis' from '/Users/jeffsong/opt/anaconda3/lib/python3.8/site-packages/jedi/inference/flow_analysis.py'>,\n",
      " 'jedi.inference.gradual': <module 'jedi.inference.gradual' from '/Users/jeffsong/opt/anaconda3/lib/python3.8/site-packages/jedi/inference/gradual/__init__.py'>,\n",
      " 'jedi.inference.gradual.annotation': <module 'jedi.inference.gradual.annotation' from '/Users/jeffsong/opt/anaconda3/lib/python3.8/site-packages/jedi/inference/gradual/annotation.py'>,\n",
      " 'jedi.inference.gradual.base': <module 'jedi.inference.gradual.base' from '/Users/jeffsong/opt/anaconda3/lib/python3.8/site-packages/jedi/inference/gradual/base.py'>,\n",
      " 'jedi.inference.gradual.conversion': <module 'jedi.inference.gradual.conversion' from '/Users/jeffsong/opt/anaconda3/lib/python3.8/site-packages/jedi/inference/gradual/conversion.py'>,\n",
      " 'jedi.inference.gradual.generics': <module 'jedi.inference.gradual.generics' from '/Users/jeffsong/opt/anaconda3/lib/python3.8/site-packages/jedi/inference/gradual/generics.py'>,\n",
      " 'jedi.inference.gradual.stub_value': <module 'jedi.inference.gradual.stub_value' from '/Users/jeffsong/opt/anaconda3/lib/python3.8/site-packages/jedi/inference/gradual/stub_value.py'>,\n",
      " 'jedi.inference.gradual.type_var': <module 'jedi.inference.gradual.type_var' from '/Users/jeffsong/opt/anaconda3/lib/python3.8/site-packages/jedi/inference/gradual/type_var.py'>,\n",
      " 'jedi.inference.gradual.typeshed': <module 'jedi.inference.gradual.typeshed' from '/Users/jeffsong/opt/anaconda3/lib/python3.8/site-packages/jedi/inference/gradual/typeshed.py'>,\n",
      " 'jedi.inference.gradual.typing': <module 'jedi.inference.gradual.typing' from '/Users/jeffsong/opt/anaconda3/lib/python3.8/site-packages/jedi/inference/gradual/typing.py'>,\n",
      " 'jedi.inference.gradual.utils': <module 'jedi.inference.gradual.utils' from '/Users/jeffsong/opt/anaconda3/lib/python3.8/site-packages/jedi/inference/gradual/utils.py'>,\n",
      " 'jedi.inference.helpers': <module 'jedi.inference.helpers' from '/Users/jeffsong/opt/anaconda3/lib/python3.8/site-packages/jedi/inference/helpers.py'>,\n",
      " 'jedi.inference.imports': <module 'jedi.inference.imports' from '/Users/jeffsong/opt/anaconda3/lib/python3.8/site-packages/jedi/inference/imports.py'>,\n",
      " 'jedi.inference.lazy_value': <module 'jedi.inference.lazy_value' from '/Users/jeffsong/opt/anaconda3/lib/python3.8/site-packages/jedi/inference/lazy_value.py'>,\n",
      " 'jedi.inference.names': <module 'jedi.inference.names' from '/Users/jeffsong/opt/anaconda3/lib/python3.8/site-packages/jedi/inference/names.py'>,\n",
      " 'jedi.inference.param': <module 'jedi.inference.param' from '/Users/jeffsong/opt/anaconda3/lib/python3.8/site-packages/jedi/inference/param.py'>,\n",
      " 'jedi.inference.parser_cache': <module 'jedi.inference.parser_cache' from '/Users/jeffsong/opt/anaconda3/lib/python3.8/site-packages/jedi/inference/parser_cache.py'>,\n",
      " 'jedi.inference.recursion': <module 'jedi.inference.recursion' from '/Users/jeffsong/opt/anaconda3/lib/python3.8/site-packages/jedi/inference/recursion.py'>,\n",
      " 'jedi.inference.references': <module 'jedi.inference.references' from '/Users/jeffsong/opt/anaconda3/lib/python3.8/site-packages/jedi/inference/references.py'>,\n",
      " 'jedi.inference.signature': <module 'jedi.inference.signature' from '/Users/jeffsong/opt/anaconda3/lib/python3.8/site-packages/jedi/inference/signature.py'>,\n",
      " 'jedi.inference.syntax_tree': <module 'jedi.inference.syntax_tree' from '/Users/jeffsong/opt/anaconda3/lib/python3.8/site-packages/jedi/inference/syntax_tree.py'>,\n",
      " 'jedi.inference.sys_path': <module 'jedi.inference.sys_path' from '/Users/jeffsong/opt/anaconda3/lib/python3.8/site-packages/jedi/inference/sys_path.py'>,\n",
      " 'jedi.inference.utils': <module 'jedi.inference.utils' from '/Users/jeffsong/opt/anaconda3/lib/python3.8/site-packages/jedi/inference/utils.py'>,\n",
      " 'jedi.inference.value': <module 'jedi.inference.value' from '/Users/jeffsong/opt/anaconda3/lib/python3.8/site-packages/jedi/inference/value/__init__.py'>,\n",
      " 'jedi.inference.value.decorator': <module 'jedi.inference.value.decorator' from '/Users/jeffsong/opt/anaconda3/lib/python3.8/site-packages/jedi/inference/value/decorator.py'>,\n",
      " 'jedi.inference.value.dynamic_arrays': <module 'jedi.inference.value.dynamic_arrays' from '/Users/jeffsong/opt/anaconda3/lib/python3.8/site-packages/jedi/inference/value/dynamic_arrays.py'>,\n",
      " 'jedi.inference.value.function': <module 'jedi.inference.value.function' from '/Users/jeffsong/opt/anaconda3/lib/python3.8/site-packages/jedi/inference/value/function.py'>,\n",
      " 'jedi.inference.value.instance': <module 'jedi.inference.value.instance' from '/Users/jeffsong/opt/anaconda3/lib/python3.8/site-packages/jedi/inference/value/instance.py'>,\n",
      " 'jedi.inference.value.iterable': <module 'jedi.inference.value.iterable' from '/Users/jeffsong/opt/anaconda3/lib/python3.8/site-packages/jedi/inference/value/iterable.py'>,\n",
      " 'jedi.inference.value.klass': <module 'jedi.inference.value.klass' from '/Users/jeffsong/opt/anaconda3/lib/python3.8/site-packages/jedi/inference/value/klass.py'>,\n",
      " 'jedi.inference.value.module': <module 'jedi.inference.value.module' from '/Users/jeffsong/opt/anaconda3/lib/python3.8/site-packages/jedi/inference/value/module.py'>,\n",
      " 'jedi.parser_utils': <module 'jedi.parser_utils' from '/Users/jeffsong/opt/anaconda3/lib/python3.8/site-packages/jedi/parser_utils.py'>,\n",
      " 'jedi.plugins': <module 'jedi.plugins' from '/Users/jeffsong/opt/anaconda3/lib/python3.8/site-packages/jedi/plugins/__init__.py'>,\n",
      " 'jedi.plugins.django': <module 'jedi.plugins.django' from '/Users/jeffsong/opt/anaconda3/lib/python3.8/site-packages/jedi/plugins/django.py'>,\n",
      " 'jedi.plugins.flask': <module 'jedi.plugins.flask' from '/Users/jeffsong/opt/anaconda3/lib/python3.8/site-packages/jedi/plugins/flask.py'>,\n",
      " 'jedi.plugins.pytest': <module 'jedi.plugins.pytest' from '/Users/jeffsong/opt/anaconda3/lib/python3.8/site-packages/jedi/plugins/pytest.py'>,\n",
      " 'jedi.plugins.registry': <module 'jedi.plugins.registry' from '/Users/jeffsong/opt/anaconda3/lib/python3.8/site-packages/jedi/plugins/registry.py'>,\n",
      " 'jedi.plugins.stdlib': <module 'jedi.plugins.stdlib' from '/Users/jeffsong/opt/anaconda3/lib/python3.8/site-packages/jedi/plugins/stdlib.py'>,\n",
      " 'jedi.settings': <module 'jedi.settings' from '/Users/jeffsong/opt/anaconda3/lib/python3.8/site-packages/jedi/settings.py'>,\n",
      " 'json': <module 'json' from '/Users/jeffsong/opt/anaconda3/lib/python3.8/json/__init__.py'>,\n",
      " 'json.decoder': <module 'json.decoder' from '/Users/jeffsong/opt/anaconda3/lib/python3.8/json/decoder.py'>,\n",
      " 'json.encoder': <module 'json.encoder' from '/Users/jeffsong/opt/anaconda3/lib/python3.8/json/encoder.py'>,\n",
      " 'json.scanner': <module 'json.scanner' from '/Users/jeffsong/opt/anaconda3/lib/python3.8/json/scanner.py'>,\n",
      " 'jupyter_client': <module 'jupyter_client' from '/Users/jeffsong/opt/anaconda3/lib/python3.8/site-packages/jupyter_client/__init__.py'>,\n",
      " 'jupyter_client._version': <module 'jupyter_client._version' from '/Users/jeffsong/opt/anaconda3/lib/python3.8/site-packages/jupyter_client/_version.py'>,\n",
      " 'jupyter_client.adapter': <module 'jupyter_client.adapter' from '/Users/jeffsong/opt/anaconda3/lib/python3.8/site-packages/jupyter_client/adapter.py'>,\n",
      " 'jupyter_client.asynchronous': <module 'jupyter_client.asynchronous' from '/Users/jeffsong/opt/anaconda3/lib/python3.8/site-packages/jupyter_client/asynchronous/__init__.py'>,\n",
      " 'jupyter_client.asynchronous.channels': <module 'jupyter_client.asynchronous.channels' from '/Users/jeffsong/opt/anaconda3/lib/python3.8/site-packages/jupyter_client/asynchronous/channels.py'>,\n",
      " 'jupyter_client.asynchronous.client': <module 'jupyter_client.asynchronous.client' from '/Users/jeffsong/opt/anaconda3/lib/python3.8/site-packages/jupyter_client/asynchronous/client.py'>,\n",
      " 'jupyter_client.blocking': <module 'jupyter_client.blocking' from '/Users/jeffsong/opt/anaconda3/lib/python3.8/site-packages/jupyter_client/blocking/__init__.py'>,\n",
      " 'jupyter_client.blocking.channels': <module 'jupyter_client.blocking.channels' from '/Users/jeffsong/opt/anaconda3/lib/python3.8/site-packages/jupyter_client/blocking/channels.py'>,\n",
      " 'jupyter_client.blocking.client': <module 'jupyter_client.blocking.client' from '/Users/jeffsong/opt/anaconda3/lib/python3.8/site-packages/jupyter_client/blocking/client.py'>,\n",
      " 'jupyter_client.channels': <module 'jupyter_client.channels' from '/Users/jeffsong/opt/anaconda3/lib/python3.8/site-packages/jupyter_client/channels.py'>,\n",
      " 'jupyter_client.channelsabc': <module 'jupyter_client.channelsabc' from '/Users/jeffsong/opt/anaconda3/lib/python3.8/site-packages/jupyter_client/channelsabc.py'>,\n",
      " 'jupyter_client.client': <module 'jupyter_client.client' from '/Users/jeffsong/opt/anaconda3/lib/python3.8/site-packages/jupyter_client/client.py'>,\n",
      " 'jupyter_client.clientabc': <module 'jupyter_client.clientabc' from '/Users/jeffsong/opt/anaconda3/lib/python3.8/site-packages/jupyter_client/clientabc.py'>,\n",
      " 'jupyter_client.connect': <module 'jupyter_client.connect' from '/Users/jeffsong/opt/anaconda3/lib/python3.8/site-packages/jupyter_client/connect.py'>,\n",
      " 'jupyter_client.jsonutil': <module 'jupyter_client.jsonutil' from '/Users/jeffsong/opt/anaconda3/lib/python3.8/site-packages/jupyter_client/jsonutil.py'>,\n",
      " 'jupyter_client.kernelspec': <module 'jupyter_client.kernelspec' from '/Users/jeffsong/opt/anaconda3/lib/python3.8/site-packages/jupyter_client/kernelspec.py'>,\n",
      " 'jupyter_client.launcher': <module 'jupyter_client.launcher' from '/Users/jeffsong/opt/anaconda3/lib/python3.8/site-packages/jupyter_client/launcher.py'>,\n",
      " 'jupyter_client.localinterfaces': <module 'jupyter_client.localinterfaces' from '/Users/jeffsong/opt/anaconda3/lib/python3.8/site-packages/jupyter_client/localinterfaces.py'>,\n",
      " 'jupyter_client.manager': <module 'jupyter_client.manager' from '/Users/jeffsong/opt/anaconda3/lib/python3.8/site-packages/jupyter_client/manager.py'>,\n",
      " 'jupyter_client.managerabc': <module 'jupyter_client.managerabc' from '/Users/jeffsong/opt/anaconda3/lib/python3.8/site-packages/jupyter_client/managerabc.py'>,\n",
      " 'jupyter_client.multikernelmanager': <module 'jupyter_client.multikernelmanager' from '/Users/jeffsong/opt/anaconda3/lib/python3.8/site-packages/jupyter_client/multikernelmanager.py'>,\n",
      " 'jupyter_client.session': <module 'jupyter_client.session' from '/Users/jeffsong/opt/anaconda3/lib/python3.8/site-packages/jupyter_client/session.py'>,\n",
      " 'jupyter_client.utils': <module 'jupyter_client.utils' from '/Users/jeffsong/opt/anaconda3/lib/python3.8/site-packages/jupyter_client/utils.py'>,\n",
      " 'jupyter_core': <module 'jupyter_core' from '/Users/jeffsong/opt/anaconda3/lib/python3.8/site-packages/jupyter_core/__init__.py'>,\n",
      " 'jupyter_core.paths': <module 'jupyter_core.paths' from '/Users/jeffsong/opt/anaconda3/lib/python3.8/site-packages/jupyter_core/paths.py'>,\n",
      " 'jupyter_core.version': <module 'jupyter_core.version' from '/Users/jeffsong/opt/anaconda3/lib/python3.8/site-packages/jupyter_core/version.py'>,\n",
      " 'keyword': <module 'keyword' from '/Users/jeffsong/opt/anaconda3/lib/python3.8/keyword.py'>,\n",
      " 'linecache': <module 'linecache' from '/Users/jeffsong/opt/anaconda3/lib/python3.8/linecache.py'>,\n",
      " 'locale': <module 'locale' from '/Users/jeffsong/opt/anaconda3/lib/python3.8/locale.py'>,\n",
      " 'logging': <module 'logging' from '/Users/jeffsong/opt/anaconda3/lib/python3.8/logging/__init__.py'>,\n",
      " 'logging.handlers': <module 'logging.handlers' from '/Users/jeffsong/opt/anaconda3/lib/python3.8/logging/handlers.py'>,\n",
      " 'lzma': <module 'lzma' from '/Users/jeffsong/opt/anaconda3/lib/python3.8/lzma.py'>,\n",
      " 'marshal': <module 'marshal' (built-in)>,\n",
      " 'math': <module 'math' from '/Users/jeffsong/opt/anaconda3/lib/python3.8/lib-dynload/math.cpython-38-darwin.so'>,\n",
      " 'mimetypes': <module 'mimetypes' from '/Users/jeffsong/opt/anaconda3/lib/python3.8/mimetypes.py'>,\n",
      " 'mpl_toolkits': <module 'mpl_toolkits' (namespace)>,\n",
      " 'ntpath': <module 'ntpath' from '/Users/jeffsong/opt/anaconda3/lib/python3.8/ntpath.py'>,\n",
      " 'numbers': <module 'numbers' from '/Users/jeffsong/opt/anaconda3/lib/python3.8/numbers.py'>,\n",
      " 'opcode': <module 'opcode' from '/Users/jeffsong/opt/anaconda3/lib/python3.8/opcode.py'>,\n",
      " 'operator': <module 'operator' from '/Users/jeffsong/opt/anaconda3/lib/python3.8/operator.py'>,\n",
      " 'os': <module 'os' from '/Users/jeffsong/opt/anaconda3/lib/python3.8/os.py'>,\n",
      " 'os.path': <module 'posixpath' from '/Users/jeffsong/opt/anaconda3/lib/python3.8/posixpath.py'>,\n",
      " 'parso': <module 'parso' from '/Users/jeffsong/opt/anaconda3/lib/python3.8/site-packages/parso/__init__.py'>,\n",
      " 'parso._compatibility': <module 'parso._compatibility' from '/Users/jeffsong/opt/anaconda3/lib/python3.8/site-packages/parso/_compatibility.py'>,\n",
      " 'parso.cache': <module 'parso.cache' from '/Users/jeffsong/opt/anaconda3/lib/python3.8/site-packages/parso/cache.py'>,\n",
      " 'parso.file_io': <module 'parso.file_io' from '/Users/jeffsong/opt/anaconda3/lib/python3.8/site-packages/parso/file_io.py'>,\n",
      " 'parso.grammar': <module 'parso.grammar' from '/Users/jeffsong/opt/anaconda3/lib/python3.8/site-packages/parso/grammar.py'>,\n",
      " 'parso.normalizer': <module 'parso.normalizer' from '/Users/jeffsong/opt/anaconda3/lib/python3.8/site-packages/parso/normalizer.py'>,\n",
      " 'parso.parser': <module 'parso.parser' from '/Users/jeffsong/opt/anaconda3/lib/python3.8/site-packages/parso/parser.py'>,\n",
      " 'parso.pgen2': <module 'parso.pgen2' from '/Users/jeffsong/opt/anaconda3/lib/python3.8/site-packages/parso/pgen2/__init__.py'>,\n",
      " 'parso.pgen2.generator': <module 'parso.pgen2.generator' from '/Users/jeffsong/opt/anaconda3/lib/python3.8/site-packages/parso/pgen2/generator.py'>,\n",
      " 'parso.pgen2.grammar_parser': <module 'parso.pgen2.grammar_parser' from '/Users/jeffsong/opt/anaconda3/lib/python3.8/site-packages/parso/pgen2/grammar_parser.py'>,\n",
      " 'parso.python': <module 'parso.python' from '/Users/jeffsong/opt/anaconda3/lib/python3.8/site-packages/parso/python/__init__.py'>,\n",
      " 'parso.python.diff': <module 'parso.python.diff' from '/Users/jeffsong/opt/anaconda3/lib/python3.8/site-packages/parso/python/diff.py'>,\n",
      " 'parso.python.errors': <module 'parso.python.errors' from '/Users/jeffsong/opt/anaconda3/lib/python3.8/site-packages/parso/python/errors.py'>,\n",
      " 'parso.python.parser': <module 'parso.python.parser' from '/Users/jeffsong/opt/anaconda3/lib/python3.8/site-packages/parso/python/parser.py'>,\n",
      " 'parso.python.pep8': <module 'parso.python.pep8' from '/Users/jeffsong/opt/anaconda3/lib/python3.8/site-packages/parso/python/pep8.py'>,\n",
      " 'parso.python.prefix': <module 'parso.python.prefix' from '/Users/jeffsong/opt/anaconda3/lib/python3.8/site-packages/parso/python/prefix.py'>,\n",
      " 'parso.python.token': <module 'parso.python.token' from '/Users/jeffsong/opt/anaconda3/lib/python3.8/site-packages/parso/python/token.py'>,\n",
      " 'parso.python.tokenize': <module 'parso.python.tokenize' from '/Users/jeffsong/opt/anaconda3/lib/python3.8/site-packages/parso/python/tokenize.py'>,\n",
      " 'parso.python.tree': <module 'parso.python.tree' from '/Users/jeffsong/opt/anaconda3/lib/python3.8/site-packages/parso/python/tree.py'>,\n",
      " 'parso.tree': <module 'parso.tree' from '/Users/jeffsong/opt/anaconda3/lib/python3.8/site-packages/parso/tree.py'>,\n",
      " 'parso.utils': <module 'parso.utils' from '/Users/jeffsong/opt/anaconda3/lib/python3.8/site-packages/parso/utils.py'>,\n",
      " 'pathlib': <module 'pathlib' from '/Users/jeffsong/opt/anaconda3/lib/python3.8/pathlib.py'>,\n",
      " 'pdb': <module 'pdb' from '/Users/jeffsong/opt/anaconda3/lib/python3.8/pdb.py'>,\n",
      " 'pexpect': <module 'pexpect' from '/Users/jeffsong/opt/anaconda3/lib/python3.8/site-packages/pexpect/__init__.py'>,\n",
      " 'pexpect.exceptions': <module 'pexpect.exceptions' from '/Users/jeffsong/opt/anaconda3/lib/python3.8/site-packages/pexpect/exceptions.py'>,\n",
      " 'pexpect.expect': <module 'pexpect.expect' from '/Users/jeffsong/opt/anaconda3/lib/python3.8/site-packages/pexpect/expect.py'>,\n",
      " 'pexpect.pty_spawn': <module 'pexpect.pty_spawn' from '/Users/jeffsong/opt/anaconda3/lib/python3.8/site-packages/pexpect/pty_spawn.py'>,\n",
      " 'pexpect.run': <module 'pexpect.run' from '/Users/jeffsong/opt/anaconda3/lib/python3.8/site-packages/pexpect/run.py'>,\n",
      " 'pexpect.spawnbase': <module 'pexpect.spawnbase' from '/Users/jeffsong/opt/anaconda3/lib/python3.8/site-packages/pexpect/spawnbase.py'>,\n",
      " 'pexpect.utils': <module 'pexpect.utils' from '/Users/jeffsong/opt/anaconda3/lib/python3.8/site-packages/pexpect/utils.py'>,\n",
      " 'pickle': <module 'pickle' from '/Users/jeffsong/opt/anaconda3/lib/python3.8/pickle.py'>,\n",
      " 'pickleshare': <module 'pickleshare' from '/Users/jeffsong/opt/anaconda3/lib/python3.8/site-packages/pickleshare.py'>,\n",
      " 'pkg_resources': <module 'pkg_resources' from '/Users/jeffsong/opt/anaconda3/lib/python3.8/site-packages/pkg_resources/__init__.py'>,\n",
      " 'pkg_resources._vendor': <module 'pkg_resources._vendor' from '/Users/jeffsong/opt/anaconda3/lib/python3.8/site-packages/pkg_resources/_vendor/__init__.py'>,\n",
      " 'pkg_resources._vendor.appdirs': <module 'pkg_resources.extern.appdirs' (<pkg_resources.extern.VendorImporter object at 0x7fc5c15f3460>)>,\n",
      " 'pkg_resources._vendor.packaging': <module 'pkg_resources.extern.packaging' (<pkg_resources.extern.VendorImporter object at 0x7fc5c15f3460>)>,\n",
      " 'pkg_resources._vendor.packaging.__about__': <module 'pkg_resources._vendor.packaging.__about__' from '/Users/jeffsong/opt/anaconda3/lib/python3.8/site-packages/pkg_resources/_vendor/packaging/__about__.py'>,\n",
      " 'pkg_resources._vendor.pyparsing': <module 'pkg_resources.extern.pyparsing' (<pkg_resources.extern.VendorImporter object at 0x7fc5c15f3460>)>,\n",
      " 'pkg_resources.extern': <module 'pkg_resources.extern' from '/Users/jeffsong/opt/anaconda3/lib/python3.8/site-packages/pkg_resources/extern/__init__.py'>,\n",
      " 'pkg_resources.extern.appdirs': <module 'pkg_resources.extern.appdirs' (<pkg_resources.extern.VendorImporter object at 0x7fc5c15f3460>)>,\n",
      " 'pkg_resources.extern.packaging': <module 'pkg_resources.extern.packaging' (<pkg_resources.extern.VendorImporter object at 0x7fc5c15f3460>)>,\n",
      " 'pkg_resources.extern.packaging._compat': <module 'pkg_resources.extern.packaging._compat' from '/Users/jeffsong/opt/anaconda3/lib/python3.8/site-packages/pkg_resources/_vendor/packaging/_compat.py'>,\n",
      " 'pkg_resources.extern.packaging._structures': <module 'pkg_resources.extern.packaging._structures' from '/Users/jeffsong/opt/anaconda3/lib/python3.8/site-packages/pkg_resources/_vendor/packaging/_structures.py'>,\n",
      " 'pkg_resources.extern.packaging._typing': <module 'pkg_resources.extern.packaging._typing' from '/Users/jeffsong/opt/anaconda3/lib/python3.8/site-packages/pkg_resources/_vendor/packaging/_typing.py'>,\n",
      " 'pkg_resources.extern.packaging.markers': <module 'pkg_resources.extern.packaging.markers' from '/Users/jeffsong/opt/anaconda3/lib/python3.8/site-packages/pkg_resources/_vendor/packaging/markers.py'>,\n",
      " 'pkg_resources.extern.packaging.requirements': <module 'pkg_resources.extern.packaging.requirements' from '/Users/jeffsong/opt/anaconda3/lib/python3.8/site-packages/pkg_resources/_vendor/packaging/requirements.py'>,\n",
      " 'pkg_resources.extern.packaging.specifiers': <module 'pkg_resources.extern.packaging.specifiers' from '/Users/jeffsong/opt/anaconda3/lib/python3.8/site-packages/pkg_resources/_vendor/packaging/specifiers.py'>,\n",
      " 'pkg_resources.extern.packaging.utils': <module 'pkg_resources.extern.packaging.utils' from '/Users/jeffsong/opt/anaconda3/lib/python3.8/site-packages/pkg_resources/_vendor/packaging/utils.py'>,\n",
      " 'pkg_resources.extern.packaging.version': <module 'pkg_resources.extern.packaging.version' from '/Users/jeffsong/opt/anaconda3/lib/python3.8/site-packages/pkg_resources/_vendor/packaging/version.py'>,\n",
      " 'pkg_resources.extern.pyparsing': <module 'pkg_resources.extern.pyparsing' (<pkg_resources.extern.VendorImporter object at 0x7fc5c15f3460>)>,\n",
      " 'pkgutil': <module 'pkgutil' from '/Users/jeffsong/opt/anaconda3/lib/python3.8/pkgutil.py'>,\n",
      " 'platform': <module 'platform' from '/Users/jeffsong/opt/anaconda3/lib/python3.8/platform.py'>,\n",
      " 'plistlib': <module 'plistlib' from '/Users/jeffsong/opt/anaconda3/lib/python3.8/plistlib.py'>,\n",
      " 'posix': <module 'posix' (built-in)>,\n",
      " 'posixpath': <module 'posixpath' from '/Users/jeffsong/opt/anaconda3/lib/python3.8/posixpath.py'>,\n",
      " 'pprint': <module 'pprint' from '/Users/jeffsong/opt/anaconda3/lib/python3.8/pprint.py'>,\n",
      " 'profile': <module 'profile' from '/Users/jeffsong/opt/anaconda3/lib/python3.8/profile.py'>,\n",
      " 'prompt_toolkit': <module 'prompt_toolkit' from '/Users/jeffsong/opt/anaconda3/lib/python3.8/site-packages/prompt_toolkit/__init__.py'>,\n",
      " 'prompt_toolkit.application': <module 'prompt_toolkit.application' from '/Users/jeffsong/opt/anaconda3/lib/python3.8/site-packages/prompt_toolkit/application/__init__.py'>,\n",
      " 'prompt_toolkit.application.application': <module 'prompt_toolkit.application.application' from '/Users/jeffsong/opt/anaconda3/lib/python3.8/site-packages/prompt_toolkit/application/application.py'>,\n",
      " 'prompt_toolkit.application.current': <module 'prompt_toolkit.application.current' from '/Users/jeffsong/opt/anaconda3/lib/python3.8/site-packages/prompt_toolkit/application/current.py'>,\n",
      " 'prompt_toolkit.application.dummy': <module 'prompt_toolkit.application.dummy' from '/Users/jeffsong/opt/anaconda3/lib/python3.8/site-packages/prompt_toolkit/application/dummy.py'>,\n",
      " 'prompt_toolkit.application.run_in_terminal': <module 'prompt_toolkit.application.run_in_terminal' from '/Users/jeffsong/opt/anaconda3/lib/python3.8/site-packages/prompt_toolkit/application/run_in_terminal.py'>,\n",
      " 'prompt_toolkit.auto_suggest': <module 'prompt_toolkit.auto_suggest' from '/Users/jeffsong/opt/anaconda3/lib/python3.8/site-packages/prompt_toolkit/auto_suggest.py'>,\n",
      " 'prompt_toolkit.buffer': <module 'prompt_toolkit.buffer' from '/Users/jeffsong/opt/anaconda3/lib/python3.8/site-packages/prompt_toolkit/buffer.py'>,\n",
      " 'prompt_toolkit.cache': <module 'prompt_toolkit.cache' from '/Users/jeffsong/opt/anaconda3/lib/python3.8/site-packages/prompt_toolkit/cache.py'>,\n",
      " 'prompt_toolkit.clipboard': <module 'prompt_toolkit.clipboard' from '/Users/jeffsong/opt/anaconda3/lib/python3.8/site-packages/prompt_toolkit/clipboard/__init__.py'>,\n",
      " 'prompt_toolkit.clipboard.base': <module 'prompt_toolkit.clipboard.base' from '/Users/jeffsong/opt/anaconda3/lib/python3.8/site-packages/prompt_toolkit/clipboard/base.py'>,\n",
      " 'prompt_toolkit.clipboard.in_memory': <module 'prompt_toolkit.clipboard.in_memory' from '/Users/jeffsong/opt/anaconda3/lib/python3.8/site-packages/prompt_toolkit/clipboard/in_memory.py'>,\n",
      " 'prompt_toolkit.completion': <module 'prompt_toolkit.completion' from '/Users/jeffsong/opt/anaconda3/lib/python3.8/site-packages/prompt_toolkit/completion/__init__.py'>,\n",
      " 'prompt_toolkit.completion.base': <module 'prompt_toolkit.completion.base' from '/Users/jeffsong/opt/anaconda3/lib/python3.8/site-packages/prompt_toolkit/completion/base.py'>,\n",
      " 'prompt_toolkit.completion.deduplicate': <module 'prompt_toolkit.completion.deduplicate' from '/Users/jeffsong/opt/anaconda3/lib/python3.8/site-packages/prompt_toolkit/completion/deduplicate.py'>,\n",
      " 'prompt_toolkit.completion.filesystem': <module 'prompt_toolkit.completion.filesystem' from '/Users/jeffsong/opt/anaconda3/lib/python3.8/site-packages/prompt_toolkit/completion/filesystem.py'>,\n",
      " 'prompt_toolkit.completion.fuzzy_completer': <module 'prompt_toolkit.completion.fuzzy_completer' from '/Users/jeffsong/opt/anaconda3/lib/python3.8/site-packages/prompt_toolkit/completion/fuzzy_completer.py'>,\n",
      " 'prompt_toolkit.completion.nested': <module 'prompt_toolkit.completion.nested' from '/Users/jeffsong/opt/anaconda3/lib/python3.8/site-packages/prompt_toolkit/completion/nested.py'>,\n",
      " 'prompt_toolkit.completion.word_completer': <module 'prompt_toolkit.completion.word_completer' from '/Users/jeffsong/opt/anaconda3/lib/python3.8/site-packages/prompt_toolkit/completion/word_completer.py'>,\n",
      " 'prompt_toolkit.data_structures': <module 'prompt_toolkit.data_structures' from '/Users/jeffsong/opt/anaconda3/lib/python3.8/site-packages/prompt_toolkit/data_structures.py'>,\n",
      " 'prompt_toolkit.document': <module 'prompt_toolkit.document' from '/Users/jeffsong/opt/anaconda3/lib/python3.8/site-packages/prompt_toolkit/document.py'>,\n",
      " 'prompt_toolkit.enums': <module 'prompt_toolkit.enums' from '/Users/jeffsong/opt/anaconda3/lib/python3.8/site-packages/prompt_toolkit/enums.py'>,\n",
      " 'prompt_toolkit.eventloop': <module 'prompt_toolkit.eventloop' from '/Users/jeffsong/opt/anaconda3/lib/python3.8/site-packages/prompt_toolkit/eventloop/__init__.py'>,\n",
      " 'prompt_toolkit.eventloop.async_generator': <module 'prompt_toolkit.eventloop.async_generator' from '/Users/jeffsong/opt/anaconda3/lib/python3.8/site-packages/prompt_toolkit/eventloop/async_generator.py'>,\n",
      " 'prompt_toolkit.eventloop.inputhook': <module 'prompt_toolkit.eventloop.inputhook' from '/Users/jeffsong/opt/anaconda3/lib/python3.8/site-packages/prompt_toolkit/eventloop/inputhook.py'>,\n",
      " 'prompt_toolkit.eventloop.utils': <module 'prompt_toolkit.eventloop.utils' from '/Users/jeffsong/opt/anaconda3/lib/python3.8/site-packages/prompt_toolkit/eventloop/utils.py'>,\n",
      " 'prompt_toolkit.filters': <module 'prompt_toolkit.filters' from '/Users/jeffsong/opt/anaconda3/lib/python3.8/site-packages/prompt_toolkit/filters/__init__.py'>,\n",
      " 'prompt_toolkit.filters.app': <module 'prompt_toolkit.filters.app' from '/Users/jeffsong/opt/anaconda3/lib/python3.8/site-packages/prompt_toolkit/filters/app.py'>,\n",
      " 'prompt_toolkit.filters.base': <module 'prompt_toolkit.filters.base' from '/Users/jeffsong/opt/anaconda3/lib/python3.8/site-packages/prompt_toolkit/filters/base.py'>,\n",
      " 'prompt_toolkit.filters.cli': <module 'prompt_toolkit.filters.cli' from '/Users/jeffsong/opt/anaconda3/lib/python3.8/site-packages/prompt_toolkit/filters/cli.py'>,\n",
      " 'prompt_toolkit.filters.utils': <module 'prompt_toolkit.filters.utils' from '/Users/jeffsong/opt/anaconda3/lib/python3.8/site-packages/prompt_toolkit/filters/utils.py'>,\n",
      " 'prompt_toolkit.formatted_text': <module 'prompt_toolkit.formatted_text' from '/Users/jeffsong/opt/anaconda3/lib/python3.8/site-packages/prompt_toolkit/formatted_text/__init__.py'>,\n",
      " 'prompt_toolkit.formatted_text.ansi': <module 'prompt_toolkit.formatted_text.ansi' from '/Users/jeffsong/opt/anaconda3/lib/python3.8/site-packages/prompt_toolkit/formatted_text/ansi.py'>,\n",
      " 'prompt_toolkit.formatted_text.base': <module 'prompt_toolkit.formatted_text.base' from '/Users/jeffsong/opt/anaconda3/lib/python3.8/site-packages/prompt_toolkit/formatted_text/base.py'>,\n",
      " 'prompt_toolkit.formatted_text.html': <module 'prompt_toolkit.formatted_text.html' from '/Users/jeffsong/opt/anaconda3/lib/python3.8/site-packages/prompt_toolkit/formatted_text/html.py'>,\n",
      " 'prompt_toolkit.formatted_text.pygments': <module 'prompt_toolkit.formatted_text.pygments' from '/Users/jeffsong/opt/anaconda3/lib/python3.8/site-packages/prompt_toolkit/formatted_text/pygments.py'>,\n",
      " 'prompt_toolkit.formatted_text.utils': <module 'prompt_toolkit.formatted_text.utils' from '/Users/jeffsong/opt/anaconda3/lib/python3.8/site-packages/prompt_toolkit/formatted_text/utils.py'>,\n",
      " 'prompt_toolkit.history': <module 'prompt_toolkit.history' from '/Users/jeffsong/opt/anaconda3/lib/python3.8/site-packages/prompt_toolkit/history.py'>,\n",
      " 'prompt_toolkit.input': <module 'prompt_toolkit.input' from '/Users/jeffsong/opt/anaconda3/lib/python3.8/site-packages/prompt_toolkit/input/__init__.py'>,\n",
      " 'prompt_toolkit.input.ansi_escape_sequences': <module 'prompt_toolkit.input.ansi_escape_sequences' from '/Users/jeffsong/opt/anaconda3/lib/python3.8/site-packages/prompt_toolkit/input/ansi_escape_sequences.py'>,\n",
      " 'prompt_toolkit.input.base': <module 'prompt_toolkit.input.base' from '/Users/jeffsong/opt/anaconda3/lib/python3.8/site-packages/prompt_toolkit/input/base.py'>,\n",
      " 'prompt_toolkit.input.defaults': <module 'prompt_toolkit.input.defaults' from '/Users/jeffsong/opt/anaconda3/lib/python3.8/site-packages/prompt_toolkit/input/defaults.py'>,\n",
      " 'prompt_toolkit.input.typeahead': <module 'prompt_toolkit.input.typeahead' from '/Users/jeffsong/opt/anaconda3/lib/python3.8/site-packages/prompt_toolkit/input/typeahead.py'>,\n",
      " 'prompt_toolkit.input.vt100_parser': <module 'prompt_toolkit.input.vt100_parser' from '/Users/jeffsong/opt/anaconda3/lib/python3.8/site-packages/prompt_toolkit/input/vt100_parser.py'>,\n",
      " 'prompt_toolkit.key_binding': <module 'prompt_toolkit.key_binding' from '/Users/jeffsong/opt/anaconda3/lib/python3.8/site-packages/prompt_toolkit/key_binding/__init__.py'>,\n",
      " 'prompt_toolkit.key_binding.bindings': <module 'prompt_toolkit.key_binding.bindings' from '/Users/jeffsong/opt/anaconda3/lib/python3.8/site-packages/prompt_toolkit/key_binding/bindings/__init__.py'>,\n",
      " 'prompt_toolkit.key_binding.bindings.auto_suggest': <module 'prompt_toolkit.key_binding.bindings.auto_suggest' from '/Users/jeffsong/opt/anaconda3/lib/python3.8/site-packages/prompt_toolkit/key_binding/bindings/auto_suggest.py'>,\n",
      " 'prompt_toolkit.key_binding.bindings.basic': <module 'prompt_toolkit.key_binding.bindings.basic' from '/Users/jeffsong/opt/anaconda3/lib/python3.8/site-packages/prompt_toolkit/key_binding/bindings/basic.py'>,\n",
      " 'prompt_toolkit.key_binding.bindings.completion': <module 'prompt_toolkit.key_binding.bindings.completion' from '/Users/jeffsong/opt/anaconda3/lib/python3.8/site-packages/prompt_toolkit/key_binding/bindings/completion.py'>,\n",
      " 'prompt_toolkit.key_binding.bindings.cpr': <module 'prompt_toolkit.key_binding.bindings.cpr' from '/Users/jeffsong/opt/anaconda3/lib/python3.8/site-packages/prompt_toolkit/key_binding/bindings/cpr.py'>,\n",
      " 'prompt_toolkit.key_binding.bindings.emacs': <module 'prompt_toolkit.key_binding.bindings.emacs' from '/Users/jeffsong/opt/anaconda3/lib/python3.8/site-packages/prompt_toolkit/key_binding/bindings/emacs.py'>,\n",
      " 'prompt_toolkit.key_binding.bindings.focus': <module 'prompt_toolkit.key_binding.bindings.focus' from '/Users/jeffsong/opt/anaconda3/lib/python3.8/site-packages/prompt_toolkit/key_binding/bindings/focus.py'>,\n",
      " 'prompt_toolkit.key_binding.bindings.mouse': <module 'prompt_toolkit.key_binding.bindings.mouse' from '/Users/jeffsong/opt/anaconda3/lib/python3.8/site-packages/prompt_toolkit/key_binding/bindings/mouse.py'>,\n",
      " 'prompt_toolkit.key_binding.bindings.named_commands': <module 'prompt_toolkit.key_binding.bindings.named_commands' from '/Users/jeffsong/opt/anaconda3/lib/python3.8/site-packages/prompt_toolkit/key_binding/bindings/named_commands.py'>,\n",
      " 'prompt_toolkit.key_binding.bindings.open_in_editor': <module 'prompt_toolkit.key_binding.bindings.open_in_editor' from '/Users/jeffsong/opt/anaconda3/lib/python3.8/site-packages/prompt_toolkit/key_binding/bindings/open_in_editor.py'>,\n",
      " 'prompt_toolkit.key_binding.bindings.page_navigation': <module 'prompt_toolkit.key_binding.bindings.page_navigation' from '/Users/jeffsong/opt/anaconda3/lib/python3.8/site-packages/prompt_toolkit/key_binding/bindings/page_navigation.py'>,\n",
      " 'prompt_toolkit.key_binding.bindings.scroll': <module 'prompt_toolkit.key_binding.bindings.scroll' from '/Users/jeffsong/opt/anaconda3/lib/python3.8/site-packages/prompt_toolkit/key_binding/bindings/scroll.py'>,\n",
      " 'prompt_toolkit.key_binding.bindings.vi': <module 'prompt_toolkit.key_binding.bindings.vi' from '/Users/jeffsong/opt/anaconda3/lib/python3.8/site-packages/prompt_toolkit/key_binding/bindings/vi.py'>,\n",
      " 'prompt_toolkit.key_binding.defaults': <module 'prompt_toolkit.key_binding.defaults' from '/Users/jeffsong/opt/anaconda3/lib/python3.8/site-packages/prompt_toolkit/key_binding/defaults.py'>,\n",
      " 'prompt_toolkit.key_binding.digraphs': <module 'prompt_toolkit.key_binding.digraphs' from '/Users/jeffsong/opt/anaconda3/lib/python3.8/site-packages/prompt_toolkit/key_binding/digraphs.py'>,\n",
      " 'prompt_toolkit.key_binding.emacs_state': <module 'prompt_toolkit.key_binding.emacs_state' from '/Users/jeffsong/opt/anaconda3/lib/python3.8/site-packages/prompt_toolkit/key_binding/emacs_state.py'>,\n",
      " 'prompt_toolkit.key_binding.key_bindings': <module 'prompt_toolkit.key_binding.key_bindings' from '/Users/jeffsong/opt/anaconda3/lib/python3.8/site-packages/prompt_toolkit/key_binding/key_bindings.py'>,\n",
      " 'prompt_toolkit.key_binding.key_processor': <module 'prompt_toolkit.key_binding.key_processor' from '/Users/jeffsong/opt/anaconda3/lib/python3.8/site-packages/prompt_toolkit/key_binding/key_processor.py'>,\n",
      " 'prompt_toolkit.key_binding.vi_state': <module 'prompt_toolkit.key_binding.vi_state' from '/Users/jeffsong/opt/anaconda3/lib/python3.8/site-packages/prompt_toolkit/key_binding/vi_state.py'>,\n",
      " 'prompt_toolkit.keys': <module 'prompt_toolkit.keys' from '/Users/jeffsong/opt/anaconda3/lib/python3.8/site-packages/prompt_toolkit/keys.py'>,\n",
      " 'prompt_toolkit.layout': <module 'prompt_toolkit.layout' from '/Users/jeffsong/opt/anaconda3/lib/python3.8/site-packages/prompt_toolkit/layout/__init__.py'>,\n",
      " 'prompt_toolkit.layout.containers': <module 'prompt_toolkit.layout.containers' from '/Users/jeffsong/opt/anaconda3/lib/python3.8/site-packages/prompt_toolkit/layout/containers.py'>,\n",
      " 'prompt_toolkit.layout.controls': <module 'prompt_toolkit.layout.controls' from '/Users/jeffsong/opt/anaconda3/lib/python3.8/site-packages/prompt_toolkit/layout/controls.py'>,\n",
      " 'prompt_toolkit.layout.dimension': <module 'prompt_toolkit.layout.dimension' from '/Users/jeffsong/opt/anaconda3/lib/python3.8/site-packages/prompt_toolkit/layout/dimension.py'>,\n",
      " 'prompt_toolkit.layout.dummy': <module 'prompt_toolkit.layout.dummy' from '/Users/jeffsong/opt/anaconda3/lib/python3.8/site-packages/prompt_toolkit/layout/dummy.py'>,\n",
      " 'prompt_toolkit.layout.layout': <module 'prompt_toolkit.layout.layout' from '/Users/jeffsong/opt/anaconda3/lib/python3.8/site-packages/prompt_toolkit/layout/layout.py'>,\n",
      " 'prompt_toolkit.layout.margins': <module 'prompt_toolkit.layout.margins' from '/Users/jeffsong/opt/anaconda3/lib/python3.8/site-packages/prompt_toolkit/layout/margins.py'>,\n",
      " 'prompt_toolkit.layout.menus': <module 'prompt_toolkit.layout.menus' from '/Users/jeffsong/opt/anaconda3/lib/python3.8/site-packages/prompt_toolkit/layout/menus.py'>,\n",
      " 'prompt_toolkit.layout.mouse_handlers': <module 'prompt_toolkit.layout.mouse_handlers' from '/Users/jeffsong/opt/anaconda3/lib/python3.8/site-packages/prompt_toolkit/layout/mouse_handlers.py'>,\n",
      " 'prompt_toolkit.layout.processors': <module 'prompt_toolkit.layout.processors' from '/Users/jeffsong/opt/anaconda3/lib/python3.8/site-packages/prompt_toolkit/layout/processors.py'>,\n",
      " 'prompt_toolkit.layout.screen': <module 'prompt_toolkit.layout.screen' from '/Users/jeffsong/opt/anaconda3/lib/python3.8/site-packages/prompt_toolkit/layout/screen.py'>,\n",
      " 'prompt_toolkit.layout.scrollable_pane': <module 'prompt_toolkit.layout.scrollable_pane' from '/Users/jeffsong/opt/anaconda3/lib/python3.8/site-packages/prompt_toolkit/layout/scrollable_pane.py'>,\n",
      " 'prompt_toolkit.layout.utils': <module 'prompt_toolkit.layout.utils' from '/Users/jeffsong/opt/anaconda3/lib/python3.8/site-packages/prompt_toolkit/layout/utils.py'>,\n",
      " 'prompt_toolkit.lexers': <module 'prompt_toolkit.lexers' from '/Users/jeffsong/opt/anaconda3/lib/python3.8/site-packages/prompt_toolkit/lexers/__init__.py'>,\n",
      " 'prompt_toolkit.lexers.base': <module 'prompt_toolkit.lexers.base' from '/Users/jeffsong/opt/anaconda3/lib/python3.8/site-packages/prompt_toolkit/lexers/base.py'>,\n",
      " 'prompt_toolkit.lexers.pygments': <module 'prompt_toolkit.lexers.pygments' from '/Users/jeffsong/opt/anaconda3/lib/python3.8/site-packages/prompt_toolkit/lexers/pygments.py'>,\n",
      " 'prompt_toolkit.mouse_events': <module 'prompt_toolkit.mouse_events' from '/Users/jeffsong/opt/anaconda3/lib/python3.8/site-packages/prompt_toolkit/mouse_events.py'>,\n",
      " 'prompt_toolkit.output': <module 'prompt_toolkit.output' from '/Users/jeffsong/opt/anaconda3/lib/python3.8/site-packages/prompt_toolkit/output/__init__.py'>,\n",
      " 'prompt_toolkit.output.base': <module 'prompt_toolkit.output.base' from '/Users/jeffsong/opt/anaconda3/lib/python3.8/site-packages/prompt_toolkit/output/base.py'>,\n",
      " 'prompt_toolkit.output.color_depth': <module 'prompt_toolkit.output.color_depth' from '/Users/jeffsong/opt/anaconda3/lib/python3.8/site-packages/prompt_toolkit/output/color_depth.py'>,\n",
      " 'prompt_toolkit.output.defaults': <module 'prompt_toolkit.output.defaults' from '/Users/jeffsong/opt/anaconda3/lib/python3.8/site-packages/prompt_toolkit/output/defaults.py'>,\n",
      " 'prompt_toolkit.output.vt100': <module 'prompt_toolkit.output.vt100' from '/Users/jeffsong/opt/anaconda3/lib/python3.8/site-packages/prompt_toolkit/output/vt100.py'>,\n",
      " 'prompt_toolkit.patch_stdout': <module 'prompt_toolkit.patch_stdout' from '/Users/jeffsong/opt/anaconda3/lib/python3.8/site-packages/prompt_toolkit/patch_stdout.py'>,\n",
      " 'prompt_toolkit.renderer': <module 'prompt_toolkit.renderer' from '/Users/jeffsong/opt/anaconda3/lib/python3.8/site-packages/prompt_toolkit/renderer.py'>,\n",
      " 'prompt_toolkit.search': <module 'prompt_toolkit.search' from '/Users/jeffsong/opt/anaconda3/lib/python3.8/site-packages/prompt_toolkit/search.py'>,\n",
      " 'prompt_toolkit.selection': <module 'prompt_toolkit.selection' from '/Users/jeffsong/opt/anaconda3/lib/python3.8/site-packages/prompt_toolkit/selection.py'>,\n",
      " 'prompt_toolkit.shortcuts': <module 'prompt_toolkit.shortcuts' from '/Users/jeffsong/opt/anaconda3/lib/python3.8/site-packages/prompt_toolkit/shortcuts/__init__.py'>,\n",
      " 'prompt_toolkit.shortcuts.dialogs': <module 'prompt_toolkit.shortcuts.dialogs' from '/Users/jeffsong/opt/anaconda3/lib/python3.8/site-packages/prompt_toolkit/shortcuts/dialogs.py'>,\n",
      " 'prompt_toolkit.shortcuts.progress_bar': <module 'prompt_toolkit.shortcuts.progress_bar' from '/Users/jeffsong/opt/anaconda3/lib/python3.8/site-packages/prompt_toolkit/shortcuts/progress_bar/__init__.py'>,\n",
      " 'prompt_toolkit.shortcuts.progress_bar.base': <module 'prompt_toolkit.shortcuts.progress_bar.base' from '/Users/jeffsong/opt/anaconda3/lib/python3.8/site-packages/prompt_toolkit/shortcuts/progress_bar/base.py'>,\n",
      " 'prompt_toolkit.shortcuts.progress_bar.formatters': <module 'prompt_toolkit.shortcuts.progress_bar.formatters' from '/Users/jeffsong/opt/anaconda3/lib/python3.8/site-packages/prompt_toolkit/shortcuts/progress_bar/formatters.py'>,\n",
      " 'prompt_toolkit.shortcuts.prompt': <module 'prompt_toolkit.shortcuts.prompt' from '/Users/jeffsong/opt/anaconda3/lib/python3.8/site-packages/prompt_toolkit/shortcuts/prompt.py'>,\n",
      " 'prompt_toolkit.shortcuts.utils': <module 'prompt_toolkit.shortcuts.utils' from '/Users/jeffsong/opt/anaconda3/lib/python3.8/site-packages/prompt_toolkit/shortcuts/utils.py'>,\n",
      " 'prompt_toolkit.styles': <module 'prompt_toolkit.styles' from '/Users/jeffsong/opt/anaconda3/lib/python3.8/site-packages/prompt_toolkit/styles/__init__.py'>,\n",
      " 'prompt_toolkit.styles.base': <module 'prompt_toolkit.styles.base' from '/Users/jeffsong/opt/anaconda3/lib/python3.8/site-packages/prompt_toolkit/styles/base.py'>,\n",
      " 'prompt_toolkit.styles.defaults': <module 'prompt_toolkit.styles.defaults' from '/Users/jeffsong/opt/anaconda3/lib/python3.8/site-packages/prompt_toolkit/styles/defaults.py'>,\n",
      " 'prompt_toolkit.styles.named_colors': <module 'prompt_toolkit.styles.named_colors' from '/Users/jeffsong/opt/anaconda3/lib/python3.8/site-packages/prompt_toolkit/styles/named_colors.py'>,\n",
      " 'prompt_toolkit.styles.pygments': <module 'prompt_toolkit.styles.pygments' from '/Users/jeffsong/opt/anaconda3/lib/python3.8/site-packages/prompt_toolkit/styles/pygments.py'>,\n",
      " 'prompt_toolkit.styles.style': <module 'prompt_toolkit.styles.style' from '/Users/jeffsong/opt/anaconda3/lib/python3.8/site-packages/prompt_toolkit/styles/style.py'>,\n",
      " 'prompt_toolkit.styles.style_transformation': <module 'prompt_toolkit.styles.style_transformation' from '/Users/jeffsong/opt/anaconda3/lib/python3.8/site-packages/prompt_toolkit/styles/style_transformation.py'>,\n",
      " 'prompt_toolkit.utils': <module 'prompt_toolkit.utils' from '/Users/jeffsong/opt/anaconda3/lib/python3.8/site-packages/prompt_toolkit/utils.py'>,\n",
      " 'prompt_toolkit.validation': <module 'prompt_toolkit.validation' from '/Users/jeffsong/opt/anaconda3/lib/python3.8/site-packages/prompt_toolkit/validation.py'>,\n",
      " 'prompt_toolkit.widgets': <module 'prompt_toolkit.widgets' from '/Users/jeffsong/opt/anaconda3/lib/python3.8/site-packages/prompt_toolkit/widgets/__init__.py'>,\n",
      " 'prompt_toolkit.widgets.base': <module 'prompt_toolkit.widgets.base' from '/Users/jeffsong/opt/anaconda3/lib/python3.8/site-packages/prompt_toolkit/widgets/base.py'>,\n",
      " 'prompt_toolkit.widgets.dialogs': <module 'prompt_toolkit.widgets.dialogs' from '/Users/jeffsong/opt/anaconda3/lib/python3.8/site-packages/prompt_toolkit/widgets/dialogs.py'>,\n",
      " 'prompt_toolkit.widgets.menus': <module 'prompt_toolkit.widgets.menus' from '/Users/jeffsong/opt/anaconda3/lib/python3.8/site-packages/prompt_toolkit/widgets/menus.py'>,\n",
      " 'prompt_toolkit.widgets.toolbars': <module 'prompt_toolkit.widgets.toolbars' from '/Users/jeffsong/opt/anaconda3/lib/python3.8/site-packages/prompt_toolkit/widgets/toolbars.py'>,\n",
      " 'pstats': <module 'pstats' from '/Users/jeffsong/opt/anaconda3/lib/python3.8/pstats.py'>,\n",
      " 'pty': <module 'pty' from '/Users/jeffsong/opt/anaconda3/lib/python3.8/pty.py'>,\n",
      " 'ptyprocess': <module 'ptyprocess' from '/Users/jeffsong/opt/anaconda3/lib/python3.8/site-packages/ptyprocess/__init__.py'>,\n",
      " 'ptyprocess.ptyprocess': <module 'ptyprocess.ptyprocess' from '/Users/jeffsong/opt/anaconda3/lib/python3.8/site-packages/ptyprocess/ptyprocess.py'>,\n",
      " 'ptyprocess.util': <module 'ptyprocess.util' from '/Users/jeffsong/opt/anaconda3/lib/python3.8/site-packages/ptyprocess/util.py'>,\n",
      " 'pwd': <module 'pwd' (built-in)>,\n",
      " 'pydev_ipython': <module 'pydev_ipython' from '/Users/jeffsong/opt/anaconda3/lib/python3.8/site-packages/debugpy/_vendored/pydevd/pydev_ipython/__init__.py'>,\n",
      " 'pydevconsole': <module 'pydevconsole' from '/Users/jeffsong/opt/anaconda3/lib/python3.8/site-packages/debugpy/_vendored/pydevd/pydevconsole.py'>,\n",
      " 'pydevd': <module 'pydevd' from '/Users/jeffsong/opt/anaconda3/lib/python3.8/site-packages/debugpy/_vendored/pydevd/pydevd.py'>,\n",
      " 'pydevd_concurrency_analyser': <module 'pydevd_concurrency_analyser' from '/Users/jeffsong/opt/anaconda3/lib/python3.8/site-packages/debugpy/_vendored/pydevd/pydevd_concurrency_analyser/__init__.py'>,\n",
      " 'pydevd_concurrency_analyser.pydevd_concurrency_logger': <module 'pydevd_concurrency_analyser.pydevd_concurrency_logger' from '/Users/jeffsong/opt/anaconda3/lib/python3.8/site-packages/debugpy/_vendored/pydevd/pydevd_concurrency_analyser/pydevd_concurrency_logger.py'>,\n",
      " 'pydevd_concurrency_analyser.pydevd_thread_wrappers': <module 'pydevd_concurrency_analyser.pydevd_thread_wrappers' from '/Users/jeffsong/opt/anaconda3/lib/python3.8/site-packages/debugpy/_vendored/pydevd/pydevd_concurrency_analyser/pydevd_thread_wrappers.py'>,\n",
      " 'pydevd_file_utils': <module 'pydevd_file_utils' from '/Users/jeffsong/opt/anaconda3/lib/python3.8/site-packages/debugpy/_vendored/pydevd/pydevd_file_utils.py'>,\n",
      " 'pydevd_plugins': <module 'pydevd_plugins' from '/Users/jeffsong/opt/anaconda3/lib/python3.8/site-packages/debugpy/_vendored/pydevd/pydevd_plugins/__init__.py'>,\n",
      " 'pydevd_plugins.django_debug': <module 'pydevd_plugins.django_debug' from '/Users/jeffsong/opt/anaconda3/lib/python3.8/site-packages/debugpy/_vendored/pydevd/pydevd_plugins/django_debug.py'>,\n",
      " 'pydevd_plugins.extensions': <module 'pydevd_plugins.extensions' from '/Users/jeffsong/opt/anaconda3/lib/python3.8/site-packages/debugpy/_vendored/pydevd/pydevd_plugins/extensions/__init__.py'>,\n",
      " 'pydevd_plugins.extensions.types': <module 'pydevd_plugins.extensions.types' from '/Users/jeffsong/opt/anaconda3/lib/python3.8/site-packages/debugpy/_vendored/pydevd/pydevd_plugins/extensions/types/__init__.py'>,\n",
      " 'pydevd_plugins.extensions.types.pydevd_helpers': <module 'pydevd_plugins.extensions.types.pydevd_helpers' from '/Users/jeffsong/opt/anaconda3/lib/python3.8/site-packages/debugpy/_vendored/pydevd/pydevd_plugins/extensions/types/pydevd_helpers.py'>,\n",
      " 'pydevd_plugins.extensions.types.pydevd_plugin_numpy_types': <module 'pydevd_plugins.extensions.types.pydevd_plugin_numpy_types' from '/Users/jeffsong/opt/anaconda3/lib/python3.8/site-packages/debugpy/_vendored/pydevd/pydevd_plugins/extensions/types/pydevd_plugin_numpy_types.py'>,\n",
      " 'pydevd_plugins.extensions.types.pydevd_plugins_django_form_str': <module 'pydevd_plugins.extensions.types.pydevd_plugins_django_form_str' from '/Users/jeffsong/opt/anaconda3/lib/python3.8/site-packages/debugpy/_vendored/pydevd/pydevd_plugins/extensions/types/pydevd_plugins_django_form_str.py'>,\n",
      " 'pydevd_plugins.jinja2_debug': <module 'pydevd_plugins.jinja2_debug' from '/Users/jeffsong/opt/anaconda3/lib/python3.8/site-packages/debugpy/_vendored/pydevd/pydevd_plugins/jinja2_debug.py'>,\n",
      " 'pydevd_tracing': <module 'pydevd_tracing' from '/Users/jeffsong/opt/anaconda3/lib/python3.8/site-packages/debugpy/_vendored/pydevd/pydevd_tracing.py'>,\n",
      " 'pydoc': <module 'pydoc' from '/Users/jeffsong/opt/anaconda3/lib/python3.8/pydoc.py'>,\n",
      " 'pydoc_data': <module 'pydoc_data' from '/Users/jeffsong/opt/anaconda3/lib/python3.8/pydoc_data/__init__.py'>,\n",
      " 'pydoc_data.topics': <module 'pydoc_data.topics' from '/Users/jeffsong/opt/anaconda3/lib/python3.8/pydoc_data/topics.py'>,\n",
      " 'pyexpat': <module 'pyexpat' from '/Users/jeffsong/opt/anaconda3/lib/python3.8/lib-dynload/pyexpat.cpython-38-darwin.so'>,\n",
      " 'pyexpat.errors': <module 'pyexpat.errors'>,\n",
      " 'pyexpat.model': <module 'pyexpat.model'>,\n",
      " 'pygments': <module 'pygments' from '/Users/jeffsong/opt/anaconda3/lib/python3.8/site-packages/pygments/__init__.py'>,\n",
      " 'pygments.filter': <module 'pygments.filter' from '/Users/jeffsong/opt/anaconda3/lib/python3.8/site-packages/pygments/filter.py'>,\n",
      " 'pygments.filters': <module 'pygments.filters' from '/Users/jeffsong/opt/anaconda3/lib/python3.8/site-packages/pygments/filters/__init__.py'>,\n",
      " 'pygments.formatter': <module 'pygments.formatter' from '/Users/jeffsong/opt/anaconda3/lib/python3.8/site-packages/pygments/formatter.py'>,\n",
      " 'pygments.formatters': <module 'pygments.formatters' from '/Users/jeffsong/opt/anaconda3/lib/python3.8/site-packages/pygments/formatters/__init__.py'>,\n",
      " 'pygments.formatters._mapping': <module 'pygments.formatters._mapping' from '/Users/jeffsong/opt/anaconda3/lib/python3.8/site-packages/pygments/formatters/_mapping.py'>,\n",
      " 'pygments.formatters.html': <module 'pygments.formatters.html' from '/Users/jeffsong/opt/anaconda3/lib/python3.8/site-packages/pygments/formatters/html.py'>,\n",
      " 'pygments.lexer': <module 'pygments.lexer' from '/Users/jeffsong/opt/anaconda3/lib/python3.8/site-packages/pygments/lexer.py'>,\n",
      " 'pygments.lexers': <module 'pygments.lexers' from '/Users/jeffsong/opt/anaconda3/lib/python3.8/site-packages/pygments/lexers/__init__.py'>,\n",
      " 'pygments.lexers._mapping': <module 'pygments.lexers._mapping' from '/Users/jeffsong/opt/anaconda3/lib/python3.8/site-packages/pygments/lexers/_mapping.py'>,\n",
      " 'pygments.lexers.python': <module 'pygments.lexers.python' from '/Users/jeffsong/opt/anaconda3/lib/python3.8/site-packages/pygments/lexers/python.py'>,\n",
      " 'pygments.modeline': <module 'pygments.modeline' from '/Users/jeffsong/opt/anaconda3/lib/python3.8/site-packages/pygments/modeline.py'>,\n",
      " 'pygments.plugin': <module 'pygments.plugin' from '/Users/jeffsong/opt/anaconda3/lib/python3.8/site-packages/pygments/plugin.py'>,\n",
      " 'pygments.regexopt': <module 'pygments.regexopt' from '/Users/jeffsong/opt/anaconda3/lib/python3.8/site-packages/pygments/regexopt.py'>,\n",
      " 'pygments.style': <module 'pygments.style' from '/Users/jeffsong/opt/anaconda3/lib/python3.8/site-packages/pygments/style.py'>,\n",
      " 'pygments.styles': <module 'pygments.styles' from '/Users/jeffsong/opt/anaconda3/lib/python3.8/site-packages/pygments/styles/__init__.py'>,\n",
      " 'pygments.token': <module 'pygments.token' from '/Users/jeffsong/opt/anaconda3/lib/python3.8/site-packages/pygments/token.py'>,\n",
      " 'pygments.unistring': <module 'pygments.unistring' from '/Users/jeffsong/opt/anaconda3/lib/python3.8/site-packages/pygments/unistring.py'>,\n",
      " 'pygments.util': <module 'pygments.util' from '/Users/jeffsong/opt/anaconda3/lib/python3.8/site-packages/pygments/util.py'>,\n",
      " 'queue': <module 'queue' from '/Users/jeffsong/opt/anaconda3/lib/python3.8/queue.py'>,\n",
      " 'quopri': <module 'quopri' from '/Users/jeffsong/opt/anaconda3/lib/python3.8/quopri.py'>,\n",
      " 'random': <module 'random' from '/Users/jeffsong/opt/anaconda3/lib/python3.8/random.py'>,\n",
      " 're': <module 're' from '/Users/jeffsong/opt/anaconda3/lib/python3.8/re.py'>,\n",
      " 'reprlib': <module 'reprlib' from '/Users/jeffsong/opt/anaconda3/lib/python3.8/reprlib.py'>,\n",
      " 'resource': <module 'resource' from '/Users/jeffsong/opt/anaconda3/lib/python3.8/lib-dynload/resource.cpython-38-darwin.so'>,\n",
      " 'runpy': <module 'runpy' from '/Users/jeffsong/opt/anaconda3/lib/python3.8/runpy.py'>,\n",
      " 'select': <module 'select' from '/Users/jeffsong/opt/anaconda3/lib/python3.8/lib-dynload/select.cpython-38-darwin.so'>,\n",
      " 'selectors': <module 'selectors' from '/Users/jeffsong/opt/anaconda3/lib/python3.8/selectors.py'>,\n",
      " 'shlex': <module 'shlex' from '/Users/jeffsong/opt/anaconda3/lib/python3.8/shlex.py'>,\n",
      " 'shutil': <module 'shutil' from '/Users/jeffsong/opt/anaconda3/lib/python3.8/shutil.py'>,\n",
      " 'signal': <module 'signal' from '/Users/jeffsong/opt/anaconda3/lib/python3.8/signal.py'>,\n",
      " 'site': <module 'site' from '/Users/jeffsong/opt/anaconda3/lib/python3.8/site.py'>,\n",
      " 'six': <module 'six' from '/Users/jeffsong/opt/anaconda3/lib/python3.8/site-packages/six.py'>,\n",
      " 'six.moves': <module 'six.moves' (<six._SixMetaPathImporter object at 0x7fc5c1388b50>)>,\n",
      " 'socket': <module 'socket' from '/Users/jeffsong/opt/anaconda3/lib/python3.8/socket.py'>,\n",
      " 'socketserver': <module 'socketserver' from '/Users/jeffsong/opt/anaconda3/lib/python3.8/socketserver.py'>,\n",
      " 'sphinxcontrib': <module 'sphinxcontrib' from '/Users/jeffsong/opt/anaconda3/lib/python3.8/site-packages/sphinxcontrib/__init__.py'>,\n",
      " 'sqlite3': <module 'sqlite3' from '/Users/jeffsong/opt/anaconda3/lib/python3.8/sqlite3/__init__.py'>,\n",
      " 'sqlite3.dbapi2': <module 'sqlite3.dbapi2' from '/Users/jeffsong/opt/anaconda3/lib/python3.8/sqlite3/dbapi2.py'>,\n",
      " 'sre_compile': <module 'sre_compile' from '/Users/jeffsong/opt/anaconda3/lib/python3.8/sre_compile.py'>,\n",
      " 'sre_constants': <module 'sre_constants' from '/Users/jeffsong/opt/anaconda3/lib/python3.8/sre_constants.py'>,\n",
      " 'sre_parse': <module 'sre_parse' from '/Users/jeffsong/opt/anaconda3/lib/python3.8/sre_parse.py'>,\n",
      " 'ssl': <module 'ssl' from '/Users/jeffsong/opt/anaconda3/lib/python3.8/ssl.py'>,\n",
      " 'stat': <module 'stat' from '/Users/jeffsong/opt/anaconda3/lib/python3.8/stat.py'>,\n",
      " 'storemagic': <module 'storemagic' from '/Users/jeffsong/opt/anaconda3/lib/python3.8/site-packages/IPython/extensions/storemagic.py'>,\n",
      " 'string': <module 'string' from '/Users/jeffsong/opt/anaconda3/lib/python3.8/string.py'>,\n",
      " 'stringprep': <module 'stringprep' from '/Users/jeffsong/opt/anaconda3/lib/python3.8/stringprep.py'>,\n",
      " 'struct': <module 'struct' from '/Users/jeffsong/opt/anaconda3/lib/python3.8/struct.py'>,\n",
      " 'subprocess': <module 'subprocess' from '/Users/jeffsong/opt/anaconda3/lib/python3.8/subprocess.py'>,\n",
      " 'sys': <module 'sys' (built-in)>,\n",
      " 'sysconfig': <module 'sysconfig' from '/Users/jeffsong/opt/anaconda3/lib/python3.8/sysconfig.py'>,\n",
      " 'tempfile': <module 'tempfile' from '/Users/jeffsong/opt/anaconda3/lib/python3.8/tempfile.py'>,\n",
      " 'termios': <module 'termios' from '/Users/jeffsong/opt/anaconda3/lib/python3.8/lib-dynload/termios.cpython-38-darwin.so'>,\n",
      " 'textwrap': <module 'textwrap' from '/Users/jeffsong/opt/anaconda3/lib/python3.8/textwrap.py'>,\n",
      " 'threading': <module 'threading' from '/Users/jeffsong/opt/anaconda3/lib/python3.8/threading.py'>,\n",
      " 'time': <module 'time' (built-in)>,\n",
      " 'timeit': <module 'timeit' from '/Users/jeffsong/opt/anaconda3/lib/python3.8/timeit.py'>,\n",
      " 'token': <module 'token' from '/Users/jeffsong/opt/anaconda3/lib/python3.8/token.py'>,\n",
      " 'tokenize': <module 'tokenize' from '/Users/jeffsong/opt/anaconda3/lib/python3.8/tokenize.py'>,\n",
      " 'tornado': <module 'tornado' from '/Users/jeffsong/opt/anaconda3/lib/python3.8/site-packages/tornado/__init__.py'>,\n",
      " 'tornado.concurrent': <module 'tornado.concurrent' from '/Users/jeffsong/opt/anaconda3/lib/python3.8/site-packages/tornado/concurrent.py'>,\n",
      " 'tornado.escape': <module 'tornado.escape' from '/Users/jeffsong/opt/anaconda3/lib/python3.8/site-packages/tornado/escape.py'>,\n",
      " 'tornado.gen': <module 'tornado.gen' from '/Users/jeffsong/opt/anaconda3/lib/python3.8/site-packages/tornado/gen.py'>,\n",
      " 'tornado.ioloop': <module 'tornado.ioloop' from '/Users/jeffsong/opt/anaconda3/lib/python3.8/site-packages/tornado/ioloop.py'>,\n",
      " 'tornado.locks': <module 'tornado.locks' from '/Users/jeffsong/opt/anaconda3/lib/python3.8/site-packages/tornado/locks.py'>,\n",
      " 'tornado.log': <module 'tornado.log' from '/Users/jeffsong/opt/anaconda3/lib/python3.8/site-packages/tornado/log.py'>,\n",
      " 'tornado.platform': <module 'tornado.platform' from '/Users/jeffsong/opt/anaconda3/lib/python3.8/site-packages/tornado/platform/__init__.py'>,\n",
      " 'tornado.platform.asyncio': <module 'tornado.platform.asyncio' from '/Users/jeffsong/opt/anaconda3/lib/python3.8/site-packages/tornado/platform/asyncio.py'>,\n",
      " 'tornado.queues': <module 'tornado.queues' from '/Users/jeffsong/opt/anaconda3/lib/python3.8/site-packages/tornado/queues.py'>,\n",
      " 'tornado.speedups': <module 'tornado.speedups' from '/Users/jeffsong/opt/anaconda3/lib/python3.8/site-packages/tornado/speedups.cpython-38-darwin.so'>,\n",
      " 'tornado.util': <module 'tornado.util' from '/Users/jeffsong/opt/anaconda3/lib/python3.8/site-packages/tornado/util.py'>,\n",
      " 'traceback': <module 'traceback' from '/Users/jeffsong/opt/anaconda3/lib/python3.8/traceback.py'>,\n",
      " 'traitlets': <module 'traitlets' from '/Users/jeffsong/opt/anaconda3/lib/python3.8/site-packages/traitlets/__init__.py'>,\n",
      " 'traitlets._version': <module 'traitlets._version' from '/Users/jeffsong/opt/anaconda3/lib/python3.8/site-packages/traitlets/_version.py'>,\n",
      " 'traitlets.config': <module 'traitlets.config' from '/Users/jeffsong/opt/anaconda3/lib/python3.8/site-packages/traitlets/config/__init__.py'>,\n",
      " 'traitlets.config.application': <module 'traitlets.config.application' from '/Users/jeffsong/opt/anaconda3/lib/python3.8/site-packages/traitlets/config/application.py'>,\n",
      " 'traitlets.config.configurable': <module 'traitlets.config.configurable' from '/Users/jeffsong/opt/anaconda3/lib/python3.8/site-packages/traitlets/config/configurable.py'>,\n",
      " 'traitlets.config.loader': <module 'traitlets.config.loader' from '/Users/jeffsong/opt/anaconda3/lib/python3.8/site-packages/traitlets/config/loader.py'>,\n",
      " 'traitlets.log': <module 'traitlets.log' from '/Users/jeffsong/opt/anaconda3/lib/python3.8/site-packages/traitlets/log.py'>,\n",
      " 'traitlets.traitlets': <module 'traitlets.traitlets' from '/Users/jeffsong/opt/anaconda3/lib/python3.8/site-packages/traitlets/traitlets.py'>,\n",
      " 'traitlets.utils': <module 'traitlets.utils' from '/Users/jeffsong/opt/anaconda3/lib/python3.8/site-packages/traitlets/utils/__init__.py'>,\n",
      " 'traitlets.utils.bunch': <module 'traitlets.utils.bunch' from '/Users/jeffsong/opt/anaconda3/lib/python3.8/site-packages/traitlets/utils/bunch.py'>,\n",
      " 'traitlets.utils.decorators': <module 'traitlets.utils.decorators' from '/Users/jeffsong/opt/anaconda3/lib/python3.8/site-packages/traitlets/utils/decorators.py'>,\n",
      " 'traitlets.utils.descriptions': <module 'traitlets.utils.descriptions' from '/Users/jeffsong/opt/anaconda3/lib/python3.8/site-packages/traitlets/utils/descriptions.py'>,\n",
      " 'traitlets.utils.getargspec': <module 'traitlets.utils.getargspec' from '/Users/jeffsong/opt/anaconda3/lib/python3.8/site-packages/traitlets/utils/getargspec.py'>,\n",
      " 'traitlets.utils.importstring': <module 'traitlets.utils.importstring' from '/Users/jeffsong/opt/anaconda3/lib/python3.8/site-packages/traitlets/utils/importstring.py'>,\n",
      " 'traitlets.utils.sentinel': <module 'traitlets.utils.sentinel' from '/Users/jeffsong/opt/anaconda3/lib/python3.8/site-packages/traitlets/utils/sentinel.py'>,\n",
      " 'traitlets.utils.text': <module 'traitlets.utils.text' from '/Users/jeffsong/opt/anaconda3/lib/python3.8/site-packages/traitlets/utils/text.py'>,\n",
      " 'tty': <module 'tty' from '/Users/jeffsong/opt/anaconda3/lib/python3.8/tty.py'>,\n",
      " 'types': <module 'types' from '/Users/jeffsong/opt/anaconda3/lib/python3.8/types.py'>,\n",
      " 'typing': <module 'typing' from '/Users/jeffsong/opt/anaconda3/lib/python3.8/typing.py'>,\n",
      " 'typing.io': <class 'typing.io'>,\n",
      " 'typing.re': <class 'typing.re'>,\n",
      " 'unicodedata': <module 'unicodedata' from '/Users/jeffsong/opt/anaconda3/lib/python3.8/lib-dynload/unicodedata.cpython-38-darwin.so'>,\n",
      " 'urllib': <module 'urllib' from '/Users/jeffsong/opt/anaconda3/lib/python3.8/urllib/__init__.py'>,\n",
      " 'urllib.error': <module 'urllib.error' from '/Users/jeffsong/opt/anaconda3/lib/python3.8/urllib/error.py'>,\n",
      " 'urllib.parse': <module 'urllib.parse' from '/Users/jeffsong/opt/anaconda3/lib/python3.8/urllib/parse.py'>,\n",
      " 'urllib.request': <module 'urllib.request' from '/Users/jeffsong/opt/anaconda3/lib/python3.8/urllib/request.py'>,\n",
      " 'urllib.response': <module 'urllib.response' from '/Users/jeffsong/opt/anaconda3/lib/python3.8/urllib/response.py'>,\n",
      " 'uu': <module 'uu' from '/Users/jeffsong/opt/anaconda3/lib/python3.8/uu.py'>,\n",
      " 'uuid': <module 'uuid' from '/Users/jeffsong/opt/anaconda3/lib/python3.8/uuid.py'>,\n",
      " 'warnings': <module 'warnings' from '/Users/jeffsong/opt/anaconda3/lib/python3.8/warnings.py'>,\n",
      " 'wcwidth': <module 'wcwidth' from '/Users/jeffsong/opt/anaconda3/lib/python3.8/site-packages/wcwidth/__init__.py'>,\n",
      " 'wcwidth.table_wide': <module 'wcwidth.table_wide' from '/Users/jeffsong/opt/anaconda3/lib/python3.8/site-packages/wcwidth/table_wide.py'>,\n",
      " 'wcwidth.table_zero': <module 'wcwidth.table_zero' from '/Users/jeffsong/opt/anaconda3/lib/python3.8/site-packages/wcwidth/table_zero.py'>,\n",
      " 'wcwidth.unicode_versions': <module 'wcwidth.unicode_versions' from '/Users/jeffsong/opt/anaconda3/lib/python3.8/site-packages/wcwidth/unicode_versions.py'>,\n",
      " 'wcwidth.wcwidth': <module 'wcwidth.wcwidth' from '/Users/jeffsong/opt/anaconda3/lib/python3.8/site-packages/wcwidth/wcwidth.py'>,\n",
      " 'weakref': <module 'weakref' from '/Users/jeffsong/opt/anaconda3/lib/python3.8/weakref.py'>,\n",
      " 'xml': <module 'xml' from '/Users/jeffsong/opt/anaconda3/lib/python3.8/xml/__init__.py'>,\n",
      " 'xml.dom': <module 'xml.dom' from '/Users/jeffsong/opt/anaconda3/lib/python3.8/xml/dom/__init__.py'>,\n",
      " 'xml.dom.NodeFilter': <module 'xml.dom.NodeFilter' from '/Users/jeffsong/opt/anaconda3/lib/python3.8/xml/dom/NodeFilter.py'>,\n",
      " 'xml.dom.domreg': <module 'xml.dom.domreg' from '/Users/jeffsong/opt/anaconda3/lib/python3.8/xml/dom/domreg.py'>,\n",
      " 'xml.dom.minicompat': <module 'xml.dom.minicompat' from '/Users/jeffsong/opt/anaconda3/lib/python3.8/xml/dom/minicompat.py'>,\n",
      " 'xml.dom.minidom': <module 'xml.dom.minidom' from '/Users/jeffsong/opt/anaconda3/lib/python3.8/xml/dom/minidom.py'>,\n",
      " 'xml.dom.xmlbuilder': <module 'xml.dom.xmlbuilder' from '/Users/jeffsong/opt/anaconda3/lib/python3.8/xml/dom/xmlbuilder.py'>,\n",
      " 'xml.parsers': <module 'xml.parsers' from '/Users/jeffsong/opt/anaconda3/lib/python3.8/xml/parsers/__init__.py'>,\n",
      " 'xml.parsers.expat': <module 'xml.parsers.expat' from '/Users/jeffsong/opt/anaconda3/lib/python3.8/xml/parsers/expat.py'>,\n",
      " 'xml.parsers.expat.errors': <module 'pyexpat.errors'>,\n",
      " 'xml.parsers.expat.model': <module 'pyexpat.model'>,\n",
      " 'xmlrpc': <module 'xmlrpc' from '/Users/jeffsong/opt/anaconda3/lib/python3.8/xmlrpc/__init__.py'>,\n",
      " 'xmlrpc.client': <module 'xmlrpc.client' from '/Users/jeffsong/opt/anaconda3/lib/python3.8/xmlrpc/client.py'>,\n",
      " 'xmlrpc.server': <module 'xmlrpc.server' from '/Users/jeffsong/opt/anaconda3/lib/python3.8/xmlrpc/server.py'>,\n",
      " 'zipfile': <module 'zipfile' from '/Users/jeffsong/opt/anaconda3/lib/python3.8/zipfile.py'>,\n",
      " 'zipimport': <module 'zipimport' (frozen)>,\n",
      " 'zlib': <module 'zlib' from '/Users/jeffsong/opt/anaconda3/lib/python3.8/lib-dynload/zlib.cpython-38-darwin.so'>,\n",
      " 'zmq': <module 'zmq' from '/Users/jeffsong/opt/anaconda3/lib/python3.8/site-packages/zmq/__init__.py'>,\n",
      " 'zmq._future': <module 'zmq._future' from '/Users/jeffsong/opt/anaconda3/lib/python3.8/site-packages/zmq/_future.py'>,\n",
      " 'zmq.asyncio': <module 'zmq.asyncio' from '/Users/jeffsong/opt/anaconda3/lib/python3.8/site-packages/zmq/asyncio.py'>,\n",
      " 'zmq.backend': <module 'zmq.backend' from '/Users/jeffsong/opt/anaconda3/lib/python3.8/site-packages/zmq/backend/__init__.py'>,\n",
      " 'zmq.backend.cython': <module 'zmq.backend.cython' from '/Users/jeffsong/opt/anaconda3/lib/python3.8/site-packages/zmq/backend/cython/__init__.py'>,\n",
      " 'zmq.backend.cython._device': <module 'zmq.backend.cython._device' from '/Users/jeffsong/opt/anaconda3/lib/python3.8/site-packages/zmq/backend/cython/_device.cpython-38-darwin.so'>,\n",
      " 'zmq.backend.cython._poll': <module 'zmq.backend.cython._poll' from '/Users/jeffsong/opt/anaconda3/lib/python3.8/site-packages/zmq/backend/cython/_poll.cpython-38-darwin.so'>,\n",
      " 'zmq.backend.cython._proxy_steerable': <module 'zmq.backend.cython._proxy_steerable' from '/Users/jeffsong/opt/anaconda3/lib/python3.8/site-packages/zmq/backend/cython/_proxy_steerable.cpython-38-darwin.so'>,\n",
      " 'zmq.backend.cython._version': <module 'zmq.backend.cython._version' from '/Users/jeffsong/opt/anaconda3/lib/python3.8/site-packages/zmq/backend/cython/_version.cpython-38-darwin.so'>,\n",
      " 'zmq.backend.cython.constants': <module 'zmq.backend.cython.constants' from '/Users/jeffsong/opt/anaconda3/lib/python3.8/site-packages/zmq/backend/cython/constants.cpython-38-darwin.so'>,\n",
      " 'zmq.backend.cython.context': <module 'zmq.backend.cython.context' from '/Users/jeffsong/opt/anaconda3/lib/python3.8/site-packages/zmq/backend/cython/context.cpython-38-darwin.so'>,\n",
      " 'zmq.backend.cython.error': <module 'zmq.backend.cython.error' from '/Users/jeffsong/opt/anaconda3/lib/python3.8/site-packages/zmq/backend/cython/error.cpython-38-darwin.so'>,\n",
      " 'zmq.backend.cython.message': <module 'zmq.backend.cython.message' from '/Users/jeffsong/opt/anaconda3/lib/python3.8/site-packages/zmq/backend/cython/message.cpython-38-darwin.so'>,\n",
      " 'zmq.backend.cython.socket': <module 'zmq.backend.cython.socket' from '/Users/jeffsong/opt/anaconda3/lib/python3.8/site-packages/zmq/backend/cython/socket.cpython-38-darwin.so'>,\n",
      " 'zmq.backend.cython.utils': <module 'zmq.backend.cython.utils' from '/Users/jeffsong/opt/anaconda3/lib/python3.8/site-packages/zmq/backend/cython/utils.cpython-38-darwin.so'>,\n",
      " 'zmq.backend.select': <module 'zmq.backend.select' from '/Users/jeffsong/opt/anaconda3/lib/python3.8/site-packages/zmq/backend/select.py'>,\n",
      " 'zmq.error': <module 'zmq.error' from '/Users/jeffsong/opt/anaconda3/lib/python3.8/site-packages/zmq/error.py'>,\n",
      " 'zmq.eventloop': <module 'zmq.eventloop' from '/Users/jeffsong/opt/anaconda3/lib/python3.8/site-packages/zmq/eventloop/__init__.py'>,\n",
      " 'zmq.eventloop.ioloop': <module 'zmq.eventloop.ioloop' from '/Users/jeffsong/opt/anaconda3/lib/python3.8/site-packages/zmq/eventloop/ioloop.py'>,\n",
      " 'zmq.eventloop.zmqstream': <module 'zmq.eventloop.zmqstream' from '/Users/jeffsong/opt/anaconda3/lib/python3.8/site-packages/zmq/eventloop/zmqstream.py'>,\n",
      " 'zmq.sugar': <module 'zmq.sugar' from '/Users/jeffsong/opt/anaconda3/lib/python3.8/site-packages/zmq/sugar/__init__.py'>,\n",
      " 'zmq.sugar.attrsettr': <module 'zmq.sugar.attrsettr' from '/Users/jeffsong/opt/anaconda3/lib/python3.8/site-packages/zmq/sugar/attrsettr.py'>,\n",
      " 'zmq.sugar.constants': <module 'zmq.sugar.constants' from '/Users/jeffsong/opt/anaconda3/lib/python3.8/site-packages/zmq/sugar/constants.py'>,\n",
      " 'zmq.sugar.context': <module 'zmq.sugar.context' from '/Users/jeffsong/opt/anaconda3/lib/python3.8/site-packages/zmq/sugar/context.py'>,\n",
      " 'zmq.sugar.frame': <module 'zmq.sugar.frame' from '/Users/jeffsong/opt/anaconda3/lib/python3.8/site-packages/zmq/sugar/frame.py'>,\n",
      " 'zmq.sugar.poll': <module 'zmq.sugar.poll' from '/Users/jeffsong/opt/anaconda3/lib/python3.8/site-packages/zmq/sugar/poll.py'>,\n",
      " 'zmq.sugar.socket': <module 'zmq.sugar.socket' from '/Users/jeffsong/opt/anaconda3/lib/python3.8/site-packages/zmq/sugar/socket.py'>,\n",
      " 'zmq.sugar.stopwatch': <module 'zmq.sugar.stopwatch' from '/Users/jeffsong/opt/anaconda3/lib/python3.8/site-packages/zmq/sugar/stopwatch.py'>,\n",
      " 'zmq.sugar.tracker': <module 'zmq.sugar.tracker' from '/Users/jeffsong/opt/anaconda3/lib/python3.8/site-packages/zmq/sugar/tracker.py'>,\n",
      " 'zmq.sugar.version': <module 'zmq.sugar.version' from '/Users/jeffsong/opt/anaconda3/lib/python3.8/site-packages/zmq/sugar/version.py'>,\n",
      " 'zmq.utils': <module 'zmq.utils' from '/Users/jeffsong/opt/anaconda3/lib/python3.8/site-packages/zmq/utils/__init__.py'>,\n",
      " 'zmq.utils.constant_names': <module 'zmq.utils.constant_names' from '/Users/jeffsong/opt/anaconda3/lib/python3.8/site-packages/zmq/utils/constant_names.py'>,\n",
      " 'zmq.utils.garbage': <module 'zmq.utils.garbage' from '/Users/jeffsong/opt/anaconda3/lib/python3.8/site-packages/zmq/utils/garbage.py'>,\n",
      " 'zmq.utils.jsonapi': <module 'zmq.utils.jsonapi' from '/Users/jeffsong/opt/anaconda3/lib/python3.8/site-packages/zmq/utils/jsonapi.py'>,\n",
      " 'zmq.utils.strtypes': <module 'zmq.utils.strtypes' from '/Users/jeffsong/opt/anaconda3/lib/python3.8/site-packages/zmq/utils/strtypes.py'>,\n",
      " 'zope': <module 'zope' from '/Users/jeffsong/opt/anaconda3/lib/python3.8/site-packages/zope/__init__.py'>}\n"
     ]
    }
   ],
   "source": [
    "pprint.pprint(sys.modules)"
   ]
  },
  {
   "cell_type": "code",
   "execution_count": 14,
   "id": "1215fe12",
   "metadata": {},
   "outputs": [
    {
     "data": {
      "text/plain": [
       "['/Users/jeffsong/opt/anaconda3/lib/python3.8/site-packages/ipykernel_launcher.py',\n",
       " '-f',\n",
       " '/Users/jeffsong/Library/Jupyter/runtime/kernel-1c2ecd2f-b1de-48d8-9c52-f035a55e297f.json']"
      ]
     },
     "execution_count": 14,
     "metadata": {},
     "output_type": "execute_result"
    }
   ],
   "source": [
    "sys.argv"
   ]
  },
  {
   "cell_type": "markdown",
   "id": "2fcde45d",
   "metadata": {},
   "source": [
    "## OS"
   ]
  },
  {
   "cell_type": "code",
   "execution_count": 16,
   "id": "8776d212",
   "metadata": {},
   "outputs": [
    {
     "data": {
      "text/plain": [
       "environ{'NVM_INC': '/Users/jeffsong/.nvm/versions/node/v14.17.0/include/node',\n",
       "        'MANPATH': '/Users/jeffsong/.nvm/versions/node/v14.17.0/share/man:/opt/homebrew/share/man::',\n",
       "        'TERM_PROGRAM': 'Apple_Terminal',\n",
       "        'NVM_CD_FLAGS': '-q',\n",
       "        'SHELL': '/bin/zsh',\n",
       "        'TERM': 'xterm-color',\n",
       "        'HOMEBREW_REPOSITORY': '/opt/homebrew',\n",
       "        'TMPDIR': '/var/folders/xx/71p9rsv91nbc399wdg2vnjrw0000gp/T/',\n",
       "        'CONDA_SHLVL': '1',\n",
       "        'CONDA_PROMPT_MODIFIER': '(base) ',\n",
       "        'TERM_PROGRAM_VERSION': '443',\n",
       "        'TERM_SESSION_ID': '89B9432A-7EAD-4D56-97CC-D264A07D149D',\n",
       "        'NVM_DIR': '/Users/jeffsong/.nvm',\n",
       "        'USER': 'jeffsong',\n",
       "        'HOMEBREW_SHELLENV_PREFIX': '/opt/homebrew',\n",
       "        'CONDA_EXE': '/Users/jeffsong/opt/anaconda3/bin/conda',\n",
       "        'SSH_AUTH_SOCK': '/private/tmp/com.apple.launchd.Hdvbjk30mn/Listeners',\n",
       "        '_CE_CONDA': '',\n",
       "        'PATH': '/Users/jeffsong/.nvm/versions/node/v14.17.0/bin:/Library/Frameworks/Python.framework/Versions/3.9/bin:/Users/jeffsong/opt/anaconda3/bin:/Users/jeffsong/opt/anaconda3/condabin:/opt/homebrew/bin:/opt/homebrew/sbin:/Library/Frameworks/Python.framework/Versions/3.9/bin:/usr/local/bin:/usr/bin:/bin:/usr/sbin:/sbin:/usr/local/go/bin:/Library/Apple/usr/bin:/usr/local/mysql/bin/:/Applications/Visual Studio Code.app/Contents/Resources/app/bin/:/usr/local/mongodb-macos-x86_64-4.4.8/bin',\n",
       "        'CONDA_PREFIX': '/Users/jeffsong/opt/anaconda3',\n",
       "        '__CFBundleIdentifier': 'com.apple.Terminal',\n",
       "        'PWD': '/Users/jeffsong',\n",
       "        'LANG': 'en_CA.UTF-8',\n",
       "        'XPC_FLAGS': '0x0',\n",
       "        '_CE_M': '',\n",
       "        'XPC_SERVICE_NAME': '0',\n",
       "        'SHLVL': '2',\n",
       "        'HOME': '/Users/jeffsong',\n",
       "        'HOMEBREW_PREFIX': '/opt/homebrew',\n",
       "        'CONDA_PYTHON_EXE': '/Users/jeffsong/opt/anaconda3/bin/python',\n",
       "        'LOGNAME': 'jeffsong',\n",
       "        'NVM_BIN': '/Users/jeffsong/.nvm/versions/node/v14.17.0/bin',\n",
       "        'CONDA_DEFAULT_ENV': 'base',\n",
       "        'INFOPATH': '/opt/homebrew/share/info:',\n",
       "        'HOMEBREW_CELLAR': '/opt/homebrew/Cellar',\n",
       "        '_': '/Users/jeffsong/opt/anaconda3/bin/jupyter-notebook',\n",
       "        'PYDEVD_USE_FRAME_EVAL': 'NO',\n",
       "        'JPY_PARENT_PID': '8032',\n",
       "        'CLICOLOR': '1',\n",
       "        'PAGER': 'cat',\n",
       "        'GIT_PAGER': 'cat',\n",
       "        'MPLBACKEND': 'module://matplotlib_inline.backend_inline'}"
      ]
     },
     "execution_count": 16,
     "metadata": {},
     "output_type": "execute_result"
    }
   ],
   "source": [
    "import os\n",
    "\n",
    "os.environ"
   ]
  },
  {
   "cell_type": "code",
   "execution_count": 18,
   "id": "bda9c772",
   "metadata": {},
   "outputs": [
    {
     "name": "stdout",
     "output_type": "stream",
     "text": [
      "total 128568\n",
      "drwxr-xr-x  26 jeffsong  staff       832 26 Jan 09:14 .\n",
      "drwxr-xr-x  17 jeffsong  staff       544  6 Nov 17:05 ..\n",
      "-rw-r--r--@  1 jeffsong  staff     16388 22 Jan 23:23 .DS_Store\n",
      "drwxr-xr-x  14 jeffsong  staff       448 26 Jul  2021 .git\n",
      "-rw-r--r--   1 jeffsong  staff         7  7 Apr  2021 .gitignore\n",
      "drwxr-xr-x  10 jeffsong  staff       320 20 Apr  2021 .idea\n",
      "drwxr-xr-x   5 jeffsong  staff       160 26 Jan 09:04 .ipynb_checkpoints\n",
      "-rw-r--r--@  1 jeffsong  staff     54605 25 Jan 21:57 8queens.pptx\n",
      "drwxrwxr-x@ 37 jeffsong  staff      1184 24 Feb  2021 PySimpleGUI-master\n",
      "-rw-r--r--@  1 jeffsong  staff  63307822 24 Feb  2021 PySimpleGUI-master.zip\n",
      "drwxr-xr-x  29 jeffsong  staff       928 16 Apr  2021 PythonProject\n",
      "-rw-r--r--   1 jeffsong  staff       285  7 Apr  2021 README.MD\n",
      "-rw-r--r--   1 jeffsong  staff       182  7 Apr  2021 Try_ContactsBook.py\n",
      "-rw-r--r--   1 jeffsong  staff        58 14 Apr  2021 Try_simplEquation.py\n",
      "-rw-r--r--   1 jeffsong  staff       162  7 Apr  2021 Try_simpleGUI.py\n",
      "-rw-r--r--   1 jeffsong  staff      8124 12 Jan 10:47 Untitled.ipynb\n",
      "-rw-r--r--   1 jeffsong  staff    150480 26 Jan 09:14 Untitled1.ipynb\n",
      "drwxr-xr-x   9 jeffsong  staff       288 20 Apr  2021 binaryFractionOperations\n",
      "drwxr-xr-x   6 jeffsong  staff       192  7 Apr  2021 contactsBook\n",
      "-rw-r--r--   1 jeffsong  staff   2244020 26 Jan 09:04 grokking-algorithms.ipynb\n",
      "-rw-r--r--   1 jeffsong  staff         4  7 Apr  2021 main.py\n",
      "drwxr-xr-x@ 12 jeffsong  staff       384 23 Feb  2021 progress-1.5\n",
      "-rw-r--r--@  1 jeffsong  staff      5842 23 Feb  2021 progress-1.5.tar.gz\n",
      "drwxr-xr-x   6 jeffsong  staff       192 15 Apr  2021 simplifyEquation\n",
      "drwxr-xr-x   9 jeffsong  staff       288  7 Apr  2021 simplyGUI\n",
      "drwxr-xr-x   7 jeffsong  staff       224 22 Jan 23:13 venv\n"
     ]
    },
    {
     "data": {
      "text/plain": [
       "0"
      ]
     },
     "execution_count": 18,
     "metadata": {},
     "output_type": "execute_result"
    }
   ],
   "source": [
    "os.system('ls -al') "
   ]
  },
  {
   "cell_type": "markdown",
   "id": "d479f1a3",
   "metadata": {},
   "source": [
    "## webbrowser"
   ]
  },
  {
   "cell_type": "code",
   "execution_count": 1,
   "id": "b5d4c506",
   "metadata": {},
   "outputs": [
    {
     "data": {
      "text/plain": [
       "True"
      ]
     },
     "execution_count": 1,
     "metadata": {},
     "output_type": "execute_result"
    }
   ],
   "source": [
    "import webbrowser\n",
    "\n",
    "webbrowser.open('http://www.python.org')"
   ]
  },
  {
   "cell_type": "markdown",
   "id": "bc76f9e5",
   "metadata": {},
   "source": [
    "## heapq"
   ]
  },
  {
   "cell_type": "code",
   "execution_count": 43,
   "id": "edb0da67",
   "metadata": {},
   "outputs": [],
   "source": [
    "from heapq import heapify, heappop, heappush, heapreplace, nlargest"
   ]
  },
  {
   "cell_type": "code",
   "execution_count": 34,
   "id": "54c1a4b9",
   "metadata": {},
   "outputs": [
    {
     "data": {
      "text/plain": [
       "[0, 1, 5, 3, 2, 7, 9, 8, 4, 6]"
      ]
     },
     "execution_count": 34,
     "metadata": {},
     "output_type": "execute_result"
    }
   ],
   "source": [
    "heap = [5, 8, 0, 3, 6, 7, 9, 1, 4, 2]\n",
    "heapify(heap)\n",
    "heap"
   ]
  },
  {
   "cell_type": "code",
   "execution_count": 35,
   "id": "588d8fae",
   "metadata": {},
   "outputs": [
    {
     "data": {
      "text/plain": [
       "[1, 2, 5, 3, 6, 7, 9, 8, 4]"
      ]
     },
     "execution_count": 35,
     "metadata": {},
     "output_type": "execute_result"
    }
   ],
   "source": [
    "heappop(heap)\n",
    "heap"
   ]
  },
  {
   "cell_type": "code",
   "execution_count": 38,
   "id": "45411457",
   "metadata": {},
   "outputs": [
    {
     "data": {
      "text/plain": [
       "1"
      ]
     },
     "execution_count": 38,
     "metadata": {},
     "output_type": "execute_result"
    }
   ],
   "source": [
    "heapreplace(heap,9)\n"
   ]
  },
  {
   "cell_type": "code",
   "execution_count": 39,
   "id": "2f13049e",
   "metadata": {},
   "outputs": [
    {
     "data": {
      "text/plain": [
       "[2, 3, 5, 4, 6, 7, 9, 8, 9]"
      ]
     },
     "execution_count": 39,
     "metadata": {},
     "output_type": "execute_result"
    }
   ],
   "source": [
    "heap"
   ]
  },
  {
   "cell_type": "code",
   "execution_count": 47,
   "id": "3b95b4f8",
   "metadata": {},
   "outputs": [
    {
     "data": {
      "text/plain": [
       "[9, 9, 8]"
      ]
     },
     "execution_count": 47,
     "metadata": {},
     "output_type": "execute_result"
    }
   ],
   "source": [
    "nlargest(3, heap)"
   ]
  },
  {
   "cell_type": "code",
   "execution_count": 48,
   "id": "6d22049e",
   "metadata": {},
   "outputs": [
    {
     "data": {
      "text/plain": [
       "['heappush',\n",
       " 'heappop',\n",
       " 'heapify',\n",
       " 'heapreplace',\n",
       " 'merge',\n",
       " 'nlargest',\n",
       " 'nsmallest',\n",
       " 'heappushpop']"
      ]
     },
     "execution_count": 48,
     "metadata": {},
     "output_type": "execute_result"
    }
   ],
   "source": [
    "heapq.__all__"
   ]
  },
  {
   "cell_type": "markdown",
   "id": "73eaec4c",
   "metadata": {},
   "source": [
    "## time & random"
   ]
  },
  {
   "cell_type": "code",
   "execution_count": 8,
   "id": "48af343a",
   "metadata": {},
   "outputs": [
    {
     "name": "stdout",
     "output_type": "stream",
     "text": [
      "Help on built-in function time in module time:\n",
      "\n",
      "time(...)\n",
      "    time() -> floating point number\n",
      "    \n",
      "    Return the current time in seconds since the Epoch.\n",
      "    Fractions of a second may be present if the system clock provides them.\n",
      "\n"
     ]
    }
   ],
   "source": [
    "from time import *\n",
    "from random import *\n",
    "help(time)"
   ]
  },
  {
   "cell_type": "code",
   "execution_count": 9,
   "id": "7fcae8db",
   "metadata": {},
   "outputs": [
    {
     "data": {
      "text/plain": [
       "1645465167.5398579"
      ]
     },
     "execution_count": 9,
     "metadata": {},
     "output_type": "execute_result"
    }
   ],
   "source": [
    "time()"
   ]
  },
  {
   "cell_type": "code",
   "execution_count": 10,
   "id": "ec4b984d",
   "metadata": {},
   "outputs": [
    {
     "data": {
      "text/plain": [
       "time.struct_time(tm_year=2022, tm_mon=2, tm_mday=21, tm_hour=17, tm_min=39, tm_sec=29, tm_wday=0, tm_yday=52, tm_isdst=0)"
      ]
     },
     "execution_count": 10,
     "metadata": {},
     "output_type": "execute_result"
    }
   ],
   "source": [
    "gmtime(time())"
   ]
  },
  {
   "cell_type": "code",
   "execution_count": 11,
   "id": "648918f2",
   "metadata": {},
   "outputs": [
    {
     "data": {
      "text/plain": [
       "time.struct_time(tm_year=2022, tm_mon=2, tm_mday=21, tm_hour=9, tm_min=39, tm_sec=33, tm_wday=0, tm_yday=52, tm_isdst=0)"
      ]
     },
     "execution_count": 11,
     "metadata": {},
     "output_type": "execute_result"
    }
   ],
   "source": [
    "localtime(time())"
   ]
  },
  {
   "cell_type": "code",
   "execution_count": 134,
   "id": "ccde1722",
   "metadata": {},
   "outputs": [
    {
     "data": {
      "text/plain": [
       "time.struct_time(tm_year=1970, tm_mon=1, tm_mday=1, tm_hour=8, tm_min=0, tm_sec=0, tm_wday=3, tm_yday=1, tm_isdst=0)"
      ]
     },
     "execution_count": 134,
     "metadata": {},
     "output_type": "execute_result"
    }
   ],
   "source": [
    "gmtime(mktime(gmtime(time())) - mktime(localtime(time())))"
   ]
  },
  {
   "cell_type": "code",
   "execution_count": 137,
   "id": "108eca85",
   "metadata": {},
   "outputs": [
    {
     "data": {
      "text/plain": [
       "1230796800.0"
      ]
     },
     "execution_count": 137,
     "metadata": {},
     "output_type": "execute_result"
    }
   ],
   "source": [
    "mktime((2009,1,1,0,0,0,-1,-1,-1))"
   ]
  },
  {
   "cell_type": "code",
   "execution_count": 61,
   "id": "41a74637",
   "metadata": {},
   "outputs": [
    {
     "data": {
      "text/plain": [
       "time.struct_time(tm_year=2022, tm_mon=1, tm_mday=26, tm_hour=10, tm_min=25, tm_sec=25, tm_wday=2, tm_yday=26, tm_isdst=0)"
      ]
     },
     "execution_count": 61,
     "metadata": {},
     "output_type": "execute_result"
    }
   ],
   "source": [
    "localtime()"
   ]
  },
  {
   "cell_type": "code",
   "execution_count": 62,
   "id": "396c776d",
   "metadata": {},
   "outputs": [
    {
     "data": {
      "text/plain": [
       "'Wed Jan 26 10:25:58 2022'"
      ]
     },
     "execution_count": 62,
     "metadata": {},
     "output_type": "execute_result"
    }
   ],
   "source": [
    "asctime()"
   ]
  },
  {
   "cell_type": "code",
   "execution_count": 87,
   "id": "30fe0e71",
   "metadata": {},
   "outputs": [
    {
     "data": {
      "text/plain": [
       "time.struct_time(tm_year=2022, tm_mon=1, tm_mday=26, tm_hour=10, tm_min=25, tm_sec=58, tm_wday=2, tm_yday=26, tm_isdst=-1)"
      ]
     },
     "execution_count": 87,
     "metadata": {},
     "output_type": "execute_result"
    }
   ],
   "source": [
    "strptime('Wed Jan 26 10:25:58 2022')"
   ]
  },
  {
   "cell_type": "code",
   "execution_count": 100,
   "id": "edf5a8c4",
   "metadata": {},
   "outputs": [
    {
     "data": {
      "text/plain": [
       "True"
      ]
     },
     "execution_count": 100,
     "metadata": {},
     "output_type": "execute_result"
    }
   ],
   "source": [
    "isinstance(strptime('Wed Jan 26 10:25:58 2022'), time.struct_time)"
   ]
  },
  {
   "cell_type": "code",
   "execution_count": 12,
   "id": "c03b4180",
   "metadata": {},
   "outputs": [
    {
     "data": {
      "text/plain": [
       "time.struct_time(tm_year=2022, tm_mon=1, tm_mday=26, tm_hour=10, tm_min=25, tm_sec=58, tm_wday=2, tm_yday=26, tm_isdst=-1)"
      ]
     },
     "execution_count": 12,
     "metadata": {},
     "output_type": "execute_result"
    }
   ],
   "source": [
    "strptime('Wed Jan 26 10:25:58 2022')"
   ]
  },
  {
   "cell_type": "code",
   "execution_count": 102,
   "id": "dc0574a9",
   "metadata": {},
   "outputs": [
    {
     "data": {
      "text/plain": [
       "0.7556266550393517"
      ]
     },
     "execution_count": 102,
     "metadata": {},
     "output_type": "execute_result"
    }
   ],
   "source": [
    "random()"
   ]
  },
  {
   "cell_type": "code",
   "execution_count": 147,
   "id": "ce69a380",
   "metadata": {},
   "outputs": [
    {
     "data": {
      "text/plain": [
       "'Thu Dec 31 12:20:56 2009'"
      ]
     },
     "execution_count": 147,
     "metadata": {},
     "output_type": "execute_result"
    }
   ],
   "source": [
    "asctime(localtime(uniform(mktime((2009,1,1,0,0,0,-1,-1,-1)),mktime((2010,1,1,0,0,0,-1,-1,-1)))))"
   ]
  },
  {
   "cell_type": "markdown",
   "id": "4752bc96",
   "metadata": {},
   "source": [
    "### deck of card"
   ]
  },
  {
   "cell_type": "code",
   "execution_count": 21,
   "id": "b9e33e48",
   "metadata": {},
   "outputs": [],
   "source": [
    "from time import *\n",
    "from random import *\n",
    "from pprint import pprint\n",
    "\n",
    "cards = list(range(1,11)) + 'Jack Queen King'.split()\n",
    "suits = 'diamonds,clubs,hearts,spades'.split(',')\n",
    "deck = [f'{card} of {suit}' for suit in suits for card in cards  ] + 'Jocker Jockie'.split()\n",
    "shuffle(deck)"
   ]
  },
  {
   "cell_type": "code",
   "execution_count": 22,
   "id": "ffe67aad",
   "metadata": {},
   "outputs": [
    {
     "data": {
      "text/plain": [
       "['9 of spades',\n",
       " 'Jockie',\n",
       " 'Jack of diamonds',\n",
       " 'Queen of spades',\n",
       " 'Queen of hearts',\n",
       " '3 of diamonds',\n",
       " '7 of diamonds',\n",
       " '2 of spades',\n",
       " 'King of spades',\n",
       " 'Queen of diamonds',\n",
       " '9 of clubs',\n",
       " '8 of clubs',\n",
       " '4 of spades',\n",
       " '2 of hearts',\n",
       " 'Jocker',\n",
       " '10 of clubs',\n",
       " 'King of diamonds',\n",
       " '5 of clubs',\n",
       " 'King of clubs',\n",
       " '3 of spades',\n",
       " '9 of hearts',\n",
       " '2 of clubs',\n",
       " '5 of diamonds',\n",
       " '6 of diamonds',\n",
       " '3 of clubs',\n",
       " '6 of spades',\n",
       " '6 of clubs',\n",
       " '1 of diamonds',\n",
       " '1 of hearts',\n",
       " '4 of clubs',\n",
       " '5 of hearts',\n",
       " '7 of hearts',\n",
       " '10 of diamonds',\n",
       " '7 of clubs',\n",
       " '1 of spades',\n",
       " '4 of diamonds',\n",
       " 'Queen of clubs',\n",
       " '10 of spades',\n",
       " '2 of diamonds',\n",
       " 'Jack of hearts',\n",
       " '3 of hearts',\n",
       " 'Jack of spades',\n",
       " '1 of clubs',\n",
       " '4 of hearts',\n",
       " 'King of hearts',\n",
       " '8 of hearts',\n",
       " '5 of spades',\n",
       " '6 of hearts',\n",
       " 'Jack of clubs',\n",
       " '8 of diamonds',\n",
       " '8 of spades',\n",
       " '10 of hearts',\n",
       " '7 of spades',\n",
       " '9 of diamonds']"
      ]
     },
     "execution_count": 22,
     "metadata": {},
     "output_type": "execute_result"
    }
   ],
   "source": [
    "deck"
   ]
  },
  {
   "cell_type": "code",
   "execution_count": 29,
   "id": "870877c1",
   "metadata": {},
   "outputs": [
    {
     "data": {
      "text/plain": [
       "'7 of diamonds'"
      ]
     },
     "execution_count": 29,
     "metadata": {},
     "output_type": "execute_result"
    }
   ],
   "source": [
    "choice(deck)"
   ]
  },
  {
   "cell_type": "markdown",
   "id": "1ccce6b8",
   "metadata": {},
   "source": [
    "## shelve"
   ]
  },
  {
   "cell_type": "code",
   "execution_count": 31,
   "id": "acd96ee7",
   "metadata": {},
   "outputs": [
    {
     "name": "stdout",
     "output_type": "stream",
     "text": [
      "Help on module shelve:\n",
      "\n",
      "NAME\n",
      "    shelve - Manage shelves of pickled objects.\n",
      "\n",
      "MODULE REFERENCE\n",
      "    https://docs.python.org/3.8/library/shelve\n",
      "    \n",
      "    The following documentation is automatically generated from the Python\n",
      "    source files.  It may be incomplete, incorrect or include features that\n",
      "    are considered implementation detail and may vary between Python\n",
      "    implementations.  When in doubt, consult the module reference at the\n",
      "    location listed above.\n",
      "\n",
      "DESCRIPTION\n",
      "    A \"shelf\" is a persistent, dictionary-like object.  The difference\n",
      "    with dbm databases is that the values (not the keys!) in a shelf can\n",
      "    be essentially arbitrary Python objects -- anything that the \"pickle\"\n",
      "    module can handle.  This includes most class instances, recursive data\n",
      "    types, and objects containing lots of shared sub-objects.  The keys\n",
      "    are ordinary strings.\n",
      "    \n",
      "    To summarize the interface (key is a string, data is an arbitrary\n",
      "    object):\n",
      "    \n",
      "            import shelve\n",
      "            d = shelve.open(filename) # open, with (g)dbm filename -- no suffix\n",
      "    \n",
      "            d[key] = data   # store data at key (overwrites old data if\n",
      "                            # using an existing key)\n",
      "            data = d[key]   # retrieve a COPY of the data at key (raise\n",
      "                            # KeyError if no such key) -- NOTE that this\n",
      "                            # access returns a *copy* of the entry!\n",
      "            del d[key]      # delete data stored at key (raises KeyError\n",
      "                            # if no such key)\n",
      "            flag = key in d # true if the key exists\n",
      "            list = d.keys() # a list of all existing keys (slow!)\n",
      "    \n",
      "            d.close()       # close it\n",
      "    \n",
      "    Dependent on the implementation, closing a persistent dictionary may\n",
      "    or may not be necessary to flush changes to disk.\n",
      "    \n",
      "    Normally, d[key] returns a COPY of the entry.  This needs care when\n",
      "    mutable entries are mutated: for example, if d[key] is a list,\n",
      "            d[key].append(anitem)\n",
      "    does NOT modify the entry d[key] itself, as stored in the persistent\n",
      "    mapping -- it only modifies the copy, which is then immediately\n",
      "    discarded, so that the append has NO effect whatsoever.  To append an\n",
      "    item to d[key] in a way that will affect the persistent mapping, use:\n",
      "            data = d[key]\n",
      "            data.append(anitem)\n",
      "            d[key] = data\n",
      "    \n",
      "    To avoid the problem with mutable entries, you may pass the keyword\n",
      "    argument writeback=True in the call to shelve.open.  When you use:\n",
      "            d = shelve.open(filename, writeback=True)\n",
      "    then d keeps a cache of all entries you access, and writes them all back\n",
      "    to the persistent mapping when you call d.close().  This ensures that\n",
      "    such usage as d[key].append(anitem) works as intended.\n",
      "    \n",
      "    However, using keyword argument writeback=True may consume vast amount\n",
      "    of memory for the cache, and it may make d.close() very slow, if you\n",
      "    access many of d's entries after opening it in this way: d has no way to\n",
      "    check which of the entries you access are mutable and/or which ones you\n",
      "    actually mutate, so it must cache, and write back at close, all of the\n",
      "    entries that you access.  You can call d.sync() to write back all the\n",
      "    entries in the cache, and empty the cache (d.sync() also synchronizes\n",
      "    the persistent dictionary on disk, if feasible).\n",
      "\n",
      "CLASSES\n",
      "    collections.abc.MutableMapping(collections.abc.Mapping)\n",
      "        Shelf\n",
      "            BsdDbShelf\n",
      "            DbfilenameShelf\n",
      "    \n",
      "    class BsdDbShelf(Shelf)\n",
      "     |  BsdDbShelf(dict, protocol=None, writeback=False, keyencoding='utf-8')\n",
      "     |  \n",
      "     |  Shelf implementation using the \"BSD\" db interface.\n",
      "     |  \n",
      "     |  This adds methods first(), next(), previous(), last() and\n",
      "     |  set_location() that have no counterpart in [g]dbm databases.\n",
      "     |  \n",
      "     |  The actual database must be opened using one of the \"bsddb\"\n",
      "     |  modules \"open\" routines (i.e. bsddb.hashopen, bsddb.btopen or\n",
      "     |  bsddb.rnopen) and passed to the constructor.\n",
      "     |  \n",
      "     |  See the module's __doc__ string for an overview of the interface.\n",
      "     |  \n",
      "     |  Method resolution order:\n",
      "     |      BsdDbShelf\n",
      "     |      Shelf\n",
      "     |      collections.abc.MutableMapping\n",
      "     |      collections.abc.Mapping\n",
      "     |      collections.abc.Collection\n",
      "     |      collections.abc.Sized\n",
      "     |      collections.abc.Iterable\n",
      "     |      collections.abc.Container\n",
      "     |      builtins.object\n",
      "     |  \n",
      "     |  Methods defined here:\n",
      "     |  \n",
      "     |  __init__(self, dict, protocol=None, writeback=False, keyencoding='utf-8')\n",
      "     |      Initialize self.  See help(type(self)) for accurate signature.\n",
      "     |  \n",
      "     |  first(self)\n",
      "     |  \n",
      "     |  last(self)\n",
      "     |  \n",
      "     |  next(self)\n",
      "     |  \n",
      "     |  previous(self)\n",
      "     |  \n",
      "     |  set_location(self, key)\n",
      "     |  \n",
      "     |  ----------------------------------------------------------------------\n",
      "     |  Data and other attributes defined here:\n",
      "     |  \n",
      "     |  __abstractmethods__ = frozenset()\n",
      "     |  \n",
      "     |  ----------------------------------------------------------------------\n",
      "     |  Methods inherited from Shelf:\n",
      "     |  \n",
      "     |  __contains__(self, key)\n",
      "     |  \n",
      "     |  __del__(self)\n",
      "     |  \n",
      "     |  __delitem__(self, key)\n",
      "     |  \n",
      "     |  __enter__(self)\n",
      "     |  \n",
      "     |  __exit__(self, type, value, traceback)\n",
      "     |  \n",
      "     |  __getitem__(self, key)\n",
      "     |  \n",
      "     |  __iter__(self)\n",
      "     |  \n",
      "     |  __len__(self)\n",
      "     |  \n",
      "     |  __setitem__(self, key, value)\n",
      "     |  \n",
      "     |  close(self)\n",
      "     |  \n",
      "     |  get(self, key, default=None)\n",
      "     |      D.get(k[,d]) -> D[k] if k in D, else d.  d defaults to None.\n",
      "     |  \n",
      "     |  sync(self)\n",
      "     |  \n",
      "     |  ----------------------------------------------------------------------\n",
      "     |  Data descriptors inherited from Shelf:\n",
      "     |  \n",
      "     |  __dict__\n",
      "     |      dictionary for instance variables (if defined)\n",
      "     |  \n",
      "     |  __weakref__\n",
      "     |      list of weak references to the object (if defined)\n",
      "     |  \n",
      "     |  ----------------------------------------------------------------------\n",
      "     |  Methods inherited from collections.abc.MutableMapping:\n",
      "     |  \n",
      "     |  clear(self)\n",
      "     |      D.clear() -> None.  Remove all items from D.\n",
      "     |  \n",
      "     |  pop(self, key, default=<object object at 0x7f827002c140>)\n",
      "     |      D.pop(k[,d]) -> v, remove specified key and return the corresponding value.\n",
      "     |      If key is not found, d is returned if given, otherwise KeyError is raised.\n",
      "     |  \n",
      "     |  popitem(self)\n",
      "     |      D.popitem() -> (k, v), remove and return some (key, value) pair\n",
      "     |      as a 2-tuple; but raise KeyError if D is empty.\n",
      "     |  \n",
      "     |  setdefault(self, key, default=None)\n",
      "     |      D.setdefault(k[,d]) -> D.get(k,d), also set D[k]=d if k not in D\n",
      "     |  \n",
      "     |  update(self, other=(), /, **kwds)\n",
      "     |      D.update([E, ]**F) -> None.  Update D from mapping/iterable E and F.\n",
      "     |      If E present and has a .keys() method, does:     for k in E: D[k] = E[k]\n",
      "     |      If E present and lacks .keys() method, does:     for (k, v) in E: D[k] = v\n",
      "     |      In either case, this is followed by: for k, v in F.items(): D[k] = v\n",
      "     |  \n",
      "     |  ----------------------------------------------------------------------\n",
      "     |  Methods inherited from collections.abc.Mapping:\n",
      "     |  \n",
      "     |  __eq__(self, other)\n",
      "     |      Return self==value.\n",
      "     |  \n",
      "     |  items(self)\n",
      "     |      D.items() -> a set-like object providing a view on D's items\n",
      "     |  \n",
      "     |  keys(self)\n",
      "     |      D.keys() -> a set-like object providing a view on D's keys\n",
      "     |  \n",
      "     |  values(self)\n",
      "     |      D.values() -> an object providing a view on D's values\n",
      "     |  \n",
      "     |  ----------------------------------------------------------------------\n",
      "     |  Data and other attributes inherited from collections.abc.Mapping:\n",
      "     |  \n",
      "     |  __hash__ = None\n",
      "     |  \n",
      "     |  __reversed__ = None\n",
      "     |  \n",
      "     |  ----------------------------------------------------------------------\n",
      "     |  Class methods inherited from collections.abc.Collection:\n",
      "     |  \n",
      "     |  __subclasshook__(C) from abc.ABCMeta\n",
      "     |      Abstract classes can override this to customize issubclass().\n",
      "     |      \n",
      "     |      This is invoked early on by abc.ABCMeta.__subclasscheck__().\n",
      "     |      It should return True, False or NotImplemented.  If it returns\n",
      "     |      NotImplemented, the normal algorithm is used.  Otherwise, it\n",
      "     |      overrides the normal algorithm (and the outcome is cached).\n",
      "    \n",
      "    class DbfilenameShelf(Shelf)\n",
      "     |  DbfilenameShelf(filename, flag='c', protocol=None, writeback=False)\n",
      "     |  \n",
      "     |  Shelf implementation using the \"dbm\" generic dbm interface.\n",
      "     |  \n",
      "     |  This is initialized with the filename for the dbm database.\n",
      "     |  See the module's __doc__ string for an overview of the interface.\n",
      "     |  \n",
      "     |  Method resolution order:\n",
      "     |      DbfilenameShelf\n",
      "     |      Shelf\n",
      "     |      collections.abc.MutableMapping\n",
      "     |      collections.abc.Mapping\n",
      "     |      collections.abc.Collection\n",
      "     |      collections.abc.Sized\n",
      "     |      collections.abc.Iterable\n",
      "     |      collections.abc.Container\n",
      "     |      builtins.object\n",
      "     |  \n",
      "     |  Methods defined here:\n",
      "     |  \n",
      "     |  __init__(self, filename, flag='c', protocol=None, writeback=False)\n",
      "     |      Initialize self.  See help(type(self)) for accurate signature.\n",
      "     |  \n",
      "     |  ----------------------------------------------------------------------\n",
      "     |  Data and other attributes defined here:\n",
      "     |  \n",
      "     |  __abstractmethods__ = frozenset()\n",
      "     |  \n",
      "     |  ----------------------------------------------------------------------\n",
      "     |  Methods inherited from Shelf:\n",
      "     |  \n",
      "     |  __contains__(self, key)\n",
      "     |  \n",
      "     |  __del__(self)\n",
      "     |  \n",
      "     |  __delitem__(self, key)\n",
      "     |  \n",
      "     |  __enter__(self)\n",
      "     |  \n",
      "     |  __exit__(self, type, value, traceback)\n",
      "     |  \n",
      "     |  __getitem__(self, key)\n",
      "     |  \n",
      "     |  __iter__(self)\n",
      "     |  \n",
      "     |  __len__(self)\n",
      "     |  \n",
      "     |  __setitem__(self, key, value)\n",
      "     |  \n",
      "     |  close(self)\n",
      "     |  \n",
      "     |  get(self, key, default=None)\n",
      "     |      D.get(k[,d]) -> D[k] if k in D, else d.  d defaults to None.\n",
      "     |  \n",
      "     |  sync(self)\n",
      "     |  \n",
      "     |  ----------------------------------------------------------------------\n",
      "     |  Data descriptors inherited from Shelf:\n",
      "     |  \n",
      "     |  __dict__\n",
      "     |      dictionary for instance variables (if defined)\n",
      "     |  \n",
      "     |  __weakref__\n",
      "     |      list of weak references to the object (if defined)\n",
      "     |  \n",
      "     |  ----------------------------------------------------------------------\n",
      "     |  Methods inherited from collections.abc.MutableMapping:\n",
      "     |  \n",
      "     |  clear(self)\n",
      "     |      D.clear() -> None.  Remove all items from D.\n",
      "     |  \n",
      "     |  pop(self, key, default=<object object at 0x7f827002c140>)\n",
      "     |      D.pop(k[,d]) -> v, remove specified key and return the corresponding value.\n",
      "     |      If key is not found, d is returned if given, otherwise KeyError is raised.\n",
      "     |  \n",
      "     |  popitem(self)\n",
      "     |      D.popitem() -> (k, v), remove and return some (key, value) pair\n",
      "     |      as a 2-tuple; but raise KeyError if D is empty.\n",
      "     |  \n",
      "     |  setdefault(self, key, default=None)\n",
      "     |      D.setdefault(k[,d]) -> D.get(k,d), also set D[k]=d if k not in D\n",
      "     |  \n",
      "     |  update(self, other=(), /, **kwds)\n",
      "     |      D.update([E, ]**F) -> None.  Update D from mapping/iterable E and F.\n",
      "     |      If E present and has a .keys() method, does:     for k in E: D[k] = E[k]\n",
      "     |      If E present and lacks .keys() method, does:     for (k, v) in E: D[k] = v\n",
      "     |      In either case, this is followed by: for k, v in F.items(): D[k] = v\n",
      "     |  \n",
      "     |  ----------------------------------------------------------------------\n",
      "     |  Methods inherited from collections.abc.Mapping:\n",
      "     |  \n",
      "     |  __eq__(self, other)\n",
      "     |      Return self==value.\n",
      "     |  \n",
      "     |  items(self)\n",
      "     |      D.items() -> a set-like object providing a view on D's items\n",
      "     |  \n",
      "     |  keys(self)\n",
      "     |      D.keys() -> a set-like object providing a view on D's keys\n",
      "     |  \n",
      "     |  values(self)\n",
      "     |      D.values() -> an object providing a view on D's values\n",
      "     |  \n",
      "     |  ----------------------------------------------------------------------\n",
      "     |  Data and other attributes inherited from collections.abc.Mapping:\n",
      "     |  \n",
      "     |  __hash__ = None\n",
      "     |  \n",
      "     |  __reversed__ = None\n",
      "     |  \n",
      "     |  ----------------------------------------------------------------------\n",
      "     |  Class methods inherited from collections.abc.Collection:\n",
      "     |  \n",
      "     |  __subclasshook__(C) from abc.ABCMeta\n",
      "     |      Abstract classes can override this to customize issubclass().\n",
      "     |      \n",
      "     |      This is invoked early on by abc.ABCMeta.__subclasscheck__().\n",
      "     |      It should return True, False or NotImplemented.  If it returns\n",
      "     |      NotImplemented, the normal algorithm is used.  Otherwise, it\n",
      "     |      overrides the normal algorithm (and the outcome is cached).\n",
      "    \n",
      "    class Shelf(collections.abc.MutableMapping)\n",
      "     |  Shelf(dict, protocol=None, writeback=False, keyencoding='utf-8')\n",
      "     |  \n",
      "     |  Base class for shelf implementations.\n",
      "     |  \n",
      "     |  This is initialized with a dictionary-like object.\n",
      "     |  See the module's __doc__ string for an overview of the interface.\n",
      "     |  \n",
      "     |  Method resolution order:\n",
      "     |      Shelf\n",
      "     |      collections.abc.MutableMapping\n",
      "     |      collections.abc.Mapping\n",
      "     |      collections.abc.Collection\n",
      "     |      collections.abc.Sized\n",
      "     |      collections.abc.Iterable\n",
      "     |      collections.abc.Container\n",
      "     |      builtins.object\n",
      "     |  \n",
      "     |  Methods defined here:\n",
      "     |  \n",
      "     |  __contains__(self, key)\n",
      "     |  \n",
      "     |  __del__(self)\n",
      "     |  \n",
      "     |  __delitem__(self, key)\n",
      "     |  \n",
      "     |  __enter__(self)\n",
      "     |  \n",
      "     |  __exit__(self, type, value, traceback)\n",
      "     |  \n",
      "     |  __getitem__(self, key)\n",
      "     |  \n",
      "     |  __init__(self, dict, protocol=None, writeback=False, keyencoding='utf-8')\n",
      "     |      Initialize self.  See help(type(self)) for accurate signature.\n",
      "     |  \n",
      "     |  __iter__(self)\n",
      "     |  \n",
      "     |  __len__(self)\n",
      "     |  \n",
      "     |  __setitem__(self, key, value)\n",
      "     |  \n",
      "     |  close(self)\n",
      "     |  \n",
      "     |  get(self, key, default=None)\n",
      "     |      D.get(k[,d]) -> D[k] if k in D, else d.  d defaults to None.\n",
      "     |  \n",
      "     |  sync(self)\n",
      "     |  \n",
      "     |  ----------------------------------------------------------------------\n",
      "     |  Data descriptors defined here:\n",
      "     |  \n",
      "     |  __dict__\n",
      "     |      dictionary for instance variables (if defined)\n",
      "     |  \n",
      "     |  __weakref__\n",
      "     |      list of weak references to the object (if defined)\n",
      "     |  \n",
      "     |  ----------------------------------------------------------------------\n",
      "     |  Data and other attributes defined here:\n",
      "     |  \n",
      "     |  __abstractmethods__ = frozenset()\n",
      "     |  \n",
      "     |  ----------------------------------------------------------------------\n",
      "     |  Methods inherited from collections.abc.MutableMapping:\n",
      "     |  \n",
      "     |  clear(self)\n",
      "     |      D.clear() -> None.  Remove all items from D.\n",
      "     |  \n",
      "     |  pop(self, key, default=<object object at 0x7f827002c140>)\n",
      "     |      D.pop(k[,d]) -> v, remove specified key and return the corresponding value.\n",
      "     |      If key is not found, d is returned if given, otherwise KeyError is raised.\n",
      "     |  \n",
      "     |  popitem(self)\n",
      "     |      D.popitem() -> (k, v), remove and return some (key, value) pair\n",
      "     |      as a 2-tuple; but raise KeyError if D is empty.\n",
      "     |  \n",
      "     |  setdefault(self, key, default=None)\n",
      "     |      D.setdefault(k[,d]) -> D.get(k,d), also set D[k]=d if k not in D\n",
      "     |  \n",
      "     |  update(self, other=(), /, **kwds)\n",
      "     |      D.update([E, ]**F) -> None.  Update D from mapping/iterable E and F.\n",
      "     |      If E present and has a .keys() method, does:     for k in E: D[k] = E[k]\n",
      "     |      If E present and lacks .keys() method, does:     for (k, v) in E: D[k] = v\n",
      "     |      In either case, this is followed by: for k, v in F.items(): D[k] = v\n",
      "     |  \n",
      "     |  ----------------------------------------------------------------------\n",
      "     |  Methods inherited from collections.abc.Mapping:\n",
      "     |  \n",
      "     |  __eq__(self, other)\n",
      "     |      Return self==value.\n",
      "     |  \n",
      "     |  items(self)\n",
      "     |      D.items() -> a set-like object providing a view on D's items\n",
      "     |  \n",
      "     |  keys(self)\n",
      "     |      D.keys() -> a set-like object providing a view on D's keys\n",
      "     |  \n",
      "     |  values(self)\n",
      "     |      D.values() -> an object providing a view on D's values\n",
      "     |  \n",
      "     |  ----------------------------------------------------------------------\n",
      "     |  Data and other attributes inherited from collections.abc.Mapping:\n",
      "     |  \n",
      "     |  __hash__ = None\n",
      "     |  \n",
      "     |  __reversed__ = None\n",
      "     |  \n",
      "     |  ----------------------------------------------------------------------\n",
      "     |  Class methods inherited from collections.abc.Collection:\n",
      "     |  \n",
      "     |  __subclasshook__(C) from abc.ABCMeta\n",
      "     |      Abstract classes can override this to customize issubclass().\n",
      "     |      \n",
      "     |      This is invoked early on by abc.ABCMeta.__subclasscheck__().\n",
      "     |      It should return True, False or NotImplemented.  If it returns\n",
      "     |      NotImplemented, the normal algorithm is used.  Otherwise, it\n",
      "     |      overrides the normal algorithm (and the outcome is cached).\n",
      "\n",
      "FUNCTIONS\n",
      "    open(filename, flag='c', protocol=None, writeback=False)\n",
      "        Open a persistent dictionary for reading and writing.\n",
      "        \n",
      "        The filename parameter is the base filename for the underlying\n",
      "        database.  As a side-effect, an extension may be added to the\n",
      "        filename and more than one file may be created.  The optional flag\n",
      "        parameter has the same interpretation as the flag parameter of\n",
      "        dbm.open(). The optional protocol parameter specifies the\n",
      "        version of the pickle protocol.\n",
      "        \n",
      "        See the module's __doc__ string for an overview of the interface.\n",
      "\n",
      "DATA\n",
      "    __all__ = ['Shelf', 'BsdDbShelf', 'DbfilenameShelf', 'open']\n",
      "\n",
      "FILE\n",
      "    /Users/jeffsong/opt/anaconda3/lib/python3.8/shelve.py\n",
      "\n",
      "\n"
     ]
    }
   ],
   "source": [
    "import shelve\n",
    "help(shelve)"
   ]
  },
  {
   "cell_type": "code",
   "execution_count": 32,
   "id": "ae2f0ed2",
   "metadata": {},
   "outputs": [],
   "source": [
    "s = shelve.open('test.dat')"
   ]
  },
  {
   "cell_type": "code",
   "execution_count": 33,
   "id": "1dc02a46",
   "metadata": {},
   "outputs": [
    {
     "data": {
      "text/plain": [
       "KeysView(<shelve.DbfilenameShelf object at 0x7f8239455670>)"
      ]
     },
     "execution_count": 33,
     "metadata": {},
     "output_type": "execute_result"
    }
   ],
   "source": [
    "s.keys()"
   ]
  },
  {
   "cell_type": "code",
   "execution_count": 34,
   "id": "db6eb742",
   "metadata": {},
   "outputs": [],
   "source": [
    "s['first'] = 'a'"
   ]
  },
  {
   "cell_type": "code",
   "execution_count": 35,
   "id": "35ec0285",
   "metadata": {},
   "outputs": [],
   "source": [
    "t = time\n",
    "s['second'] = ['a',1, t]"
   ]
  },
  {
   "cell_type": "code",
   "execution_count": 37,
   "id": "0d31e7a0",
   "metadata": {},
   "outputs": [
    {
     "data": {
      "text/plain": [
       "1645465473.603054"
      ]
     },
     "execution_count": 37,
     "metadata": {},
     "output_type": "execute_result"
    }
   ],
   "source": [
    "s['second'][2]()"
   ]
  },
  {
   "cell_type": "code",
   "execution_count": 38,
   "id": "900a8975",
   "metadata": {},
   "outputs": [],
   "source": [
    "s.close()"
   ]
  },
  {
   "cell_type": "code",
   "execution_count": 191,
   "id": "c0d4002a",
   "metadata": {},
   "outputs": [
    {
     "name": "stdout",
     "output_type": "stream",
     "text": [
      "please input:inp\n",
      "inp\n"
     ]
    }
   ],
   "source": [
    "str = input('please input:')\n",
    "print(str)"
   ]
  },
  {
   "cell_type": "markdown",
   "id": "6a5ecd79",
   "metadata": {},
   "source": [
    "## re"
   ]
  },
  {
   "cell_type": "code",
   "execution_count": 40,
   "id": "5428ef66",
   "metadata": {},
   "outputs": [
    {
     "name": "stdout",
     "output_type": "stream",
     "text": [
      "Help on built-in function compile in module builtins:\n",
      "\n",
      "compile(source, filename, mode, flags=0, dont_inherit=False, optimize=-1, *, _feature_version=-1)\n",
      "    Compile source into a code object that can be executed by exec() or eval().\n",
      "    \n",
      "    The source code may represent a Python module, statement or expression.\n",
      "    The filename will be used for run-time error messages.\n",
      "    The mode must be 'exec' to compile a module, 'single' to compile a\n",
      "    single (interactive) statement, or 'eval' to compile an expression.\n",
      "    The flags argument, if present, controls which future statements influence\n",
      "    the compilation of the code.\n",
      "    The dont_inherit argument, if true, stops the compilation inheriting\n",
      "    the effects of any future statements in effect in the code calling\n",
      "    compile; if absent or false these statements do influence the compilation,\n",
      "    in addition to any features explicitly specified.\n",
      "\n"
     ]
    }
   ],
   "source": [
    "import re\n",
    "\n",
    "help(compile)"
   ]
  },
  {
   "cell_type": "code",
   "execution_count": 20,
   "id": "cda61736",
   "metadata": {},
   "outputs": [
    {
     "data": {
      "text/plain": [
       "True"
      ]
     },
     "execution_count": 20,
     "metadata": {},
     "output_type": "execute_result"
    }
   ],
   "source": []
  },
  {
   "cell_type": "code",
   "execution_count": null,
   "id": "1c465e27",
   "metadata": {},
   "outputs": [],
   "source": [
    "# Matches fields enclosed in square brackets:\n",
    "field_pat = re.compile(r'\\[(.+?)\\]')\n",
    "# We'll collect variables in this:\n",
    "scope = {}\n",
    "# This is used in re.sub:\n",
    "def replacement(match):\n",
    "    code = match.group(1)\n",
    "    try:\n",
    "        # If the field can be evaluated, return it:\n",
    "        return str(eval(code, scope))\n",
    "    except SyntaxError:\n",
    "        # Otherwise, execute the assignment in the same scope ... exec code in scope\n",
    "        exec(code, scope)\n",
    "        # ... and return an empty string:\n",
    "        return ''\n",
    "# Get all the text as a single string:\n",
    "# (There are other ways of doing this; see Chapter 11)\n",
    "def main() :\n",
    "    lines = []\n",
    "    for line in fileinput.input():\n",
    "    lines.append(line)\n",
    "    text = ''.join(lines)\n",
    "    # Substitute all the occurrences of the field pattern:\n",
    "    print(field_pat.sub(replacement, text))\n",
    "\n",
    "if __name__ == '__main__':\n",
    "    main()\n"
   ]
  },
  {
   "cell_type": "code",
   "execution_count": 8,
   "id": "45ae1382",
   "metadata": {},
   "outputs": [
    {
     "name": "stdout",
     "output_type": "stream",
     "text": [
      "Help on built-in function eval in module builtins:\n",
      "\n",
      "eval(source, globals=None, locals=None, /)\n",
      "    Evaluate the given source in the context of globals and locals.\n",
      "    \n",
      "    The source may be a string representing a Python expression\n",
      "    or a code object as returned by compile().\n",
      "    The globals must be a dictionary and locals can be any mapping,\n",
      "    defaulting to the current globals and locals.\n",
      "    If only globals is given, locals defaults to it.\n",
      "\n"
     ]
    }
   ],
   "source": [
    "help(eval)"
   ]
  }
 ],
 "metadata": {
  "kernelspec": {
   "display_name": "Python 3 (ipykernel)",
   "language": "python",
   "name": "python3"
  },
  "language_info": {
   "codemirror_mode": {
    "name": "ipython",
    "version": 3
   },
   "file_extension": ".py",
   "mimetype": "text/x-python",
   "name": "python",
   "nbconvert_exporter": "python",
   "pygments_lexer": "ipython3",
   "version": "3.8.5"
  }
 },
 "nbformat": 4,
 "nbformat_minor": 5
}
