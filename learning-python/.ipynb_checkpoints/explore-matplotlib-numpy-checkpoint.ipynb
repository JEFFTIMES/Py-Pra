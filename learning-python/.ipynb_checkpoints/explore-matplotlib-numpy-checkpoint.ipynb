{
 "cells": [
  {
   "cell_type": "code",
   "execution_count": 124,
   "id": "38f2c3c2",
   "metadata": {},
   "outputs": [],
   "source": [
    "import matplotlib as mpl\n",
    "import matplotlib.pyplot as plt\n",
    "import numpy as np\n",
    "from pprint import pprint\n",
    "\n",
    "%matplotlib inline"
   ]
  },
  {
   "cell_type": "markdown",
   "id": "1c90fc38",
   "metadata": {},
   "source": [
    "`matplotlib.pyplot.figure(num=None, figsize=None, dpi=None, facecolor=None, edgecolor=None, frameon=True, FigureClass=<class 'matplotlib.figure.Figure'>, clear=False, **kwargs)[source]`"
   ]
  },
  {
   "cell_type": "code",
   "execution_count": 85,
   "id": "9083ac53",
   "metadata": {},
   "outputs": [
    {
     "data": {
      "text/plain": [
       "<Figure size 1800x1200 with 0 Axes>"
      ]
     },
     "metadata": {},
     "output_type": "display_data"
    },
    {
     "data": {
      "image/png": "[encoded data removed]",
      "text/plain": [
       "<Figure size 432x288 with 1 Axes>"
      ]
     },
     "metadata": {
      "needs_background": "light"
     },
     "output_type": "display_data"
    },
    {
     "data": {
      "image/png": "[encoded data removed]",
      "text/plain": [
       "<Figure size 432x288 with 4 Axes>"
      ]
     },
     "metadata": {
      "needs_background": "light"
     },
     "output_type": "display_data"
    }
   ],
   "source": [
    "fig0 = plt.figure(dpi=300)  # an empty figure with no Axes\n",
    "fig1, ax = plt.subplots()  # a figure with a single Axes\n",
    "fig2, axs = plt.subplots(2, 2)  # a figure with a 2x2 grid of Axes"
   ]
  },
  {
   "cell_type": "code",
   "execution_count": 128,
   "id": "3e500fca",
   "metadata": {},
   "outputs": [
    {
     "data": {
      "image/png": "[encoded data removed]",
      "text/plain": [
       "<Figure size 432x288 with 4 Axes>"
      ]
     },
     "metadata": {
      "needs_background": "light"
     },
     "output_type": "display_data"
    }
   ],
   "source": [
    "N = 400\n",
    "t = np.linspace(0, 2 * np.pi, N) # np.linespace(start, stop, N) sample the amount of N points from start to stop\n",
    "r = 0.5 + np.cos(t)\n",
    "x, y = r * np.cos(t), r * np.sin(t)\n",
    "\n",
    "fig, axes = plt.subplots(2,2) \n",
    "\n",
    "\n",
    "axes[0][0].plot(t,r) # ax.plot(x,y), the coordidation (x,y) of each point.\n",
    "axes[0][1].plot(x,y)\n",
    "axes[1][0].plot(t,x)\n",
    "axes[1][1].plot(t,y)\n",
    "\n",
    "#ax.set(aspect=1) # aspect=1 mean the same scale for both axis x and axis y\n",
    "for row in axes:\n",
    "    for ax in row:\n",
    "        ax.set(aspect=1)\n",
    "        "
   ]
  },
  {
   "cell_type": "code",
   "execution_count": 164,
   "id": "5867f5ba",
   "metadata": {},
   "outputs": [],
   "source": [
    "#from matplotlib.path import Path\n",
    "#from matplotlib.patches import PathPatch"
   ]
  },
  {
   "cell_type": "code",
   "execution_count": 187,
   "id": "41a37c07",
   "metadata": {},
   "outputs": [
    {
     "data": {
      "text/plain": [
       "array([[1., 4., 7.],\n",
       "       [2., 5., 8.],\n",
       "       [3., 6., 9.]])"
      ]
     },
     "execution_count": 187,
     "metadata": {},
     "output_type": "execute_result"
    }
   ],
   "source": [
    "a = np.array([[1, 2, 3], [4, 5, 6],[7,8,9]], float)\n",
    "[1,2,3] in a\n",
    "a.tolist()\n",
    "a.tobytes()\n",
    "a.T"
   ]
  },
  {
   "cell_type": "code",
   "execution_count": 238,
   "id": "02a2eaf1",
   "metadata": {},
   "outputs": [
    {
     "data": {
      "text/plain": [
       "array([[1., 2.],\n",
       "       [3., 4.],\n",
       "       [5., 6.],\n",
       "       [7., 8.]])"
      ]
     },
     "execution_count": 238,
     "metadata": {},
     "output_type": "execute_result"
    }
   ],
   "source": [
    "a = np.array([[1, 2], [3, 4]], float)\n",
    "b = np.array([[5, 6], [7,8]])\n",
    "np.concatenate((a,b), axis=1)\n",
    "np.concatenate((a,b), axis=0)"
   ]
  },
  {
   "cell_type": "code",
   "execution_count": 249,
   "id": "40253615",
   "metadata": {},
   "outputs": [
    {
     "data": {
      "text/plain": [
       "array([[[1.],\n",
       "        [2.]],\n",
       "\n",
       "       [[3.],\n",
       "        [4.]]])"
      ]
     },
     "execution_count": 249,
     "metadata": {},
     "output_type": "execute_result"
    }
   ],
   "source": [
    "c = a[:,:,np.newaxis,]\n",
    "c.shape\n",
    "c"
   ]
  },
  {
   "cell_type": "code",
   "execution_count": 208,
   "id": "75409e60",
   "metadata": {},
   "outputs": [
    {
     "data": {
      "text/plain": [
       "array([[1., 1.],\n",
       "       [1., 1.]])"
      ]
     },
     "execution_count": 208,
     "metadata": {},
     "output_type": "execute_result"
    }
   ],
   "source": [
    "np.zeros([4,4],dtype=float)\n",
    "np.zeros_like(a)\n",
    "np.ones_like(a)"
   ]
  },
  {
   "cell_type": "code",
   "execution_count": 216,
   "id": "dc8f3390",
   "metadata": {},
   "outputs": [
    {
     "data": {
      "text/plain": [
       "array([[0., 1., 0., 0.],\n",
       "       [0., 0., 1., 0.],\n",
       "       [0., 0., 0., 1.],\n",
       "       [0., 0., 0., 0.]])"
      ]
     },
     "execution_count": 216,
     "metadata": {},
     "output_type": "execute_result"
    }
   ],
   "source": [
    "np.identity(4)\n",
    "np.eye(4,k=1)"
   ]
  },
  {
   "cell_type": "code",
   "execution_count": 252,
   "id": "10ecb64e",
   "metadata": {},
   "outputs": [],
   "source": [
    "a = np.zeros((2,2), float)\n",
    "b = np.array([-1., 3.], float)"
   ]
  },
  {
   "cell_type": "code",
   "execution_count": 279,
   "id": "4cbe3940",
   "metadata": {},
   "outputs": [
    {
     "data": {
      "text/plain": [
       "array([[[-1.],\n",
       "        [ 3.]],\n",
       "\n",
       "       [[-1.],\n",
       "        [ 3.]]])"
      ]
     },
     "execution_count": 279,
     "metadata": {},
     "output_type": "execute_result"
    }
   ],
   "source": [
    "c = b[:,np.newaxis]\n",
    "a[:,:, np.newaxis,]+c\n"
   ]
  },
  {
   "cell_type": "code",
   "execution_count": 292,
   "id": "19a8b4e9",
   "metadata": {},
   "outputs": [
    {
     "name": "stdout",
     "output_type": "stream",
     "text": [
      "[[[0.]\n",
      "  [0.]]\n",
      "\n",
      " [[0.]\n",
      "  [0.]]]\n",
      "[[-1.  3.]]\n",
      "[[[-1.  3.]\n",
      "  [-1.  3.]]\n",
      "\n",
      " [[-1.  3.]\n",
      "  [-1.  3.]]]\n"
     ]
    }
   ],
   "source": [
    "c=b[np.newaxis]\n",
    "d = a[:,:,np.newaxis,]\n",
    "print(d)\n",
    "print(c)\n",
    "print(d+c)"
   ]
  },
  {
   "cell_type": "code",
   "execution_count": 305,
   "id": "da9b5fa1",
   "metadata": {},
   "outputs": [
    {
     "data": {
      "text/plain": [
       "array([1., 3., 5., 7., 9.])"
      ]
     },
     "execution_count": 305,
     "metadata": {},
     "output_type": "execute_result"
    }
   ],
   "source": [
    "a = np.array((1,3,5,7,9), float)\n",
    "a"
   ]
  },
  {
   "cell_type": "code",
   "execution_count": 309,
   "id": "5061497f",
   "metadata": {},
   "outputs": [
    {
     "data": {
      "text/plain": [
       "2.8284271247461903"
      ]
     },
     "execution_count": 309,
     "metadata": {},
     "output_type": "execute_result"
    }
   ],
   "source": [
    "a.mean()\n",
    "a.var()\n",
    "a.std()"
   ]
  },
  {
   "cell_type": "code",
   "execution_count": 311,
   "id": "97061768",
   "metadata": {},
   "outputs": [],
   "source": []
  },
  {
   "cell_type": "code",
   "execution_count": 320,
   "id": "6e3bcf35",
   "metadata": {},
   "outputs": [
    {
     "data": {
      "text/plain": [
       "array([7.01064859e-01, 9.26697308e-01, 6.27975605e-02, 5.70424869e-01,\n",
       "       5.97155058e-01, 2.58088415e-01, 6.90965046e-01, 1.81538921e-01,\n",
       "       3.49605125e-01, 4.22275183e-01, 9.31355658e-01, 4.96924657e-01,\n",
       "       6.48460848e-01, 4.66027893e-01, 4.80011111e-01, 2.11911400e-01,\n",
       "       3.97325218e-03, 7.17728115e-01, 8.89382771e-01, 4.05172864e-01,\n",
       "       9.99946501e-01, 1.73887299e-01, 5.30379364e-01, 3.48818837e-01,\n",
       "       8.82825218e-01, 7.05762535e-01, 2.89273724e-01, 5.93110624e-01,\n",
       "       2.83520607e-01, 7.62817534e-01, 3.07147350e-01, 9.33598989e-01,\n",
       "       9.92229851e-01, 2.19598171e-01, 8.97521473e-02, 8.49471976e-01,\n",
       "       3.86463640e-01, 3.77072718e-01, 3.94747888e-01, 5.52288722e-01,\n",
       "       2.44274018e-01, 3.48205690e-01, 1.52027712e-04, 4.91008079e-01,\n",
       "       2.25809239e-01, 5.02159610e-01, 2.20308271e-01, 1.88645435e-01,\n",
       "       9.21054376e-02, 7.53263334e-01])"
      ]
     },
     "execution_count": 320,
     "metadata": {},
     "output_type": "execute_result"
    }
   ],
   "source": [
    "np.random.seed(443)\n",
    "np.random.rand(50)"
   ]
  },
  {
   "cell_type": "code",
   "execution_count": 322,
   "id": "9bf3d53b",
   "metadata": {},
   "outputs": [
    {
     "data": {
      "text/plain": [
       "array([0.70106486, 0.92669731, 0.06279756, 0.57042487, 0.59715506,\n",
       "       0.25808841, 0.69096505, 0.18153892, 0.34960512, 0.42227518,\n",
       "       0.93135566, 0.49692466, 0.64846085, 0.46602789, 0.48001111,\n",
       "       0.2119114 , 0.00397325, 0.71772811, 0.88938277, 0.40517286,\n",
       "       0.9999465 , 0.1738873 , 0.53037936, 0.34881884, 0.88282522,\n",
       "       0.70576253, 0.28927372, 0.59311062, 0.28352061, 0.76281753])"
      ]
     },
     "execution_count": 322,
     "metadata": {},
     "output_type": "execute_result"
    }
   ],
   "source": [
    "np.random.seed(443)\n",
    "np.random.rand(30)"
   ]
  },
  {
   "cell_type": "code",
   "execution_count": null,
   "id": "ff43d42f",
   "metadata": {},
   "outputs": [],
   "source": []
  }
 ],
 "metadata": {
  "kernelspec": {
   "display_name": "Python 3 (ipykernel)",
   "language": "python",
   "name": "python3"
  },
  "language_info": {
   "codemirror_mode": {
    "name": "ipython",
    "version": 3
   },
   "file_extension": ".py",
   "mimetype": "text/x-python",
   "name": "python",
   "nbconvert_exporter": "python",
   "pygments_lexer": "ipython3",
   "version": "3.8.5"
  }
 },
 "nbformat": 4,
 "nbformat_minor": 5
}
